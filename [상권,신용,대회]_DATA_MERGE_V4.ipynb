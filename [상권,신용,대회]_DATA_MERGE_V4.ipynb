{
  "nbformat": 4,
  "nbformat_minor": 0,
  "metadata": {
    "colab": {
      "provenance": [],
      "machine_shape": "hm",
      "gpuType": "T4",
      "include_colab_link": true
    },
    "kernelspec": {
      "name": "python3",
      "display_name": "Python 3"
    },
    "language_info": {
      "name": "python"
    },
    "accelerator": "GPU"
  },
  "cells": [
    {
      "cell_type": "markdown",
      "metadata": {
        "id": "view-in-github",
        "colab_type": "text"
      },
      "source": [
        "<a href=\"https://colab.research.google.com/github/Gayeon6423/2023BigContest/blob/main/%5B%EC%83%81%EA%B6%8C%2C%EC%8B%A0%EC%9A%A9%2C%EB%8C%80%ED%9A%8C%5D_DATA_MERGE_V4.ipynb\" target=\"_parent\"><img src=\"https://colab.research.google.com/assets/colab-badge.svg\" alt=\"Open In Colab\"/></a>"
      ]
    },
    {
      "cell_type": "code",
      "source": [
        "# 라이브러리 임포트\n",
        "import pandas as pd\n",
        "import numpy as np\n",
        "import random\n",
        "import os"
      ],
      "metadata": {
        "id": "Re9co8jTShAg"
      },
      "execution_count": 3,
      "outputs": []
    },
    {
      "cell_type": "code",
      "execution_count": 4,
      "metadata": {
        "colab": {
          "base_uri": "https://localhost:8080/"
        },
        "id": "E2c6v83NRY2_",
        "outputId": "e27c3d39-a707-4aa0-e52e-1a6e89c28ef4"
      },
      "outputs": [
        {
          "output_type": "stream",
          "name": "stdout",
          "text": [
            "Mounted at /content/drive\n"
          ]
        }
      ],
      "source": [
        "# 구글 드라이브 임포트\n",
        "from google.colab import drive\n",
        "drive.mount('/content/drive')"
      ]
    },
    {
      "cell_type": "code",
      "source": [
        "# 시드 세팅\n",
        "def seed_everything(seed):\n",
        "    random.seed(seed)\n",
        "    os.environ['PYTHONHASHSEED'] = str(seed)\n",
        "    np.random.seed(seed)\n",
        "\n",
        "seed_everything(42) # Seed 고정\n",
        "\n",
        "# 경로 설정\n",
        "basic_file_path = '/content/drive/MyDrive/프로젝트/2023 빅콘테스트/data/'\n",
        "market_2022_file_path = '/content/drive/MyDrive/프로젝트/2023 빅콘테스트/data/상권_2022/'\n",
        "market_2023_file_path = '/content/drive/MyDrive/프로젝트/2023 빅콘테스트/data/상권_2023/'\n",
        "contest_file_path = '/content/drive/MyDrive/프로젝트/2023 빅콘테스트/data/contest data/'\n",
        "mrege_file_path = '/content/drive/MyDrive/프로젝트/2023 빅콘테스트/data/MERGE_DATA/'\n",
        "credict_file_path = '/content/drive/MyDrive/프로젝트/2023 빅콘테스트/data/DESILO_PLATFORM_DATA/'"
      ],
      "metadata": {
        "id": "PjsEXu6fTp72"
      },
      "execution_count": null,
      "outputs": []
    },
    {
      "cell_type": "markdown",
      "source": [
        "### 상권 데이터: 계절성 지수 기반 월 확장, 행정동 코드 추가"
      ],
      "metadata": {
        "id": "kRLbb4Y-54ZE"
      }
    },
    {
      "cell_type": "code",
      "source": [
        "# 데이터 불러오기\n",
        "## 상권 데이터\n",
        "MARKET_2022_GROUPED = pd.read_csv('/content/MARKET_2022_GROUPED_EXPAND.csv', encoding = 'cp949')\n",
        "MARKET_2023_GROUPED = pd.read_csv('/content/MARKET_2023_GROUPED_EXPAND.csv', encoding = 'cp949')\n",
        "\n",
        "## 신용 데이터\n",
        "KCD_2022_2023 = pd.read_csv('/content/SOHO_MERGE_DATA_LIST.csv')\n",
        "\n",
        "## 대회 데이터\n",
        "contest_2022 = pd.read_csv('/content/소상공인 매출등급 예상 대상 필지.csv', encoding = 'cp949')\n",
        "contest_2023 = pd.read_csv('/content/필지단위 소상공인 매출등급 정보.csv', encoding = 'cp949')\n",
        "\n",
        "# 상권코드-행정동코드 매핑 데이터\n",
        "market_loc_map = pd.read_csv('/content/market_loc_map.csv', encoding = 'cp949')"
      ],
      "metadata": {
        "id": "OaLA3QnsUvcW"
      },
      "execution_count": null,
      "outputs": []
    },
    {
      "cell_type": "code",
      "source": [
        "# 분기별 상권데이터를 소호 신용데이터를 활용하여 월별로 확장(계절성 지수)\n",
        "## 기준_분기_코드 칼럼의 값을 변경하여 월 칼럼 생성\n",
        "MARKET_2022_GROUPED['월'] = MARKET_2022_GROUPED['기준_분기_코드'].apply(lambda x: '1 2 3' if x == 1 else ('4 5 6' if x == 2 else ('7 8 9' if x == 3 else ('10 11 12' if x == 4 else x))))\n",
        "MARKET_2023_GROUPED['월'] = MARKET_2023_GROUPED['기준_분기_코드'].apply(lambda x:'1 2 3' if x == 1 else x)\n",
        "\n",
        "## '월' 칼럼의 값을 공백을 기준으로 분리\n",
        "MARKET_2022_GROUPED['월'] = MARKET_2022_GROUPED['월'].str.split()\n",
        "MARKET_2023_GROUPED['월'] = MARKET_2023_GROUPED['월'].str.split()\n",
        "\n",
        "## '월' 칼럼을 분리하기 위해 데이터프레임을 재구성\n",
        "tmp_2022 = pd.DataFrame({'기준_월_코드': np.concatenate(MARKET_2022_GROUPED['월'].values)})\n",
        "tmp_2023 = pd.DataFrame({'기준_월_코드': np.concatenate(MARKET_2023_GROUPED['월'].values)})\n",
        "\n",
        "## 데이터를 인덱스 기준으로 확장\n",
        "expand_mon_2022 = MARKET_2022_GROUPED.loc[MARKET_2022_GROUPED.index.repeat(3)].reset_index(drop=True)\n",
        "expand_mon_2022 = expand_mon_2022.drop(columns = '월')\n",
        "expand_mon_2023 = MARKET_2023_GROUPED.loc[MARKET_2023_GROUPED.index.repeat(3)].reset_index(drop=True)\n",
        "expand_mon_2023 = expand_mon_2023.drop(columns = '월')\n",
        "\n",
        "## 확장된 데이터 병합\n",
        "market_2022_mon = pd.concat([expand_mon_2022,tmp_2022],axis=1)\n",
        "market_2023_mon = pd.concat([expand_mon_2023,tmp_2023],axis=1)\n",
        "\n",
        "## DATA_CRTR_YM 칼럼 생성(기준년도+기준월)\n",
        "market_2022_mon['기준_월_코드'] = market_2022_mon['기준_월_코드'].apply(lambda x : '0' + x if len(x) == 1 else x)\n",
        "market_2023_mon['기준_월_코드'] = market_2023_mon['기준_월_코드'].apply(lambda x : '0' + x if len(x) == 1 else x)\n",
        "\n",
        "#market_2022_mon.iloc[:,0] = market_2022_mon['기준_년_코드'].astype('str') + market_2022_mon['기준_월_코드'].astype('str')\n",
        "market_2022_mon = market_2022_mon.rename(columns = {'기준_년_코드':'기준일자'})\n",
        "market_2022_mon['기준일자'] = market_2022_mon['기준일자'].astype('int64')\n",
        "\n",
        "# market_2023_mon.iloc[:,0] = market_2023_mon['기준_년_코드'].astype('str') + market_2023_mon['기준_월_코드'].astype('str')\n",
        "market_2023_mon = market_2023_mon.rename(columns = {'기준_년_코드':'기준일자'})\n",
        "market_2023_mon['기준일자'] = market_2023_mon['기준일자'].astype('int64')"
      ],
      "metadata": {
        "id": "K4rwVeT9J2s6"
      },
      "execution_count": null,
      "outputs": []
    },
    {
      "cell_type": "code",
      "source": [
        "## 신용데이터\n",
        "KCD_상권코드 = KCD_2022_2023[\"상권코드\"].unique().tolist()\n",
        "KCD_COLUMNS = KCD_2022_2023.columns.tolist()\n",
        "for column_name in ['Unnamed: 0','기준일자','상권_식별자','상권코드','상권명','외식업종_중분류','소상공인연령_평균','소상공인업력_평균']:\n",
        "    KCD_COLUMNS.remove(column_name)\n",
        "\n",
        "## 계절성 지수 계산\n",
        "SEASONAL_PATTERN = KCD_2022_2023.groupby([\"기준일자\"])[KCD_COLUMNS].mean()\n",
        "SEASONAL_PATTERN = SEASONAL_PATTERN / SEASONAL_PATTERN.mean()\n",
        "pd.set_option(\"display.max_column\", None)\n",
        "SEASONAL_PATTERN = SEASONAL_PATTERN.reset_index()\n",
        "\n",
        "## 계절성 지수 평균 값 계산\n",
        "SEASONAL_PATTERN_mean = SEASONAL_PATTERN[SEASONAL_PATTERN.iloc[:,1:].columns].mean(axis=1)\n",
        "SEASONAL_PATTERN['SEASEONAL_MEAN'] = SEASONAL_PATTERN_mean\n",
        "SEASONAL_PATTERN = SEASONAL_PATTERN[['기준일자','SEASEONAL_MEAN']]\n",
        "tmp_2022 = pd.merge(market_2022_mon, SEASONAL_PATTERN, on = ['기준일자'],how='left')\n",
        "tmp_2023 = pd.merge(market_2023_mon, SEASONAL_PATTERN, on = ['기준일자'],how='left')\n",
        "\n",
        "## 상권데이터 숫자형 칼럼에 계절성 지수 반영\n",
        "num_col_2022 = tmp_2022.select_dtypes(include='number').columns.tolist()\n",
        "num_col_2022 = [i for i in num_col_2022 if i not in ('기준일자','SEASEONAL_MEAN','기준_분기_코드','상권_코드','소득_구간_코드')]\n",
        "num_col_2023 = tmp_2023.select_dtypes(include='number').columns.tolist()\n",
        "num_col_2023 = [i for i in num_col_2023 if i not in ('기준일자','SEASEONAL_MEAN','기준_분기_코드','상권_코드','소득_구간_코드')]\n",
        "\n",
        "tmp_2022[num_col_2022] = tmp_2022[num_col_2022].mul(tmp_2022['SEASEONAL_MEAN_x'],axis=0)\n",
        "MARKET_2022_GROUPED_EXPAND = tmp_2022\n",
        "tmp_2023[num_col_2023] = tmp_2023[num_col_2023].mul(tmp_2023['SEASEONAL_MEAN_x'],axis=0)\n",
        "MARKET_2023_GROUPED_EXPAND = tmp_2023"
      ],
      "metadata": {
        "id": "7ixjPmu4dw51"
      },
      "execution_count": null,
      "outputs": []
    },
    {
      "cell_type": "code",
      "source": [
        "# 상권코드, 행정동 코드 매핑\n",
        "## 칼럼명 전처리\n",
        "market_loc_map_2022 = market_loc_map[['상권_코드_2022','행정동_코드','법정동_코드','STDG_EMD_CD']]\n",
        "market_loc_map_2022 = market_loc_map_2022.rename(columns = {'상권_코드_2022':'상권_코드'})\n",
        "\n",
        "market_loc_map_2023 = market_loc_map[['상권_코드_2023','행정동_코드','법정동_코드','STDG_EMD_CD']]\n",
        "market_loc_map_2023 = market_loc_map_2023.rename(columns = {'상권_코드_2023':'상권_코드'})\n",
        "\n",
        "## 상권 데이터, 행정동 데이터 병합\n",
        "MARKET_2022_GROUPED_EXPAND = pd.merge(MARKET_2022_GROUPED_EXPAND, market_loc_map_2022,on = ['상권_코드'], how='left')\n",
        "MARKET_2023_GROUPED_EXPAND = pd.merge(MARKET_2023_GROUPED_EXPAND, market_loc_map_2023, on = ['상권_코드'], how='left')\n",
        "\n",
        "## 중복 칼럼 제거\n",
        "MARKET_2022_GROUPED_EXPAND = MARKET_2022_GROUPED_EXPAND.loc[:,~MARKET_2022_GROUPED_EXPAND.columns.duplicated()]\n",
        "MARKET_2023_GROUPED_EXPAND = MARKET_2023_GROUPED_EXPAND.loc[:,~MARKET_2023_GROUPED_EXPAND.columns.duplicated()]\n",
        "MARKET_2022_GROUPED_EXPAND.drop(['행정동_코드_y','법정동_코드_y','STDG_EMD_CD_y'],axis=1)\n",
        "MARKET_2023_GROUPED_EXPAND.drop(['행정동_코드_y','법정동_코드_y','STDG_EMD_CD_y'],axis=1)\n",
        "MARKET_2022_GROUPED_EXPAND = MARKET_2022_GROUPED_EXPAND.rename(columns = {'행정동_코드_x':'행정동_코드','법정동_코드_x':'법정동_코드','STDG_EMD_CD_x':'STDG_EMD_CD'})\n",
        "MARKET_2023_GROUPED_EXPAND = MARKET_2023_GROUPED_EXPAND.rename(columns = {'행정동_코드_x':'행정동_코드','법정동_코드_x':'법정동_코드','STDG_EMD_CD_x':'STDG_EMD_CD'})\n",
        "\n",
        "## 중복 행 제거\n",
        "MARKET_2022_GROUPED_EXPAND.drop_duplicates(subset=['기준일자', '행정동_코드', '법정동_코드', 'STDG_EMD_CD'], keep='first', inplace=True)\n",
        "MARKET_2023_GROUPED_EXPAND.drop_duplicates(subset=['기준일자', '행정동_코드', '법정동_코드', 'STDG_EMD_CD'], keep='first', inplace=True)\n",
        "\n",
        "## 데이터 csv파일로 저장\n",
        "MARKET_2022_GROUPED_EXPAND.to_csv('MARKET_2022_GROUPED_EXPAND2.csv',encoding='euc-kr',index=False)\n",
        "MARKET_2023_GROUPED_EXPAND.to_csv('MARKET_2023_GROUPED_EXPAND2.csv',encoding='euc-kr',index=False)"
      ],
      "metadata": {
        "id": "egN3noakFedb"
      },
      "execution_count": null,
      "outputs": []
    },
    {
      "cell_type": "code",
      "source": [
        "MARKET_2022_GROUPED_EXPAND2 = pd.read_csv('/content/MARKET_2022_GROUPED_EXPAND2.csv', encoding = 'cp949')\n",
        "MARKET_2023_GROUPED_EXPAND2 = pd.read_csv('/content/MARKET_2023_GROUPED_EXPAND2.csv', encoding = 'cp949')"
      ],
      "metadata": {
        "id": "gujiiceo9-I6"
      },
      "execution_count": null,
      "outputs": []
    },
    {
      "cell_type": "markdown",
      "source": [
        "### 신용 데이터 : 행정동 코드 추가"
      ],
      "metadata": {
        "id": "DpWtQ7Tu52uh"
      }
    },
    {
      "cell_type": "code",
      "source": [
        "# 상권코드, 행정동 코드 매핑\n",
        "KCD_2022_2023['기준_년도_코드'] = KCD_2022_2023['기준일자'].astype('str').str[:4]\n",
        "credit_2022 = KCD_2022_2023[KCD_2022_2023['기준_년도_코드'] == '2022']\n",
        "credit_2023 = KCD_2022_2023[KCD_2022_2023['기준_년도_코드'] == '2023']\n",
        "\n",
        "## 칼럼명 전처리\n",
        "credit_2022 = credit_2022.rename(columns = {'상권코드':'상권_코드'})\n",
        "credit_2023 = credit_2023.rename(columns = {'상권코드':'상권_코드'})\n",
        "\n",
        "## 상권 데이터, 행정동 데이터 병합\n",
        "credit_2022 = pd.merge(credit_2022, market_loc_map_2022, on = ['상권_코드'], how='inner')\n",
        "credit_2023 = pd.merge(credit_2023, market_loc_map_2023, on = ['상권_코드'], how='inner')\n",
        "\n",
        "## 중복 칼럼 제거\n",
        "credit_2022 = credit_2022.loc[:,~credit_2022.columns.duplicated()]\n",
        "credit_2023 = credit_2023.loc[:,~credit_2023.columns.duplicated()]\n",
        "\n",
        "## 중복 행 제거\n",
        "# credit_2022.drop_duplicates(subset=['행정동_코드', '법정동_코드', 'STDG_EMD_CD'], keep='first', inplace=True)\n",
        "# credit_2023.drop_duplicates(subset=['행정동_코드', '법정동_코드', 'STDG_EMD_CD'], keep='first', inplace=True)\n",
        "credit_2022 = credit_2022.iloc[:,1:].rename(columns = {'기준일자':'DATA_CRTR_YM'})\n",
        "credit_2023 = credit_2023.iloc[:,1:].rename(columns = {'기준일자':'DATA_CRTR_YM'})\n",
        "\n",
        "# ## 데이터 csv파일로 저장\n",
        "# market_2022.to_csv('market_2022.csv',encoding='euc-kr',index=False)\n",
        "# market_2023.to_csv('market_2023.csv',encoding='euc-kr',index=False)"
      ],
      "metadata": {
        "id": "j20fPxrBvlzG"
      },
      "execution_count": null,
      "outputs": []
    },
    {
      "cell_type": "code",
      "source": [
        "credit_2023"
      ],
      "metadata": {
        "colab": {
          "base_uri": "https://localhost:8080/",
          "height": 292
        },
        "id": "mYK_uIX80Ctb",
        "outputId": "b9ab87b1-45f1-402e-b0a2-6833c0525509"
      },
      "execution_count": null,
      "outputs": [
        {
          "output_type": "execute_result",
          "data": {
            "text/plain": [
              "Empty DataFrame\n",
              "Columns: [DATA_CRTR_YM, 상권_식별자, 상권_코드, 상권명, 외식업종_중분류, 소호사업장_수, 경영위기사업장_총합, 프랜차이즈사업장_총합, 소상공인연령_평균, 소상공인업력_평균, 정규고용인원_평균, 사업장방문고객수_평균, 사업장방문신규고객수_평균, 매출액_변동계수, 카드매출액_변동계수, 배달매출액_변동계수, 주말카드매출액_변동계수, 주말배달매출액_변동계수, 매입액_변동계수, 매출총이익_변동계수, 부가가치세_변동계수, 부가세차감전영업이익_변동계수, 사업장방문고객수_변동계수, 사업장방문신규고객수_변동계수, 사업장임대면적_변동계수, 월임대료_변동계수, 임대보증금_변동계수, 손익분기점매출액_변동계수, 객단가_변동계수, 신규고객단가_변동계수, 기준_년도_코드, 행정동_코드, 법정동_코드, STDG_EMD_CD]\n",
              "Index: []"
            ],
            "text/html": [
              "\n",
              "  <div id=\"df-702eecbe-c331-481e-a3ce-649046b025c7\" class=\"colab-df-container\">\n",
              "    <div>\n",
              "<style scoped>\n",
              "    .dataframe tbody tr th:only-of-type {\n",
              "        vertical-align: middle;\n",
              "    }\n",
              "\n",
              "    .dataframe tbody tr th {\n",
              "        vertical-align: top;\n",
              "    }\n",
              "\n",
              "    .dataframe thead th {\n",
              "        text-align: right;\n",
              "    }\n",
              "</style>\n",
              "<table border=\"1\" class=\"dataframe\">\n",
              "  <thead>\n",
              "    <tr style=\"text-align: right;\">\n",
              "      <th></th>\n",
              "      <th>DATA_CRTR_YM</th>\n",
              "      <th>상권_식별자</th>\n",
              "      <th>상권_코드</th>\n",
              "      <th>상권명</th>\n",
              "      <th>외식업종_중분류</th>\n",
              "      <th>소호사업장_수</th>\n",
              "      <th>경영위기사업장_총합</th>\n",
              "      <th>프랜차이즈사업장_총합</th>\n",
              "      <th>소상공인연령_평균</th>\n",
              "      <th>소상공인업력_평균</th>\n",
              "      <th>정규고용인원_평균</th>\n",
              "      <th>사업장방문고객수_평균</th>\n",
              "      <th>사업장방문신규고객수_평균</th>\n",
              "      <th>매출액_변동계수</th>\n",
              "      <th>카드매출액_변동계수</th>\n",
              "      <th>배달매출액_변동계수</th>\n",
              "      <th>주말카드매출액_변동계수</th>\n",
              "      <th>주말배달매출액_변동계수</th>\n",
              "      <th>매입액_변동계수</th>\n",
              "      <th>매출총이익_변동계수</th>\n",
              "      <th>부가가치세_변동계수</th>\n",
              "      <th>부가세차감전영업이익_변동계수</th>\n",
              "      <th>사업장방문고객수_변동계수</th>\n",
              "      <th>사업장방문신규고객수_변동계수</th>\n",
              "      <th>사업장임대면적_변동계수</th>\n",
              "      <th>월임대료_변동계수</th>\n",
              "      <th>임대보증금_변동계수</th>\n",
              "      <th>손익분기점매출액_변동계수</th>\n",
              "      <th>객단가_변동계수</th>\n",
              "      <th>신규고객단가_변동계수</th>\n",
              "      <th>기준_년도_코드</th>\n",
              "      <th>행정동_코드</th>\n",
              "      <th>법정동_코드</th>\n",
              "      <th>STDG_EMD_CD</th>\n",
              "    </tr>\n",
              "  </thead>\n",
              "  <tbody>\n",
              "  </tbody>\n",
              "</table>\n",
              "</div>\n",
              "    <div class=\"colab-df-buttons\">\n",
              "\n",
              "  <div class=\"colab-df-container\">\n",
              "    <button class=\"colab-df-convert\" onclick=\"convertToInteractive('df-702eecbe-c331-481e-a3ce-649046b025c7')\"\n",
              "            title=\"Convert this dataframe to an interactive table.\"\n",
              "            style=\"display:none;\">\n",
              "\n",
              "  <svg xmlns=\"http://www.w3.org/2000/svg\" height=\"24px\" viewBox=\"0 -960 960 960\">\n",
              "    <path d=\"M120-120v-720h720v720H120Zm60-500h600v-160H180v160Zm220 220h160v-160H400v160Zm0 220h160v-160H400v160ZM180-400h160v-160H180v160Zm440 0h160v-160H620v160ZM180-180h160v-160H180v160Zm440 0h160v-160H620v160Z\"/>\n",
              "  </svg>\n",
              "    </button>\n",
              "\n",
              "  <style>\n",
              "    .colab-df-container {\n",
              "      display:flex;\n",
              "      gap: 12px;\n",
              "    }\n",
              "\n",
              "    .colab-df-convert {\n",
              "      background-color: #E8F0FE;\n",
              "      border: none;\n",
              "      border-radius: 50%;\n",
              "      cursor: pointer;\n",
              "      display: none;\n",
              "      fill: #1967D2;\n",
              "      height: 32px;\n",
              "      padding: 0 0 0 0;\n",
              "      width: 32px;\n",
              "    }\n",
              "\n",
              "    .colab-df-convert:hover {\n",
              "      background-color: #E2EBFA;\n",
              "      box-shadow: 0px 1px 2px rgba(60, 64, 67, 0.3), 0px 1px 3px 1px rgba(60, 64, 67, 0.15);\n",
              "      fill: #174EA6;\n",
              "    }\n",
              "\n",
              "    .colab-df-buttons div {\n",
              "      margin-bottom: 4px;\n",
              "    }\n",
              "\n",
              "    [theme=dark] .colab-df-convert {\n",
              "      background-color: #3B4455;\n",
              "      fill: #D2E3FC;\n",
              "    }\n",
              "\n",
              "    [theme=dark] .colab-df-convert:hover {\n",
              "      background-color: #434B5C;\n",
              "      box-shadow: 0px 1px 3px 1px rgba(0, 0, 0, 0.15);\n",
              "      filter: drop-shadow(0px 1px 2px rgba(0, 0, 0, 0.3));\n",
              "      fill: #FFFFFF;\n",
              "    }\n",
              "  </style>\n",
              "\n",
              "    <script>\n",
              "      const buttonEl =\n",
              "        document.querySelector('#df-702eecbe-c331-481e-a3ce-649046b025c7 button.colab-df-convert');\n",
              "      buttonEl.style.display =\n",
              "        google.colab.kernel.accessAllowed ? 'block' : 'none';\n",
              "\n",
              "      async function convertToInteractive(key) {\n",
              "        const element = document.querySelector('#df-702eecbe-c331-481e-a3ce-649046b025c7');\n",
              "        const dataTable =\n",
              "          await google.colab.kernel.invokeFunction('convertToInteractive',\n",
              "                                                    [key], {});\n",
              "        if (!dataTable) return;\n",
              "\n",
              "        const docLinkHtml = 'Like what you see? Visit the ' +\n",
              "          '<a target=\"_blank\" href=https://colab.research.google.com/notebooks/data_table.ipynb>data table notebook</a>'\n",
              "          + ' to learn more about interactive tables.';\n",
              "        element.innerHTML = '';\n",
              "        dataTable['output_type'] = 'display_data';\n",
              "        await google.colab.output.renderOutput(dataTable, element);\n",
              "        const docLink = document.createElement('div');\n",
              "        docLink.innerHTML = docLinkHtml;\n",
              "        element.appendChild(docLink);\n",
              "      }\n",
              "    </script>\n",
              "  </div>\n",
              "\n",
              "    </div>\n",
              "  </div>\n"
            ]
          },
          "metadata": {},
          "execution_count": 14
        }
      ]
    },
    {
      "cell_type": "code",
      "source": [
        "len(KCD_2022_2023)"
      ],
      "metadata": {
        "colab": {
          "base_uri": "https://localhost:8080/"
        },
        "id": "bW0uDSLdy1PQ",
        "outputId": "b89a06f3-4a4f-40b4-f353-31094d0bb059"
      },
      "execution_count": null,
      "outputs": [
        {
          "output_type": "execute_result",
          "data": {
            "text/plain": [
              "2692"
            ]
          },
          "metadata": {},
          "execution_count": 15
        }
      ]
    },
    {
      "cell_type": "code",
      "source": [
        "# 상권 데이터, 대회 데이터 병합(기준 날짜, 상권 코드 기준)\n",
        "\n",
        "## 문자형 -> 숫자형\n",
        "market_2022['DATA_CRTR_YM'] = market_2022['DATA_CRTR_YM'].astype('int64')\n",
        "market_2023['DATA_CRTR_YM'] = market_2023['DATA_CRTR_YM'].astype('int64')\n",
        "\n",
        "## 상권 데이터, 대회 데이터 병합\n",
        "market_contest_2022 = pd.merge(market_2022, contest_2022, on = ['DATA_CRTR_YM','STDG_EMD_CD'], how='right')\n",
        "market_contest_2023 = pd.merge(market_2023, contest_2023, on = ['STDG_EMD_CD'], how='right')\n",
        "\n",
        "## 중복 칼럼 제거\n",
        "market_contest_2022 = market_contest_2022.loc[:,~market_contest_2022.columns.duplicated()]\n",
        "market_contest_2023 = market_contest_2023.loc[:,~market_contest_2023.columns.duplicated()]\n",
        "\n",
        "## 중복 행 제거\n",
        "market_contest_2022.drop_duplicates(subset=['DATA_CRTR_YM','LT_UNQ_NO','INDUSTRY_CD','STDG_EMD_CD'], keep='first', inplace=True)\n",
        "market_contest_2023.drop_duplicates(subset=['LT_UNQ_NO','INDUSTRY_CD','STDG_EMD_CD'], keep='first', inplace=True)\n",
        "\n",
        "## 고유 id 생성\n",
        "market_contest_2022['id'] = market_contest_2022['DATA_CRTR_YM'].astype('str') + market_contest_2022['LT_UNQ_NO'].astype('str') + market_contest_2022['STDG_EMD_CD'].astype('str') + market_contest_2022['INDUSTRY_CD'].astype('str')\n",
        "market_contest_2023['id'] = market_contest_2023['LT_UNQ_NO'].astype('str') + market_contest_2023['STDG_EMD_CD'].astype('str') + market_contest_2023['INDUSTRY_CD'].astype('str')\n",
        "\n",
        "## 데이터 csv파일로 저장\n",
        "market_contest_2022.to_csv('market_contest_2022.csv',encoding='euc-kr',index=False)\n",
        "market_contest_2023.to_csv('market_contest_2023.csv',encoding='euc-kr',index=False)"
      ],
      "metadata": {
        "id": "X3PP_YavZBXU",
        "colab": {
          "base_uri": "https://localhost:8080/",
          "height": 254
        },
        "outputId": "0d5b87b1-2f63-430f-817d-5f5f869da5ed"
      },
      "execution_count": null,
      "outputs": [
        {
          "output_type": "error",
          "ename": "NameError",
          "evalue": "ignored",
          "traceback": [
            "\u001b[0;31m---------------------------------------------------------------------------\u001b[0m",
            "\u001b[0;31mNameError\u001b[0m                                 Traceback (most recent call last)",
            "\u001b[0;32m<ipython-input-16-7f879d19c74d>\u001b[0m in \u001b[0;36m<cell line: 4>\u001b[0;34m()\u001b[0m\n\u001b[1;32m      2\u001b[0m \u001b[0;34m\u001b[0m\u001b[0m\n\u001b[1;32m      3\u001b[0m \u001b[0;31m## 문자형 -> 숫자형\u001b[0m\u001b[0;34m\u001b[0m\u001b[0;34m\u001b[0m\u001b[0m\n\u001b[0;32m----> 4\u001b[0;31m \u001b[0mmarket_2022\u001b[0m\u001b[0;34m[\u001b[0m\u001b[0;34m'DATA_CRTR_YM'\u001b[0m\u001b[0;34m]\u001b[0m \u001b[0;34m=\u001b[0m \u001b[0mmarket_2022\u001b[0m\u001b[0;34m[\u001b[0m\u001b[0;34m'DATA_CRTR_YM'\u001b[0m\u001b[0;34m]\u001b[0m\u001b[0;34m.\u001b[0m\u001b[0mastype\u001b[0m\u001b[0;34m(\u001b[0m\u001b[0;34m'int64'\u001b[0m\u001b[0;34m)\u001b[0m\u001b[0;34m\u001b[0m\u001b[0;34m\u001b[0m\u001b[0m\n\u001b[0m\u001b[1;32m      5\u001b[0m \u001b[0mmarket_2023\u001b[0m\u001b[0;34m[\u001b[0m\u001b[0;34m'DATA_CRTR_YM'\u001b[0m\u001b[0;34m]\u001b[0m \u001b[0;34m=\u001b[0m \u001b[0mmarket_2023\u001b[0m\u001b[0;34m[\u001b[0m\u001b[0;34m'DATA_CRTR_YM'\u001b[0m\u001b[0;34m]\u001b[0m\u001b[0;34m.\u001b[0m\u001b[0mastype\u001b[0m\u001b[0;34m(\u001b[0m\u001b[0;34m'int64'\u001b[0m\u001b[0;34m)\u001b[0m\u001b[0;34m\u001b[0m\u001b[0;34m\u001b[0m\u001b[0m\n\u001b[1;32m      6\u001b[0m \u001b[0;34m\u001b[0m\u001b[0m\n",
            "\u001b[0;31mNameError\u001b[0m: name 'market_2022' is not defined"
          ]
        }
      ]
    },
    {
      "cell_type": "code",
      "source": [
        "## 상권, 신용, 대회 데이터 병합\n",
        "# total_df_2022 = pd.merge(credit_df,market_contest_2022,right_index=True, left_index=True, how='inner')\n",
        "# total_df_2023 = pd.merge(credit_df,market_contest_2023,right_index=True, left_index=True, how='outer')\n",
        "total_df_2022 = pd.merge(credit_df,market_contest_2022,on = ['DATA_CRTR_YM','상권_코드'], how='inner')\n",
        "total_df_2023 = pd.merge(credit_df,market_contest_2023,on = ['상권_코드'], how='right')\n",
        "\n",
        "## 중복 칼럼 제거\n",
        "total_df_2022 = total_df_2022.loc[:,~total_df_2022.columns.duplicated()]\n",
        "total_df_2023 = total_df_2023.loc[:,~total_df_2023.columns.duplicated()]\n",
        "\n",
        "## 중복 행 제거\n",
        "total_df_2022.drop_duplicates(subset=['id'], keep='first', inplace=True)\n",
        "total_df_2023.drop_duplicates(subset=['id'], keep='first', inplace=True)\n",
        "\n",
        "## 데이터 csv파일로 저장\n",
        "# total_df_2022.to_csv('total_df_2022.csv',encoding='euc-kr',index=False)\n",
        "# total_df_2023.to_csv('total_df_2023.csv',encoding='euc-kr',index=False)"
      ],
      "metadata": {
        "id": "t-IdklBRCOss"
      },
      "execution_count": null,
      "outputs": []
    },
    {
      "cell_type": "code",
      "source": [],
      "metadata": {
        "id": "YtXqH5vhgDVJ"
      },
      "execution_count": null,
      "outputs": []
    }
  ]
}