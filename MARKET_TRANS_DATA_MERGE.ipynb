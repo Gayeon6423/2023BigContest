{
 "cells": [
  {
   "cell_type": "code",
   "execution_count": 1,
   "metadata": {
    "id": "bROEPBH31UVo"
   },
   "outputs": [],
   "source": [
    "import pandas as pd\n",
    "import numpy as np"
   ]
  },
  {
   "cell_type": "code",
   "execution_count": 2,
   "metadata": {
    "colab": {
     "base_uri": "https://localhost:8080/"
    },
    "id": "_6f3_agA07AW",
    "outputId": "515cad4e-83f6-4b0a-8af2-37c7f8d70844"
   },
   "outputs": [],
   "source": [
    "# from google.colab import drive\n",
    "# drive.mount('/content/drive')"
   ]
  },
  {
   "cell_type": "markdown",
   "metadata": {
    "id": "_eEXtlmJx7_-"
   },
   "source": [
    "### 1. 서울시 우리마을가게 상권분석서비스 : 상권코드_지역 매핑"
   ]
  },
  {
   "cell_type": "code",
   "execution_count": 12,
   "metadata": {
    "colab": {
     "base_uri": "https://localhost:8080/",
     "height": 144
    },
    "id": "v1n9BKT1x8GE",
    "outputId": "016f5429-5d37-4983-8421-390fa4f251c9"
   },
   "outputs": [
    {
     "data": {
      "text/html": [
       "<div>\n",
       "<style scoped>\n",
       "    .dataframe tbody tr th:only-of-type {\n",
       "        vertical-align: middle;\n",
       "    }\n",
       "\n",
       "    .dataframe tbody tr th {\n",
       "        vertical-align: top;\n",
       "    }\n",
       "\n",
       "    .dataframe thead th {\n",
       "        text-align: right;\n",
       "    }\n",
       "</style>\n",
       "<table border=\"1\" class=\"dataframe\">\n",
       "  <thead>\n",
       "    <tr style=\"text-align: right;\">\n",
       "      <th></th>\n",
       "      <th>상권_코드</th>\n",
       "      <th>행정동_코드</th>\n",
       "    </tr>\n",
       "  </thead>\n",
       "  <tbody>\n",
       "    <tr>\n",
       "      <th>0</th>\n",
       "      <td>2110008</td>\n",
       "      <td>11110515</td>\n",
       "    </tr>\n",
       "    <tr>\n",
       "      <th>1</th>\n",
       "      <td>2110009</td>\n",
       "      <td>11110550</td>\n",
       "    </tr>\n",
       "    <tr>\n",
       "      <th>2</th>\n",
       "      <td>2110010</td>\n",
       "      <td>11110560</td>\n",
       "    </tr>\n",
       "  </tbody>\n",
       "</table>\n",
       "</div>"
      ],
      "text/plain": [
       "     상권_코드    행정동_코드\n",
       "0  2110008  11110515\n",
       "1  2110009  11110550\n",
       "2  2110010  11110560"
      ]
     },
     "execution_count": 12,
     "metadata": {},
     "output_type": "execute_result"
    }
   ],
   "source": [
    "# market_code_loc_map = pd.read_csv('/content/drive/MyDrive/프로젝트/2023 빅콘테스트/data/서울시 상권분석서비스(상권영역).csv',encoding='euc-kr')\n",
    "market_loc = pd.read_csv('./data/서울시 상권분석서비스(상권영역).csv',encoding='euc-kr')\n",
    "\n",
    "market_loc = market_loc[['상권_코드','행정동_코드']]\n",
    "market_loc['상권_코드'] = market_loc['상권_코드'] - 1000000\n",
    "market_loc.head(3)"
   ]
  },
  {
   "cell_type": "markdown",
   "metadata": {
    "id": "BxseSmhESf6L"
   },
   "source": [
    "- 좌표 => 법정동 코드"
   ]
  },
  {
   "cell_type": "code",
   "execution_count": 11,
   "metadata": {
    "colab": {
     "base_uri": "https://localhost:8080/",
     "height": 144
    },
    "id": "CrWeNQl8SjwH",
    "outputId": "731190bb-2c71-4e9a-f7b6-cfae5e1c6a34"
   },
   "outputs": [
    {
     "data": {
      "text/html": [
       "<div>\n",
       "<style scoped>\n",
       "    .dataframe tbody tr th:only-of-type {\n",
       "        vertical-align: middle;\n",
       "    }\n",
       "\n",
       "    .dataframe tbody tr th {\n",
       "        vertical-align: top;\n",
       "    }\n",
       "\n",
       "    .dataframe thead th {\n",
       "        text-align: right;\n",
       "    }\n",
       "</style>\n",
       "<table border=\"1\" class=\"dataframe\">\n",
       "  <thead>\n",
       "    <tr style=\"text-align: right;\">\n",
       "      <th></th>\n",
       "      <th>행정동_코드</th>\n",
       "      <th>법정동_코드</th>\n",
       "    </tr>\n",
       "  </thead>\n",
       "  <tbody>\n",
       "    <tr>\n",
       "      <th>0</th>\n",
       "      <td>11000000</td>\n",
       "      <td>11000000</td>\n",
       "    </tr>\n",
       "    <tr>\n",
       "      <th>1</th>\n",
       "      <td>11110000</td>\n",
       "      <td>11110000</td>\n",
       "    </tr>\n",
       "    <tr>\n",
       "      <th>2</th>\n",
       "      <td>11110515</td>\n",
       "      <td>11110101</td>\n",
       "    </tr>\n",
       "  </tbody>\n",
       "</table>\n",
       "</div>"
      ],
      "text/plain": [
       "     행정동_코드    법정동_코드\n",
       "0  11000000  11000000\n",
       "1  11110000  11110000\n",
       "2  11110515  11110101"
      ]
     },
     "execution_count": 11,
     "metadata": {},
     "output_type": "execute_result"
    }
   ],
   "source": [
    "# mapping_df = pd.read_csv('/content/drive/MyDrive/프로젝트/2023 빅콘테스트/data/법정동-행정동 매핑.csv', encoding='utf-8-sig')\n",
    "loc_map = pd.read_csv('./data/법정동-행정동 매핑.csv', encoding='utf-8-sig')\n",
    "\n",
    "loc_map = loc_map[['행정동코드','법정동코드']]\n",
    "loc_map = loc_map.rename(columns = {'행정동코드':'행정동_코드','법정동코드':'법정동_코드'})\n",
    "loc_map.head(3)"
   ]
  },
  {
   "cell_type": "code",
   "execution_count": 14,
   "metadata": {
    "colab": {
     "base_uri": "https://localhost:8080/",
     "height": 144
    },
    "id": "AlGBlBcPZ-Ac",
    "outputId": "6824c375-a47a-4177-fa8f-ac192e82d4b4"
   },
   "outputs": [],
   "source": [
    "market_loc_map = pd.merge(market_loc, loc_map, on = ['행정동_코드'])\n",
    "market_loc_map.head(3)\n",
    "# market_loc_map.to_csv('market_loc_map.csv',encoding='euc-kr',index=False)"
   ]
  },
  {
   "cell_type": "markdown",
   "metadata": {
    "id": "8d7vXfv7s8qo"
   },
   "source": [
    "\n",
    "## 서울시 우리마을가게 상권분석서비스 : 상권"
   ]
  },
  {
   "cell_type": "code",
   "execution_count": 192,
   "metadata": {
    "colab": {
     "base_uri": "https://localhost:8080/"
    },
    "id": "Y0byNr441f18",
    "outputId": "f014584a-cfa4-4deb-cf31-2029a759e1ab"
   },
   "outputs": [
    {
     "name": "stdout",
     "output_type": "stream",
     "text": [
      "Index(['기준_년_코드', '기준_분기_코드', '상권_구분_코드', '상권_구분_코드_명', '상권_코드', '상권_코드_명',\n",
      "       '월_평균_소득_금액', '소득_구간_코드', '지출_총금액', '식료품_지출_총금액', '의류_신발_지출_총금액',\n",
      "       '생활용품_지출_총금액', '의료비_지출_총금액', '교통_지출_총금액', '여가_지출_총금액', '문화_지출_총금액',\n",
      "       '교육_지출_총금액', '유흥_지출_총금액'],\n",
      "      dtype='object')\n"
     ]
    }
   ],
   "source": [
    "# market_income_consume = pd.read_csv('/content/drive/MyDrive/프로젝트/2023 빅콘테스트/data/서울시 상권분석서비스(상권-소득소비).csv',encoding='euc-kr')\n",
    "market_income_consume = pd.read_csv('./data/서울시 상권분석서비스(상권-소득소비).csv', encoding='euc-kr')\n",
    "print(market_income_consume.columns)"
   ]
  },
  {
   "cell_type": "code",
   "execution_count": 193,
   "metadata": {
    "colab": {
     "base_uri": "https://localhost:8080/"
    },
    "id": "C4E4Ir7Kqp5i",
    "outputId": "1969e58b-bbae-4d64-dee6-6ffa0c01ef5a"
   },
   "outputs": [
    {
     "name": "stdout",
     "output_type": "stream",
     "text": [
      "Index(['기준_년_코드', '기준_분기_코드', '상권_구분_코드', ' 상권_구분_코드_명', '상권_코드', '상권_코드_명',\n",
      "       '총_생활인구_수', '남성_생활인구_수', '여성_생활인구_수', '연령대_10_생활인구_수', '연령대_20_생활인구_수',\n",
      "       '연령대_30_생활인구_수', '연령대_40_생활인구_수', '연령대_50_생활인구_수', '연령대_60_이상_생활인구_수',\n",
      "       '시간대_1_생활인구_수', '시간대_2_생활인구_수', '시간대_3_생활인구_수', '시간대_4_생활인구_수',\n",
      "       '시간대_5_생활인구_수', '시간대_6_생활인구_수', '월요일_생활인구_수', '화요일_생활인구_수',\n",
      "       '수요일_생활인구_수', '목요일_생활인구_수', '금요일_생활인구_수', '토요일_생활인구_수', '일요일_생활인구_수'],\n",
      "      dtype='object')\n"
     ]
    }
   ],
   "source": [
    "# market_living_population = pd.read_csv('/content/drive/MyDrive/프로젝트/2023 빅콘테스트/data/서울시 상권분석서비스(상권-생활인구).csv',encoding='euc-kr')\n",
    "market_living_population = pd.read_csv('./data/서울시 상권분석서비스(상권-생활인구).csv',encoding='euc-kr')\n",
    "\n",
    "market_living_population = market_living_population.rename(columns = {'기준 년코드':'기준_년_코드'})\n",
    "print(market_living_population.columns)"
   ]
  },
  {
   "cell_type": "code",
   "execution_count": 194,
   "metadata": {
    "colab": {
     "base_uri": "https://localhost:8080/"
    },
    "id": "CtuBvvPfwBGg",
    "outputId": "3371688a-0fd7-468d-ab7d-649a30f5d0e1"
   },
   "outputs": [
    {
     "name": "stdout",
     "output_type": "stream",
     "text": [
      "Index(['기준_년_코드', '기준_분기_코드', '상권_구분_코드', '상권_구분_코드_명', '상권_코드', '상권_코드_명',\n",
      "       '총_직장_인구_수', '남성_직장_인구_수', '여성_직장_인구_수', '연령대_10_직장_인구_수',\n",
      "       '연령대_20_직장_인구_수', '연령대_30_직장_인구_수', '연령대_40_직장_인구_수', '연령대_50_직장_인구_수',\n",
      "       '연령대_60_이상_직장_인구_수'],\n",
      "      dtype='object')\n"
     ]
    }
   ],
   "source": [
    "# market_working_population = pd.read_csv('/content/drive/MyDrive/프로젝트/2023 빅콘테스트/data/서울시 상권분석서비스(상권-직장인구).csv',encoding = 'euc-kr')\n",
    "market_working_population = pd.read_csv('./data/서울시 상권분석서비스(상권-직장인구).csv',encoding = 'euc-kr')\n",
    "\n",
    "market_working_population = market_working_population.rename(columns = {'기준_년월_코드':'기준_년_코드'})\n",
    "print(market_working_population.columns)"
   ]
  },
  {
   "cell_type": "code",
   "execution_count": 195,
   "metadata": {
    "colab": {
     "base_uri": "https://localhost:8080/"
    },
    "id": "2SOzMniju8IF",
    "outputId": "4d81fa17-5f93-45ab-e02a-02cb98156df0"
   },
   "outputs": [
    {
     "name": "stdout",
     "output_type": "stream",
     "text": [
      "Index(['기준_년_코드', '기준_분기_코드', '상권_구분_코드', '상권_구분_코드_명', '상권_코드', '상권_코드_명',\n",
      "       '아파트_단지_수', '아파트_가격_1_억_미만_세대_수', '아파트_가격_1_억_세대_수', '아파트_가격_2_억_세대_수',\n",
      "       '아파트_가격_3_억_세대_수', '아파트_가격_4_억_세대_수', '아파트_가격_5_억_세대_수',\n",
      "       '아파트_가격_6_억_이상_세대_수'],\n",
      "      dtype='object')\n"
     ]
    }
   ],
   "source": [
    "# market_apart = pd.read_csv('/content/drive/MyDrive/프로젝트/2023 빅콘테스트/data/서울시 상권분석서비스(상권-아파트).csv',encoding='euc-kr')\n",
    "market_apart = pd.read_csv('./data/서울시 상권분석서비스(상권-아파트).csv',encoding='euc-kr')\n",
    "print(market_apart.columns)"
   ]
  },
  {
   "cell_type": "code",
   "execution_count": 196,
   "metadata": {
    "colab": {
     "base_uri": "https://localhost:8080/"
    },
    "id": "UsWVchRBu7kQ",
    "outputId": "715c871e-10c8-4bd7-f3f9-cd34bf3512dd"
   },
   "outputs": [
    {
     "name": "stdout",
     "output_type": "stream",
     "text": [
      "Index(['기준_년_코드', '기준_분기_코드', '상권_구분_코드', '상권_구분_코드_명', '상권_코드', '상권_코드_명',\n",
      "       '서비스_업종_코드', '서비스_업종_코드_명', '점포_수', '유사_업종_점포_수', '개업_율', '개업_점포_수',\n",
      "       '폐업_률', '폐업_점포_수', '프랜차이즈_점포_수'],\n",
      "      dtype='object')\n"
     ]
    }
   ],
   "source": [
    "# market_store = pd.read_csv('/content/drive/MyDrive/프로젝트/2023 빅콘테스트/data/서울시 상권분석서비스(상권-점포).csv',encoding='euc-kr')\n",
    "market_store = pd.read_csv('./data/서울시 상권분석서비스(상권-점포).csv',encoding='euc-kr')\n",
    "print(market_store.columns)"
   ]
  },
  {
   "cell_type": "code",
   "execution_count": 197,
   "metadata": {
    "scrolled": true
   },
   "outputs": [
    {
     "data": {
      "text/html": [
       "<div>\n",
       "<style scoped>\n",
       "    .dataframe tbody tr th:only-of-type {\n",
       "        vertical-align: middle;\n",
       "    }\n",
       "\n",
       "    .dataframe tbody tr th {\n",
       "        vertical-align: top;\n",
       "    }\n",
       "\n",
       "    .dataframe thead th {\n",
       "        text-align: right;\n",
       "    }\n",
       "</style>\n",
       "<table border=\"1\" class=\"dataframe\">\n",
       "  <thead>\n",
       "    <tr style=\"text-align: right;\">\n",
       "      <th></th>\n",
       "      <th>기준_년_코드_income</th>\n",
       "      <th>기준_분기_코드</th>\n",
       "      <th>상권_구분_코드</th>\n",
       "      <th>상권_구분_코드_명_merge1</th>\n",
       "      <th>상권_코드</th>\n",
       "      <th>상권_코드_명_income</th>\n",
       "      <th>월_평균_소득_금액</th>\n",
       "      <th>소득_구간_코드</th>\n",
       "      <th>지출_총금액</th>\n",
       "      <th>식료품_지출_총금액</th>\n",
       "      <th>...</th>\n",
       "      <th>상권_코드_명</th>\n",
       "      <th>서비스_업종_코드</th>\n",
       "      <th>서비스_업종_코드_명</th>\n",
       "      <th>점포_수</th>\n",
       "      <th>유사_업종_점포_수</th>\n",
       "      <th>개업_율</th>\n",
       "      <th>개업_점포_수</th>\n",
       "      <th>폐업_률</th>\n",
       "      <th>폐업_점포_수</th>\n",
       "      <th>프랜차이즈_점포_수</th>\n",
       "    </tr>\n",
       "  </thead>\n",
       "  <tbody>\n",
       "    <tr>\n",
       "      <th>0</th>\n",
       "      <td>2022</td>\n",
       "      <td>4</td>\n",
       "      <td>A</td>\n",
       "      <td>골목상권</td>\n",
       "      <td>2110001</td>\n",
       "      <td>이북5도청사</td>\n",
       "      <td>4305934.0</td>\n",
       "      <td>8.0</td>\n",
       "      <td>5.204276e+08</td>\n",
       "      <td>1.291260e+08</td>\n",
       "      <td>...</td>\n",
       "      <td>이북5도청사</td>\n",
       "      <td>CS300043</td>\n",
       "      <td>전자상거래업</td>\n",
       "      <td>1</td>\n",
       "      <td>1</td>\n",
       "      <td>0</td>\n",
       "      <td>0</td>\n",
       "      <td>0</td>\n",
       "      <td>0</td>\n",
       "      <td>0</td>\n",
       "    </tr>\n",
       "    <tr>\n",
       "      <th>1</th>\n",
       "      <td>2022</td>\n",
       "      <td>4</td>\n",
       "      <td>A</td>\n",
       "      <td>골목상권</td>\n",
       "      <td>2110001</td>\n",
       "      <td>이북5도청사</td>\n",
       "      <td>4305934.0</td>\n",
       "      <td>8.0</td>\n",
       "      <td>5.204276e+08</td>\n",
       "      <td>1.291260e+08</td>\n",
       "      <td>...</td>\n",
       "      <td>이북5도청사</td>\n",
       "      <td>CS300035</td>\n",
       "      <td>인테리어</td>\n",
       "      <td>1</td>\n",
       "      <td>1</td>\n",
       "      <td>0</td>\n",
       "      <td>0</td>\n",
       "      <td>0</td>\n",
       "      <td>0</td>\n",
       "      <td>0</td>\n",
       "    </tr>\n",
       "    <tr>\n",
       "      <th>2</th>\n",
       "      <td>2022</td>\n",
       "      <td>4</td>\n",
       "      <td>A</td>\n",
       "      <td>골목상권</td>\n",
       "      <td>2110001</td>\n",
       "      <td>이북5도청사</td>\n",
       "      <td>4305934.0</td>\n",
       "      <td>8.0</td>\n",
       "      <td>5.204276e+08</td>\n",
       "      <td>1.291260e+08</td>\n",
       "      <td>...</td>\n",
       "      <td>이북5도청사</td>\n",
       "      <td>CS300033</td>\n",
       "      <td>철물점</td>\n",
       "      <td>1</td>\n",
       "      <td>1</td>\n",
       "      <td>0</td>\n",
       "      <td>0</td>\n",
       "      <td>0</td>\n",
       "      <td>0</td>\n",
       "      <td>0</td>\n",
       "    </tr>\n",
       "    <tr>\n",
       "      <th>3</th>\n",
       "      <td>2022</td>\n",
       "      <td>4</td>\n",
       "      <td>A</td>\n",
       "      <td>골목상권</td>\n",
       "      <td>2110001</td>\n",
       "      <td>이북5도청사</td>\n",
       "      <td>4305934.0</td>\n",
       "      <td>8.0</td>\n",
       "      <td>5.204276e+08</td>\n",
       "      <td>1.291260e+08</td>\n",
       "      <td>...</td>\n",
       "      <td>이북5도청사</td>\n",
       "      <td>CS300032</td>\n",
       "      <td>가전제품</td>\n",
       "      <td>1</td>\n",
       "      <td>1</td>\n",
       "      <td>100</td>\n",
       "      <td>1</td>\n",
       "      <td>0</td>\n",
       "      <td>0</td>\n",
       "      <td>0</td>\n",
       "    </tr>\n",
       "    <tr>\n",
       "      <th>4</th>\n",
       "      <td>2022</td>\n",
       "      <td>4</td>\n",
       "      <td>A</td>\n",
       "      <td>골목상권</td>\n",
       "      <td>2110001</td>\n",
       "      <td>이북5도청사</td>\n",
       "      <td>4305934.0</td>\n",
       "      <td>8.0</td>\n",
       "      <td>5.204276e+08</td>\n",
       "      <td>1.291260e+08</td>\n",
       "      <td>...</td>\n",
       "      <td>이북5도청사</td>\n",
       "      <td>CS300027</td>\n",
       "      <td>섬유제품</td>\n",
       "      <td>1</td>\n",
       "      <td>1</td>\n",
       "      <td>0</td>\n",
       "      <td>0</td>\n",
       "      <td>0</td>\n",
       "      <td>0</td>\n",
       "      <td>0</td>\n",
       "    </tr>\n",
       "    <tr>\n",
       "      <th>...</th>\n",
       "      <td>...</td>\n",
       "      <td>...</td>\n",
       "      <td>...</td>\n",
       "      <td>...</td>\n",
       "      <td>...</td>\n",
       "      <td>...</td>\n",
       "      <td>...</td>\n",
       "      <td>...</td>\n",
       "      <td>...</td>\n",
       "      <td>...</td>\n",
       "      <td>...</td>\n",
       "      <td>...</td>\n",
       "      <td>...</td>\n",
       "      <td>...</td>\n",
       "      <td>...</td>\n",
       "      <td>...</td>\n",
       "      <td>...</td>\n",
       "      <td>...</td>\n",
       "      <td>...</td>\n",
       "      <td>...</td>\n",
       "      <td>...</td>\n",
       "    </tr>\n",
       "    <tr>\n",
       "      <th>276151</th>\n",
       "      <td>2022</td>\n",
       "      <td>1</td>\n",
       "      <td>U</td>\n",
       "      <td>관광특구</td>\n",
       "      <td>1001495</td>\n",
       "      <td>잠실 관광특구</td>\n",
       "      <td>4241377.0</td>\n",
       "      <td>8.0</td>\n",
       "      <td>8.751577e+09</td>\n",
       "      <td>1.816409e+09</td>\n",
       "      <td>...</td>\n",
       "      <td>잠실 관광특구</td>\n",
       "      <td>CS100005</td>\n",
       "      <td>제과점</td>\n",
       "      <td>20</td>\n",
       "      <td>39</td>\n",
       "      <td>0</td>\n",
       "      <td>0</td>\n",
       "      <td>0</td>\n",
       "      <td>0</td>\n",
       "      <td>19</td>\n",
       "    </tr>\n",
       "    <tr>\n",
       "      <th>276152</th>\n",
       "      <td>2022</td>\n",
       "      <td>1</td>\n",
       "      <td>U</td>\n",
       "      <td>관광특구</td>\n",
       "      <td>1001495</td>\n",
       "      <td>잠실 관광특구</td>\n",
       "      <td>4241377.0</td>\n",
       "      <td>8.0</td>\n",
       "      <td>8.751577e+09</td>\n",
       "      <td>1.816409e+09</td>\n",
       "      <td>...</td>\n",
       "      <td>잠실 관광특구</td>\n",
       "      <td>CS100004</td>\n",
       "      <td>양식음식점</td>\n",
       "      <td>59</td>\n",
       "      <td>70</td>\n",
       "      <td>3</td>\n",
       "      <td>2</td>\n",
       "      <td>0</td>\n",
       "      <td>0</td>\n",
       "      <td>11</td>\n",
       "    </tr>\n",
       "    <tr>\n",
       "      <th>276153</th>\n",
       "      <td>2022</td>\n",
       "      <td>1</td>\n",
       "      <td>U</td>\n",
       "      <td>관광특구</td>\n",
       "      <td>1001495</td>\n",
       "      <td>잠실 관광특구</td>\n",
       "      <td>4241377.0</td>\n",
       "      <td>8.0</td>\n",
       "      <td>8.751577e+09</td>\n",
       "      <td>1.816409e+09</td>\n",
       "      <td>...</td>\n",
       "      <td>잠실 관광특구</td>\n",
       "      <td>CS100003</td>\n",
       "      <td>일식음식점</td>\n",
       "      <td>37</td>\n",
       "      <td>43</td>\n",
       "      <td>2</td>\n",
       "      <td>1</td>\n",
       "      <td>0</td>\n",
       "      <td>0</td>\n",
       "      <td>6</td>\n",
       "    </tr>\n",
       "    <tr>\n",
       "      <th>276154</th>\n",
       "      <td>2022</td>\n",
       "      <td>1</td>\n",
       "      <td>U</td>\n",
       "      <td>관광특구</td>\n",
       "      <td>1001495</td>\n",
       "      <td>잠실 관광특구</td>\n",
       "      <td>4241377.0</td>\n",
       "      <td>8.0</td>\n",
       "      <td>8.751577e+09</td>\n",
       "      <td>1.816409e+09</td>\n",
       "      <td>...</td>\n",
       "      <td>잠실 관광특구</td>\n",
       "      <td>CS100002</td>\n",
       "      <td>중식음식점</td>\n",
       "      <td>22</td>\n",
       "      <td>23</td>\n",
       "      <td>4</td>\n",
       "      <td>1</td>\n",
       "      <td>0</td>\n",
       "      <td>0</td>\n",
       "      <td>1</td>\n",
       "    </tr>\n",
       "    <tr>\n",
       "      <th>276155</th>\n",
       "      <td>2022</td>\n",
       "      <td>1</td>\n",
       "      <td>U</td>\n",
       "      <td>관광특구</td>\n",
       "      <td>1001495</td>\n",
       "      <td>잠실 관광특구</td>\n",
       "      <td>4241377.0</td>\n",
       "      <td>8.0</td>\n",
       "      <td>8.751577e+09</td>\n",
       "      <td>1.816409e+09</td>\n",
       "      <td>...</td>\n",
       "      <td>잠실 관광특구</td>\n",
       "      <td>CS100001</td>\n",
       "      <td>한식음식점</td>\n",
       "      <td>225</td>\n",
       "      <td>254</td>\n",
       "      <td>1</td>\n",
       "      <td>2</td>\n",
       "      <td>3</td>\n",
       "      <td>7</td>\n",
       "      <td>29</td>\n",
       "    </tr>\n",
       "  </tbody>\n",
       "</table>\n",
       "<p>276156 rows × 78 columns</p>\n",
       "</div>"
      ],
      "text/plain": [
       "        기준_년_코드_income  기준_분기_코드 상권_구분_코드 상권_구분_코드_명_merge1    상권_코드  \\\n",
       "0                 2022         4        A              골목상권  2110001   \n",
       "1                 2022         4        A              골목상권  2110001   \n",
       "2                 2022         4        A              골목상권  2110001   \n",
       "3                 2022         4        A              골목상권  2110001   \n",
       "4                 2022         4        A              골목상권  2110001   \n",
       "...                ...       ...      ...               ...      ...   \n",
       "276151            2022         1        U              관광특구  1001495   \n",
       "276152            2022         1        U              관광특구  1001495   \n",
       "276153            2022         1        U              관광특구  1001495   \n",
       "276154            2022         1        U              관광특구  1001495   \n",
       "276155            2022         1        U              관광특구  1001495   \n",
       "\n",
       "       상권_코드_명_income  월_평균_소득_금액  소득_구간_코드        지출_총금액    식료품_지출_총금액  ...  \\\n",
       "0              이북5도청사   4305934.0       8.0  5.204276e+08  1.291260e+08  ...   \n",
       "1              이북5도청사   4305934.0       8.0  5.204276e+08  1.291260e+08  ...   \n",
       "2              이북5도청사   4305934.0       8.0  5.204276e+08  1.291260e+08  ...   \n",
       "3              이북5도청사   4305934.0       8.0  5.204276e+08  1.291260e+08  ...   \n",
       "4              이북5도청사   4305934.0       8.0  5.204276e+08  1.291260e+08  ...   \n",
       "...               ...         ...       ...           ...           ...  ...   \n",
       "276151        잠실 관광특구   4241377.0       8.0  8.751577e+09  1.816409e+09  ...   \n",
       "276152        잠실 관광특구   4241377.0       8.0  8.751577e+09  1.816409e+09  ...   \n",
       "276153        잠실 관광특구   4241377.0       8.0  8.751577e+09  1.816409e+09  ...   \n",
       "276154        잠실 관광특구   4241377.0       8.0  8.751577e+09  1.816409e+09  ...   \n",
       "276155        잠실 관광특구   4241377.0       8.0  8.751577e+09  1.816409e+09  ...   \n",
       "\n",
       "        상권_코드_명  서비스_업종_코드  서비스_업종_코드_명  점포_수  유사_업종_점포_수  개업_율  개업_점포_수  \\\n",
       "0        이북5도청사   CS300043       전자상거래업     1           1     0        0   \n",
       "1        이북5도청사   CS300035         인테리어     1           1     0        0   \n",
       "2        이북5도청사   CS300033          철물점     1           1     0        0   \n",
       "3        이북5도청사   CS300032         가전제품     1           1   100        1   \n",
       "4        이북5도청사   CS300027         섬유제품     1           1     0        0   \n",
       "...         ...        ...          ...   ...         ...   ...      ...   \n",
       "276151  잠실 관광특구   CS100005          제과점    20          39     0        0   \n",
       "276152  잠실 관광특구   CS100004        양식음식점    59          70     3        2   \n",
       "276153  잠실 관광특구   CS100003        일식음식점    37          43     2        1   \n",
       "276154  잠실 관광특구   CS100002        중식음식점    22          23     4        1   \n",
       "276155  잠실 관광특구   CS100001        한식음식점   225         254     1        2   \n",
       "\n",
       "        폐업_률  폐업_점포_수 프랜차이즈_점포_수  \n",
       "0          0        0          0  \n",
       "1          0        0          0  \n",
       "2          0        0          0  \n",
       "3          0        0          0  \n",
       "4          0        0          0  \n",
       "...      ...      ...        ...  \n",
       "276151     0        0         19  \n",
       "276152     0        0         11  \n",
       "276153     0        0          6  \n",
       "276154     0        0          1  \n",
       "276155     3        7         29  \n",
       "\n",
       "[276156 rows x 78 columns]"
      ]
     },
     "execution_count": 197,
     "metadata": {},
     "output_type": "execute_result"
    }
   ],
   "source": [
    "merge_df1 = pd.merge(market_income_consume, market_living_population, on=['기준_분기_코드', '상권_구분_코드', '상권_코드'], suffixes=('_income', '_living'))\n",
    "merge_df2 = pd.merge(merge_df1, market_working_population, on=['기준_분기_코드', '상권_구분_코드', '상권_코드'], suffixes=('_merge1', '_working'))\n",
    "merge_df3 = pd.merge(merge_df2, market_apart, on=['기준_분기_코드', '상권_구분_코드', '상권_코드'], suffixes=('_merge2', '_apart'))\n",
    "merge_df4 = pd.merge(merge_df3, market_store, on=['기준_분기_코드', '상권_구분_코드', '상권_코드'], suffixes=('_merge3', '_store'))\n",
    "merge_df4"
   ]
  },
  {
   "cell_type": "code",
   "execution_count": 206,
   "metadata": {},
   "outputs": [
    {
     "name": "stdout",
     "output_type": "stream",
     "text": [
      "270268\n",
      "5888\n"
     ]
    }
   ],
   "source": [
    "print(merge_df4.duplicated(subset=['기준_분기_코드','상권_구분_코드','상권_코드']).sum())\n",
    "market_df = merge_df4.drop_duplicates(subset=['기준_분기_코드','상권_구분_코드','상권_코드'])\n",
    "print(len(market_df))"
   ]
  },
  {
   "cell_type": "code",
   "execution_count": 207,
   "metadata": {},
   "outputs": [],
   "source": [
    "market_df.to_csv('market_merge_df.csv',encoding='euc-kr',index=False)"
   ]
  },
  {
   "cell_type": "markdown",
   "metadata": {
    "id": "E62yLDAMu4Bd"
   },
   "source": [
    "### 2. 서울시 우리마을가게 상권분석서비스 : 상권배후지"
   ]
  },
  {
   "cell_type": "code",
   "execution_count": 208,
   "metadata": {
    "colab": {
     "base_uri": "https://localhost:8080/"
    },
    "id": "HrJmc4qLvjmU",
    "outputId": "42f648d1-9474-40ad-be18-85e6e261a18c"
   },
   "outputs": [
    {
     "name": "stdout",
     "output_type": "stream",
     "text": [
      "Index(['기준_년_코드', '기준_분기_코드', '상권_구분_코드', '상권_구분_코드_명', '상권_코드', '상권_코드_명',\n",
      "       '월_평균_소득_금액', '소득_구간_코드', '지출_총금액', '식료품_지출_총금액', '의류_신발_지출_총금액',\n",
      "       '생활용품_지출_총금액', '의료비_지출_총금액', '교통_지출_총금액', '여가_지출_총금액', '문화_지출_총금액',\n",
      "       '교육_지출_총금액', '유흥_지출_총금액'],\n",
      "      dtype='object')\n"
     ]
    }
   ],
   "source": [
    "# hinterland_income_consume = pd.read_csv('/content/drive/MyDrive/프로젝트/2023 빅콘테스트/data/서울시 상권분석서비스(상권배후지-소득소비).csv',encoding='euc-kr')\n",
    "hinterland_income_consume = pd.read_csv('./data/서울시 상권분석서비스(상권배후지-소득소비).csv',encoding='euc-kr')\n",
    "hinterland_income_consume = hinterland_income_consume.rename(columns = {'기준 년 코드':'기준_년_코드'})\n",
    "print(hinterland_income_consume.columns)"
   ]
  },
  {
   "cell_type": "code",
   "execution_count": 209,
   "metadata": {
    "colab": {
     "base_uri": "https://localhost:8080/"
    },
    "id": "tX-3kcuevrPh",
    "outputId": "1231f48d-5846-400e-9b41-0ee032ce5a87"
   },
   "outputs": [
    {
     "name": "stdout",
     "output_type": "stream",
     "text": [
      "Index(['기준_년_코드', '기준_분기_코드', '상권_구분_코드', '상권_구분_코드_명', '상권_코드', '총_생활인구_수',\n",
      "       '남성_생활인구_수', '여성_생활인구_수', '연령대_10_생활인구_수', '연령대_20_생활인구_수',\n",
      "       '연령대_30_생활인구_수', '연령대_40_생활인구_수', '연령대_50_생활인구_수', '연령대_60_이상_생활인구_수',\n",
      "       '시간대_1_생활인구_수', '시간대_2_생활인구_수', '시간대_3_생활인구_수', '시간대_4_생활인구_수',\n",
      "       '시간대_5_생활인구_수', '시간대_6_생활인구_수', '월요일_생활인구_수', '화요일_생활인구_수',\n",
      "       '수요일_생활인구_수', '목요일_생활인구_수', '금요일_생활인구_수', '토요일_생활인구_수', '일요일_생활인구_수'],\n",
      "      dtype='object')\n"
     ]
    }
   ],
   "source": [
    "# hinterland_living_population = pd.read_csv('/content/drive/MyDrive/프로젝트/2023 빅콘테스트/data/서울시 상권분석서비스(상권배후지-생활인구).csv',encoding='euc-kr')\n",
    "hinterland_living_population = pd.read_csv('./data/서울시 상권분석서비스(상권배후지-생활인구).csv',encoding='euc-kr')\n",
    "print(hinterland_living_population.columns)"
   ]
  },
  {
   "cell_type": "code",
   "execution_count": 210,
   "metadata": {
    "colab": {
     "base_uri": "https://localhost:8080/"
    },
    "id": "cgqbPSRepc6C",
    "outputId": "d8200085-850a-4740-d96b-3a8bb5923403"
   },
   "outputs": [
    {
     "name": "stdout",
     "output_type": "stream",
     "text": [
      "Index(['기준_년_코드', '기준_분기_코드', '상권_구분_코드', '상권_구분_코드_명', '상권_코드', '상권_코드_명',\n",
      "       '총_직장_인구_수', '남성_직장_인구_수', '여성_직장_인구_수', '연령대_10_직장_인구_수',\n",
      "       '연령대_20_직장_인구_수', '연령대_30_직장_인구_수', '연령대_40_직장_인구_수', '연령대_50_직장_인구_수',\n",
      "       '연령대_60_이상_직장_인구_수'],\n",
      "      dtype='object')\n"
     ]
    }
   ],
   "source": [
    "# hinterland_living_population = pd.read_csv('/content/drive/MyDrive/프로젝트/2023 빅콘테스트/data/서울시 상권분석서비스(상권배후지-직장인구).csv',encoding='euc-kr')\n",
    "hinterland_working_population = pd.read_csv('./data/서울시 상권분석서비스(상권배후지-직장인구).csv',encoding = 'euc-kr')\n",
    "print(hinterland_working_population.columns)"
   ]
  },
  {
   "cell_type": "code",
   "execution_count": 211,
   "metadata": {
    "colab": {
     "base_uri": "https://localhost:8080/"
    },
    "id": "arFUwWvxpddk",
    "outputId": "68731471-8243-45b0-b58c-2aafa7e5abe3"
   },
   "outputs": [
    {
     "name": "stdout",
     "output_type": "stream",
     "text": [
      "Index(['기준_년_코드', '기준_분기_코드', '상권_구분_코드', '상권_구분_코드_명', '상권_코드', '상권_코드_명',\n",
      "       '아파트_단지_수', '아파트_가격_1_억_미만_세대_수', '아파트_가격_1_억_세대_수', '아파트_가격_2_억_세대_수',\n",
      "       '아파트_가격_3_억_세대_수', '아파트_가격_4_억_세대_수', '아파트_가격_5_억_세대_수',\n",
      "       '아파트_가격_6_억_이상_세대_수'],\n",
      "      dtype='object')\n"
     ]
    }
   ],
   "source": [
    "# hinterland_apart = pd.read_csv('/content/drive/MyDrive/프로젝트/2023 빅콘테스트/data/서울시 상권분석서비스(상권배후지-아파트).csv',encoding='euc-kr')\n",
    "hinterland_apart = pd.read_csv('./data/서울시 상권분석서비스(상권배후지-아파트).csv',encoding = 'euc-kr')\n",
    "print(hinterland_apart.columns)"
   ]
  },
  {
   "cell_type": "code",
   "execution_count": 212,
   "metadata": {
    "colab": {
     "base_uri": "https://localhost:8080/"
    },
    "id": "7SUIm72wwPMm",
    "outputId": "ec46b5cb-cbc8-4dbd-a0a9-dd285b6a2e7d"
   },
   "outputs": [
    {
     "name": "stdout",
     "output_type": "stream",
     "text": [
      "Index(['기준_년_코드', '기준_분기_코드', '상권_구분_코드', '상권_구분_코드_명', '상권_코드', '상권_코드_명',\n",
      "       '서비스_업종_코드', '서비스_업종_코드_명', '점포_수', '유사_업종_점포_수', '개업_율', '개업_점포_수',\n",
      "       '폐업_률', '폐업_점포_수', '프랜차이즈_점포_수'],\n",
      "      dtype='object')\n"
     ]
    }
   ],
   "source": [
    "# hinterland_store = pd.read_csv('/content/drive/MyDrive/프로젝트/2023 빅콘테스트/data/서울시 상권분석서비스(상권배후지-점포).csv',encoding='euc-kr')\n",
    "hinterland_store = pd.read_csv('./data/서울시 상권분석서비스(상권배후지-점포).csv',encoding='euc-kr')\n",
    "print(hinterland_store.columns)"
   ]
  },
  {
   "cell_type": "code",
   "execution_count": 213,
   "metadata": {
    "colab": {
     "base_uri": "https://localhost:8080/"
    },
    "id": "g2ehKfzIxWCP",
    "outputId": "f6edeeaa-d764-48b4-ec0e-59b9243606c4"
   },
   "outputs": [
    {
     "name": "stdout",
     "output_type": "stream",
     "text": [
      "Index(['기준_년_코드', '기준_분기_코드', '상권_구분_코드', '상권_구분_코드_명', '상권_코드', '상권_코드_명',\n",
      "       '집객시설_수', '관공서_수', '은행_수', '종합병원_수', '일반_병원_수', '약국_수', '유치원_수',\n",
      "       '초등학교_수', '중학교_수', '고등학교_수', '대학교_수', '백화점_수', '슈퍼마켓_수', '극장_수',\n",
      "       '숙박_시설_수', '공항_수', '철도_역_수', '버스_터미널_수', '지하철_역_수', '버스_정거장_수'],\n",
      "      dtype='object')\n"
     ]
    }
   ],
   "source": [
    "# hinterland_gather_facility = pd.read_csv('/content/drive/MyDrive/프로젝트/2023 빅콘테스트/data/서울시 상권분석서비스(상권배후지-집객시설).csv',encoding='euc-kr')\n",
    "hinterland_gather_facility = pd.read_csv('./data/서울시 상권분석서비스(상권배후지-집객시설).csv',encoding='euc-kr')\n",
    "print(hinterland_gather_facility.columns)"
   ]
  },
  {
   "cell_type": "code",
   "execution_count": 214,
   "metadata": {},
   "outputs": [],
   "source": [
    "merge_df1 = pd.merge(hinterland_income_consume, hinterland_living_population, on=['기준_분기_코드', '상권_구분_코드', '상권_코드'], suffixes=('_income', '_living'))\n",
    "merge_df2 = pd.merge(merge_df1, hinterland_working_population, on=['기준_분기_코드', '상권_구분_코드', '상권_코드'], suffixes=('_merge1', '_working'))\n",
    "merge_df3 = pd.merge(merge_df2, hinterland_apart, on=['기준_분기_코드', '상권_구분_코드', '상권_코드'], suffixes=('_merge2', '_apart'))\n",
    "merge_df4 = pd.merge(merge_df3, hinterland_store, on=['기준_분기_코드', '상권_구분_코드', '상권_코드'], suffixes=('_merge3', '_store'))\n",
    "merge_df5 = pd.merge(merge_df4, hinterland_gather_facility, on=['기준_분기_코드', '상권_구분_코드', '상권_코드'], suffixes=('_merge4', '_gather_facility'))"
   ]
  },
  {
   "cell_type": "code",
   "execution_count": 216,
   "metadata": {},
   "outputs": [],
   "source": [
    "merge_df = merge_df5.drop_duplicates(['기준_분기_코드', '상권_구분_코드', '상권_코드'], keep='first')\n",
    "hinterland_df = merge_df5\n",
    "hinterland_df.to_csv('hinterland_merge_df.csv',encoding='euc-kr',index=False)"
   ]
  },
  {
   "cell_type": "markdown",
   "metadata": {
    "id": "YGfRDpGVxmxm"
   },
   "source": [
    "## 3. 서울시 우리마을가게 상권분석서비스 : 행정동별 상권변화지표"
   ]
  },
  {
   "cell_type": "code",
   "execution_count": 217,
   "metadata": {
    "colab": {
     "base_uri": "https://localhost:8080/",
     "height": 144
    },
    "id": "RbLvxmCSzENB",
    "outputId": "03e88988-09b9-4a38-ff03-4d128cc93f33"
   },
   "outputs": [
    {
     "data": {
      "text/html": [
       "<div>\n",
       "<style scoped>\n",
       "    .dataframe tbody tr th:only-of-type {\n",
       "        vertical-align: middle;\n",
       "    }\n",
       "\n",
       "    .dataframe tbody tr th {\n",
       "        vertical-align: top;\n",
       "    }\n",
       "\n",
       "    .dataframe thead th {\n",
       "        text-align: right;\n",
       "    }\n",
       "</style>\n",
       "<table border=\"1\" class=\"dataframe\">\n",
       "  <thead>\n",
       "    <tr style=\"text-align: right;\">\n",
       "      <th></th>\n",
       "      <th>기준_년_코드</th>\n",
       "      <th>기준_분기_코드</th>\n",
       "      <th>행정동_코드</th>\n",
       "      <th>행정동_코드_명</th>\n",
       "      <th>상권_변화_지표</th>\n",
       "      <th>상권_변화_지표_명</th>\n",
       "      <th>운영_영업_개월_평균</th>\n",
       "      <th>폐업_영업_개월_평균</th>\n",
       "      <th>서울_운영_영업_개월_평균</th>\n",
       "      <th>서울_폐업_영업_개월_평균</th>\n",
       "    </tr>\n",
       "  </thead>\n",
       "  <tbody>\n",
       "    <tr>\n",
       "      <th>0</th>\n",
       "      <td>2022</td>\n",
       "      <td>4</td>\n",
       "      <td>11740700</td>\n",
       "      <td>둔촌2동</td>\n",
       "      <td>HL</td>\n",
       "      <td>상권축소</td>\n",
       "      <td>127</td>\n",
       "      <td>52</td>\n",
       "      <td>123</td>\n",
       "      <td>56</td>\n",
       "    </tr>\n",
       "    <tr>\n",
       "      <th>1</th>\n",
       "      <td>2022</td>\n",
       "      <td>4</td>\n",
       "      <td>11740690</td>\n",
       "      <td>둔촌1동</td>\n",
       "      <td>HH</td>\n",
       "      <td>정체</td>\n",
       "      <td>184</td>\n",
       "      <td>72</td>\n",
       "      <td>123</td>\n",
       "      <td>56</td>\n",
       "    </tr>\n",
       "    <tr>\n",
       "      <th>2</th>\n",
       "      <td>2022</td>\n",
       "      <td>4</td>\n",
       "      <td>11740685</td>\n",
       "      <td>길동</td>\n",
       "      <td>LL</td>\n",
       "      <td>다이나믹</td>\n",
       "      <td>118</td>\n",
       "      <td>50</td>\n",
       "      <td>123</td>\n",
       "      <td>56</td>\n",
       "    </tr>\n",
       "  </tbody>\n",
       "</table>\n",
       "</div>"
      ],
      "text/plain": [
       "   기준_년_코드  기준_분기_코드    행정동_코드 행정동_코드_명 상권_변화_지표 상권_변화_지표_명  운영_영업_개월_평균  \\\n",
       "0     2022         4  11740700     둔촌2동       HL       상권축소          127   \n",
       "1     2022         4  11740690     둔촌1동       HH         정체          184   \n",
       "2     2022         4  11740685       길동       LL       다이나믹          118   \n",
       "\n",
       "   폐업_영업_개월_평균  서울_운영_영업_개월_평균  서울_폐업_영업_개월_평균  \n",
       "0           52             123              56  \n",
       "1           72             123              56  \n",
       "2           50             123              56  "
      ]
     },
     "execution_count": 217,
     "metadata": {},
     "output_type": "execute_result"
    }
   ],
   "source": [
    "# loc_market_chg = pd.read_csv('/content/drive/MyDrive/프로젝트/2023 빅콘테스트/data/서울시 상권분석서비스(행정동별 상권변화지표).csv',encoding='euc-kr')\n",
    "loc_market_chg = pd.read_csv('./data/서울시 상권분석서비스(행정동별 상권변화지표).csv',encoding='euc-kr')\n",
    "loc_market_chg.head(3)"
   ]
  },
  {
   "cell_type": "markdown",
   "metadata": {
    "id": "r8O8dBNLzHZU"
   },
   "source": [
    "### 4. 서울시 행정동별 대중교통 총 승차 승객수 정보"
   ]
  },
  {
   "cell_type": "code",
   "execution_count": 333,
   "metadata": {
    "colab": {
     "base_uri": "https://localhost:8080/",
     "height": 208
    },
    "id": "cSaUJ6fF0Tzu",
    "outputId": "aba5a03c-b7ac-4735-b87c-b60176fa5903"
   },
   "outputs": [
    {
     "data": {
      "text/html": [
       "<div>\n",
       "<style scoped>\n",
       "    .dataframe tbody tr th:only-of-type {\n",
       "        vertical-align: middle;\n",
       "    }\n",
       "\n",
       "    .dataframe tbody tr th {\n",
       "        vertical-align: top;\n",
       "    }\n",
       "\n",
       "    .dataframe thead th {\n",
       "        text-align: right;\n",
       "    }\n",
       "</style>\n",
       "<table border=\"1\" class=\"dataframe\">\n",
       "  <thead>\n",
       "    <tr style=\"text-align: right;\">\n",
       "      <th></th>\n",
       "      <th>기준_날짜</th>\n",
       "      <th>행정동_ID</th>\n",
       "      <th>버스_승객_수</th>\n",
       "      <th>버스_승객수_시간대1</th>\n",
       "      <th>버스_승객수_시간대2</th>\n",
       "      <th>버스_승객수_시간대3</th>\n",
       "      <th>버스_승객수_시간대4</th>\n",
       "      <th>버스_승객수_시간대5</th>\n",
       "      <th>버스_승객수_시간대6</th>\n",
       "      <th>지하철_승객_수</th>\n",
       "      <th>...</th>\n",
       "      <th>지하철_승객수_시간대2</th>\n",
       "      <th>지하철_승객수_시간대3</th>\n",
       "      <th>지하철_승객수_시간대4</th>\n",
       "      <th>지하철_승객수_시간대5</th>\n",
       "      <th>지하철_승객수_시간대6</th>\n",
       "      <th>시도</th>\n",
       "      <th>시군구</th>\n",
       "      <th>행정구역명</th>\n",
       "      <th>행정동_코드</th>\n",
       "      <th>법정동_코드</th>\n",
       "    </tr>\n",
       "  </thead>\n",
       "  <tbody>\n",
       "    <tr>\n",
       "      <th>13</th>\n",
       "      <td>202212</td>\n",
       "      <td>1113069</td>\n",
       "      <td>7054</td>\n",
       "      <td>266</td>\n",
       "      <td>1341</td>\n",
       "      <td>1715</td>\n",
       "      <td>1657</td>\n",
       "      <td>1442</td>\n",
       "      <td>633</td>\n",
       "      <td>1469.0</td>\n",
       "      <td>...</td>\n",
       "      <td>391</td>\n",
       "      <td>400</td>\n",
       "      <td>318</td>\n",
       "      <td>277</td>\n",
       "      <td>61</td>\n",
       "      <td>서울특별시</td>\n",
       "      <td>서대문구</td>\n",
       "      <td>남가좌1동</td>\n",
       "      <td>11410690</td>\n",
       "      <td>11410120</td>\n",
       "    </tr>\n",
       "    <tr>\n",
       "      <th>19</th>\n",
       "      <td>202212</td>\n",
       "      <td>1113069</td>\n",
       "      <td>7054</td>\n",
       "      <td>266</td>\n",
       "      <td>1341</td>\n",
       "      <td>1715</td>\n",
       "      <td>1657</td>\n",
       "      <td>1442</td>\n",
       "      <td>633</td>\n",
       "      <td>2474.0</td>\n",
       "      <td>...</td>\n",
       "      <td>724</td>\n",
       "      <td>615</td>\n",
       "      <td>622</td>\n",
       "      <td>358</td>\n",
       "      <td>129</td>\n",
       "      <td>서울특별시</td>\n",
       "      <td>서대문구</td>\n",
       "      <td>남가좌1동</td>\n",
       "      <td>11410690</td>\n",
       "      <td>11410120</td>\n",
       "    </tr>\n",
       "    <tr>\n",
       "      <th>20</th>\n",
       "      <td>202212</td>\n",
       "      <td>1113069</td>\n",
       "      <td>7054</td>\n",
       "      <td>266</td>\n",
       "      <td>1341</td>\n",
       "      <td>1715</td>\n",
       "      <td>1657</td>\n",
       "      <td>1442</td>\n",
       "      <td>633</td>\n",
       "      <td>2474.0</td>\n",
       "      <td>...</td>\n",
       "      <td>724</td>\n",
       "      <td>615</td>\n",
       "      <td>622</td>\n",
       "      <td>358</td>\n",
       "      <td>129</td>\n",
       "      <td>서울특별시</td>\n",
       "      <td>서대문구</td>\n",
       "      <td>남가좌1동</td>\n",
       "      <td>11410690</td>\n",
       "      <td>11410120</td>\n",
       "    </tr>\n",
       "  </tbody>\n",
       "</table>\n",
       "<p>3 rows × 21 columns</p>\n",
       "</div>"
      ],
      "text/plain": [
       "     기준_날짜   행정동_ID  버스_승객_수  버스_승객수_시간대1  버스_승객수_시간대2  버스_승객수_시간대3  \\\n",
       "13  202212  1113069     7054          266         1341         1715   \n",
       "19  202212  1113069     7054          266         1341         1715   \n",
       "20  202212  1113069     7054          266         1341         1715   \n",
       "\n",
       "    버스_승객수_시간대4  버스_승객수_시간대5  버스_승객수_시간대6  지하철_승객_수  ...  지하철_승객수_시간대2  \\\n",
       "13         1657         1442          633    1469.0  ...           391   \n",
       "19         1657         1442          633    2474.0  ...           724   \n",
       "20         1657         1442          633    2474.0  ...           724   \n",
       "\n",
       "    지하철_승객수_시간대3  지하철_승객수_시간대4  지하철_승객수_시간대5  지하철_승객수_시간대6     시도   시군구  \\\n",
       "13           400           318           277            61  서울특별시  서대문구   \n",
       "19           615           622           358           129  서울특별시  서대문구   \n",
       "20           615           622           358           129  서울특별시  서대문구   \n",
       "\n",
       "    행정구역명    행정동_코드    법정동_코드  \n",
       "13  남가좌1동  11410690  11410120  \n",
       "19  남가좌1동  11410690  11410120  \n",
       "20  남가좌1동  11410690  11410120  \n",
       "\n",
       "[3 rows x 21 columns]"
      ]
     },
     "execution_count": 333,
     "metadata": {},
     "output_type": "execute_result"
    }
   ],
   "source": [
    "# bus = pd.read_csv('/content/drive/MyDrive/프로젝트/2023 빅콘테스트/data/서울시 행정동별 버스 총 승차 승객수 정보.csv',encoding='euc-kr')\n",
    "# subway = pd.read_csv('/content/drive/MyDrive/프로젝트/2023 빅콘테스트/data/서울시 행정동별 지하철 총 승차 승객수 정보.csv',encoding='euc-kr')\n",
    "bus = pd.read_csv('./data/서울시 행정동별 버스 총 승차 승객수 정보.csv',encoding='euc-kr')\n",
    "subway = pd.read_csv('./data/서울시 행정동별 지하철 총 승차 승객수 정보.csv',encoding='euc-kr')\n",
    "map_df = pd.read_csv('./data/법정동-행정동-행정구역 매핑.csv',encoding='euc-kr')\n",
    "\n",
    "merged_data = pd.merge(bus, subway, on=['기준_날짜','행정동_ID'],how='inner')\n",
    "public_trans_df = merged_data\n",
    "# 행정동_ID, 행정동_코드 map\n",
    "public_trans_df = pd.merge(public_trans_df,map_df,on='행정동_ID')\n",
    "public_trans_df = public_trans_df[public_trans_df.duplicated()]\n",
    "public_trans_df.head(3)"
   ]
  },
  {
   "cell_type": "code",
   "execution_count": 334,
   "metadata": {},
   "outputs": [],
   "source": [
    "public_trans_df.to_csv('public_trans_df.csv',encoding='utf-8-sig',index=False)"
   ]
  },
  {
   "cell_type": "markdown",
   "metadata": {
    "id": "niJTjtN4OO9O"
   },
   "source": [
    "### 7. 전체 데이터 통합\n",
    "#### <데이터>\n",
    "- market_df\n",
    "- hinterland_df\n",
    "- loc_market_chg\n",
    "- public_trans_df\n",
    "\n",
    "#### <매핑 칼럼>\n",
    "- 기준_년월_코드\n",
    "- 상권_코드\n",
    "- 행정동_코드"
   ]
  },
  {
   "cell_type": "markdown",
   "metadata": {},
   "source": [
    "- 상권 data, 배후지 data merge"
   ]
  },
  {
   "cell_type": "code",
   "execution_count": 228,
   "metadata": {},
   "outputs": [],
   "source": [
    "merge_df1 = pd.merge(market_df,hinterland_df,on = ['기준_분기_코드', '상권_구분_코드', '상권_코드'])\n",
    "market_hinterland_df = merge_df1.drop_duplicates(subset = ['기준_분기_코드', '상권_구분_코드', '상권_코드'])\n",
    "# market_hinterland_df.to_csv('market_hinterland_df.csv',encoding='euc-kr',index=False)"
   ]
  },
  {
   "cell_type": "markdown",
   "metadata": {},
   "source": [
    "- 법정동, 행정동 mapping"
   ]
  },
  {
   "cell_type": "code",
   "execution_count": 231,
   "metadata": {},
   "outputs": [
    {
     "data": {
      "text/html": [
       "<div>\n",
       "<style scoped>\n",
       "    .dataframe tbody tr th:only-of-type {\n",
       "        vertical-align: middle;\n",
       "    }\n",
       "\n",
       "    .dataframe tbody tr th {\n",
       "        vertical-align: top;\n",
       "    }\n",
       "\n",
       "    .dataframe thead th {\n",
       "        text-align: right;\n",
       "    }\n",
       "</style>\n",
       "<table border=\"1\" class=\"dataframe\">\n",
       "  <thead>\n",
       "    <tr style=\"text-align: right;\">\n",
       "      <th></th>\n",
       "      <th>상권_코드</th>\n",
       "      <th>행정동_코드</th>\n",
       "      <th>법정동_코드</th>\n",
       "      <th>STDG_EMD_CD</th>\n",
       "    </tr>\n",
       "  </thead>\n",
       "  <tbody>\n",
       "    <tr>\n",
       "      <th>0</th>\n",
       "      <td>2110008</td>\n",
       "      <td>11110515</td>\n",
       "      <td>11110101</td>\n",
       "      <td>11110101</td>\n",
       "    </tr>\n",
       "    <tr>\n",
       "      <th>1</th>\n",
       "      <td>2110008</td>\n",
       "      <td>11110515</td>\n",
       "      <td>11110102</td>\n",
       "      <td>11110102</td>\n",
       "    </tr>\n",
       "    <tr>\n",
       "      <th>2</th>\n",
       "      <td>2110008</td>\n",
       "      <td>11110515</td>\n",
       "      <td>11110103</td>\n",
       "      <td>11110103</td>\n",
       "    </tr>\n",
       "    <tr>\n",
       "      <th>3</th>\n",
       "      <td>2110008</td>\n",
       "      <td>11110515</td>\n",
       "      <td>11110104</td>\n",
       "      <td>11110104</td>\n",
       "    </tr>\n",
       "    <tr>\n",
       "      <th>4</th>\n",
       "      <td>2110008</td>\n",
       "      <td>11110515</td>\n",
       "      <td>11110105</td>\n",
       "      <td>11110105</td>\n",
       "    </tr>\n",
       "    <tr>\n",
       "      <th>...</th>\n",
       "      <td>...</td>\n",
       "      <td>...</td>\n",
       "      <td>...</td>\n",
       "      <td>...</td>\n",
       "    </tr>\n",
       "    <tr>\n",
       "      <th>3453</th>\n",
       "      <td>2130102</td>\n",
       "      <td>11230750</td>\n",
       "      <td>11230110</td>\n",
       "      <td>11230110</td>\n",
       "    </tr>\n",
       "    <tr>\n",
       "      <th>3454</th>\n",
       "      <td>2130166</td>\n",
       "      <td>11380590</td>\n",
       "      <td>11380107</td>\n",
       "      <td>11380107</td>\n",
       "    </tr>\n",
       "    <tr>\n",
       "      <th>3455</th>\n",
       "      <td>2130113</td>\n",
       "      <td>11260690</td>\n",
       "      <td>11260106</td>\n",
       "      <td>11260106</td>\n",
       "    </tr>\n",
       "    <tr>\n",
       "      <th>3456</th>\n",
       "      <td>2130124</td>\n",
       "      <td>11290780</td>\n",
       "      <td>11290138</td>\n",
       "      <td>11290138</td>\n",
       "    </tr>\n",
       "    <tr>\n",
       "      <th>3457</th>\n",
       "      <td>2001495</td>\n",
       "      <td>11710566</td>\n",
       "      <td>11710111</td>\n",
       "      <td>11710111</td>\n",
       "    </tr>\n",
       "  </tbody>\n",
       "</table>\n",
       "<p>3458 rows × 4 columns</p>\n",
       "</div>"
      ],
      "text/plain": [
       "        상권_코드    행정동_코드    법정동_코드  STDG_EMD_CD\n",
       "0     2110008  11110515  11110101     11110101\n",
       "1     2110008  11110515  11110102     11110102\n",
       "2     2110008  11110515  11110103     11110103\n",
       "3     2110008  11110515  11110104     11110104\n",
       "4     2110008  11110515  11110105     11110105\n",
       "...       ...       ...       ...          ...\n",
       "3453  2130102  11230750  11230110     11230110\n",
       "3454  2130166  11380590  11380107     11380107\n",
       "3455  2130113  11260690  11260106     11260106\n",
       "3456  2130124  11290780  11290138     11290138\n",
       "3457  2001495  11710566  11710111     11710111\n",
       "\n",
       "[3458 rows x 4 columns]"
      ]
     },
     "execution_count": 231,
     "metadata": {},
     "output_type": "execute_result"
    }
   ],
   "source": [
    "market_loc_map = pd.read_csv('./data/market_loc_map.csv',encoding='euc-kr')\n",
    "market_loc_map"
   ]
  },
  {
   "cell_type": "code",
   "execution_count": null,
   "metadata": {},
   "outputs": [],
   "source": [
    "loc_market_chg = pd.merge(loc_market_chg, market_loc_map, on = '행정동_코드')\n",
    "loc_market_chg = loc_market_chg.drop_duplicates(subset=['기준_분기_코드','행정동_코드','상권_코드'])"
   ]
  },
  {
   "cell_type": "code",
   "execution_count": null,
   "metadata": {},
   "outputs": [],
   "source": [
    "market_hinterland_df = pd.merge(market_hinterland_df, market_loc_map, on = '상권_코드')\n",
    "market_hinterland_df = market_hinterland_df.drop_duplicates(subset=['기준_분기_코드','행정동_코드','상권_코드'])"
   ]
  },
  {
   "cell_type": "markdown",
   "metadata": {},
   "source": [
    "- 상권-배후지 data, 상권변화지표 mapping"
   ]
  },
  {
   "cell_type": "code",
   "execution_count": 274,
   "metadata": {},
   "outputs": [],
   "source": [
    "total_market_df = pd.merge(loc_market_chg, market_hinterland_df,on = ['기준_분기_코드', '상권_코드','법정동_코드'])\n",
    "total_market_df = total_market_df.drop_duplicates(subset = ['기준_분기_코드', '상권_구분_코드', '상권_코드','법정동_코드'])\n",
    "# total_market_df.to_csv('total_market_df.csv',encoding='euc-kr',index=False)"
   ]
  },
  {
   "cell_type": "markdown",
   "metadata": {},
   "source": [
    "### 분기 데이터와 월 데이터 확장\n",
    "- 1분기 : 3월, 2분기 : 6월, 3분기 : 9월, 4분기 : 12월로 변형\n",
    "- 변형한 분기 칼럼과 월 칼럼으로 join"
   ]
  },
  {
   "cell_type": "code",
   "execution_count": 326,
   "metadata": {},
   "outputs": [],
   "source": [
    "# 기준분기, 기준월 정규화\n",
    "mapping = {1:'03', 2:'06', 3:'09', 4:'12'}\n",
    "total_market_df['기준_월'] = total_market_df['기준_분기_코드'].map(mapping)\n",
    "total_market_df['기준_날짜'] = total_market_df['기준_년_코드_x'].astype(str) + total_market_df['기준_월'].astype(str).str.zfill(2)"
   ]
  },
  {
   "cell_type": "code",
   "execution_count": 327,
   "metadata": {},
   "outputs": [
    {
     "data": {
      "text/html": [
       "<div>\n",
       "<style scoped>\n",
       "    .dataframe tbody tr th:only-of-type {\n",
       "        vertical-align: middle;\n",
       "    }\n",
       "\n",
       "    .dataframe tbody tr th {\n",
       "        vertical-align: top;\n",
       "    }\n",
       "\n",
       "    .dataframe thead th {\n",
       "        text-align: right;\n",
       "    }\n",
       "</style>\n",
       "<table border=\"1\" class=\"dataframe\">\n",
       "  <thead>\n",
       "    <tr style=\"text-align: right;\">\n",
       "      <th></th>\n",
       "      <th>기준_날짜</th>\n",
       "      <th>행정동_코드</th>\n",
       "      <th>법정동_코드</th>\n",
       "      <th>상권_코드</th>\n",
       "      <th>기준_년_코드_x</th>\n",
       "      <th>기준_분기_코드</th>\n",
       "      <th>행정동_코드_명</th>\n",
       "      <th>상권_변화_지표</th>\n",
       "      <th>상권_변화_지표_명</th>\n",
       "      <th>운영_영업_개월_평균</th>\n",
       "      <th>...</th>\n",
       "      <th>백화점_수</th>\n",
       "      <th>슈퍼마켓_수</th>\n",
       "      <th>극장_수</th>\n",
       "      <th>숙박_시설_수</th>\n",
       "      <th>공항_수</th>\n",
       "      <th>철도_역_수</th>\n",
       "      <th>버스_터미널_수</th>\n",
       "      <th>지하철_역_수</th>\n",
       "      <th>버스_정거장_수</th>\n",
       "      <th>기준_월</th>\n",
       "    </tr>\n",
       "  </thead>\n",
       "  <tbody>\n",
       "    <tr>\n",
       "      <th>0</th>\n",
       "      <td>202212</td>\n",
       "      <td>11740700</td>\n",
       "      <td>11740106</td>\n",
       "      <td>2111079</td>\n",
       "      <td>2022</td>\n",
       "      <td>4</td>\n",
       "      <td>둔촌2동</td>\n",
       "      <td>HL</td>\n",
       "      <td>상권축소</td>\n",
       "      <td>127</td>\n",
       "      <td>...</td>\n",
       "      <td>NaN</td>\n",
       "      <td>NaN</td>\n",
       "      <td>NaN</td>\n",
       "      <td>NaN</td>\n",
       "      <td>NaN</td>\n",
       "      <td>NaN</td>\n",
       "      <td>NaN</td>\n",
       "      <td>1.0</td>\n",
       "      <td>31</td>\n",
       "      <td>12</td>\n",
       "    </tr>\n",
       "    <tr>\n",
       "      <th>1</th>\n",
       "      <td>202212</td>\n",
       "      <td>11740700</td>\n",
       "      <td>11740106</td>\n",
       "      <td>2111081</td>\n",
       "      <td>2022</td>\n",
       "      <td>4</td>\n",
       "      <td>둔촌2동</td>\n",
       "      <td>HL</td>\n",
       "      <td>상권축소</td>\n",
       "      <td>127</td>\n",
       "      <td>...</td>\n",
       "      <td>NaN</td>\n",
       "      <td>NaN</td>\n",
       "      <td>NaN</td>\n",
       "      <td>NaN</td>\n",
       "      <td>NaN</td>\n",
       "      <td>NaN</td>\n",
       "      <td>NaN</td>\n",
       "      <td>NaN</td>\n",
       "      <td>10</td>\n",
       "      <td>12</td>\n",
       "    </tr>\n",
       "    <tr>\n",
       "      <th>2</th>\n",
       "      <td>202212</td>\n",
       "      <td>11740700</td>\n",
       "      <td>11740106</td>\n",
       "      <td>2111082</td>\n",
       "      <td>2022</td>\n",
       "      <td>4</td>\n",
       "      <td>둔촌2동</td>\n",
       "      <td>HL</td>\n",
       "      <td>상권축소</td>\n",
       "      <td>127</td>\n",
       "      <td>...</td>\n",
       "      <td>NaN</td>\n",
       "      <td>NaN</td>\n",
       "      <td>NaN</td>\n",
       "      <td>NaN</td>\n",
       "      <td>NaN</td>\n",
       "      <td>NaN</td>\n",
       "      <td>NaN</td>\n",
       "      <td>1.0</td>\n",
       "      <td>14</td>\n",
       "      <td>12</td>\n",
       "    </tr>\n",
       "  </tbody>\n",
       "</table>\n",
       "<p>3 rows × 157 columns</p>\n",
       "</div>"
      ],
      "text/plain": [
       "    기준_날짜    행정동_코드    법정동_코드    상권_코드 기준_년_코드_x 기준_분기_코드 행정동_코드_명 상권_변화_지표  \\\n",
       "0  202212  11740700  11740106  2111079      2022        4     둔촌2동       HL   \n",
       "1  202212  11740700  11740106  2111081      2022        4     둔촌2동       HL   \n",
       "2  202212  11740700  11740106  2111082      2022        4     둔촌2동       HL   \n",
       "\n",
       "  상권_변화_지표_명 운영_영업_개월_평균  ... 백화점_수 슈퍼마켓_수 극장_수 숙박_시설_수 공항_수 철도_역_수 버스_터미널_수  \\\n",
       "0       상권축소         127  ...   NaN    NaN  NaN     NaN  NaN    NaN      NaN   \n",
       "1       상권축소         127  ...   NaN    NaN  NaN     NaN  NaN    NaN      NaN   \n",
       "2       상권축소         127  ...   NaN    NaN  NaN     NaN  NaN    NaN      NaN   \n",
       "\n",
       "  지하철_역_수 버스_정거장_수 기준_월  \n",
       "0     1.0       31   12  \n",
       "1     NaN       10   12  \n",
       "2     1.0       14   12  \n",
       "\n",
       "[3 rows x 157 columns]"
      ]
     },
     "execution_count": 327,
     "metadata": {},
     "output_type": "execute_result"
    }
   ],
   "source": [
    "reorder = ['기준_날짜'] + ['행정동_코드_x'] + ['법정동_코드'] + ['상권_코드'] + [col for col in total_market_df.columns if col != ['기준_년월_코드','행정동_코드_x','법정동_코드','상권_코드']]\n",
    "total_market_df = total_market_df[reorder]\n",
    "total_market_df = total_market_df.T.drop_duplicates().T\n",
    "total_market_df['기준_날짜'] = total_market_df['기준_날짜'].astype('int64')\n",
    "total_market_df = total_market_df.rename(columns = {'행정동_코드_x':'행정동_코드'})\n",
    "total_market_df.head(3)"
   ]
  },
  {
   "cell_type": "markdown",
   "metadata": {},
   "source": [
    "- 전체 상권 data, public trans data merge"
   ]
  },
  {
   "cell_type": "code",
   "execution_count": 352,
   "metadata": {
    "scrolled": true
   },
   "outputs": [],
   "source": [
    "for col in total_market_df.columns:\n",
    "    total_market_df[col] = pd.to_numeric(total_market_df[col], errors='coerce')"
   ]
  },
  {
   "cell_type": "code",
   "execution_count": 355,
   "metadata": {
    "scrolled": true
   },
   "outputs": [
    {
     "data": {
      "text/html": [
       "<div>\n",
       "<style scoped>\n",
       "    .dataframe tbody tr th:only-of-type {\n",
       "        vertical-align: middle;\n",
       "    }\n",
       "\n",
       "    .dataframe tbody tr th {\n",
       "        vertical-align: top;\n",
       "    }\n",
       "\n",
       "    .dataframe thead th {\n",
       "        text-align: right;\n",
       "    }\n",
       "</style>\n",
       "<table border=\"1\" class=\"dataframe\">\n",
       "  <thead>\n",
       "    <tr style=\"text-align: right;\">\n",
       "      <th></th>\n",
       "      <th>기준_날짜</th>\n",
       "      <th>행정동_코드</th>\n",
       "      <th>법정동_코드_x</th>\n",
       "      <th>상권_코드</th>\n",
       "      <th>기준_년_코드_x</th>\n",
       "      <th>기준_분기_코드</th>\n",
       "      <th>행정동_코드_명</th>\n",
       "      <th>상권_변화_지표</th>\n",
       "      <th>상권_변화_지표_명</th>\n",
       "      <th>운영_영업_개월_평균</th>\n",
       "      <th>...</th>\n",
       "      <th>지하철_승객수_시간대1</th>\n",
       "      <th>지하철_승객수_시간대2</th>\n",
       "      <th>지하철_승객수_시간대3</th>\n",
       "      <th>지하철_승객수_시간대4</th>\n",
       "      <th>지하철_승객수_시간대5</th>\n",
       "      <th>지하철_승객수_시간대6</th>\n",
       "      <th>시도</th>\n",
       "      <th>시군구</th>\n",
       "      <th>행정구역명</th>\n",
       "      <th>법정동_코드_y</th>\n",
       "    </tr>\n",
       "  </thead>\n",
       "  <tbody>\n",
       "    <tr>\n",
       "      <th>0</th>\n",
       "      <td>202212</td>\n",
       "      <td>11740700</td>\n",
       "      <td>11740106</td>\n",
       "      <td>2111079</td>\n",
       "      <td>2022</td>\n",
       "      <td>4</td>\n",
       "      <td>NaN</td>\n",
       "      <td>NaN</td>\n",
       "      <td>NaN</td>\n",
       "      <td>127</td>\n",
       "      <td>...</td>\n",
       "      <td>39</td>\n",
       "      <td>1022</td>\n",
       "      <td>992</td>\n",
       "      <td>899</td>\n",
       "      <td>649</td>\n",
       "      <td>161</td>\n",
       "      <td>서울특별시</td>\n",
       "      <td>강동구</td>\n",
       "      <td>둔촌2동</td>\n",
       "      <td>11740106</td>\n",
       "    </tr>\n",
       "    <tr>\n",
       "      <th>336</th>\n",
       "      <td>202212</td>\n",
       "      <td>11740700</td>\n",
       "      <td>11740106</td>\n",
       "      <td>2111081</td>\n",
       "      <td>2022</td>\n",
       "      <td>4</td>\n",
       "      <td>NaN</td>\n",
       "      <td>NaN</td>\n",
       "      <td>NaN</td>\n",
       "      <td>127</td>\n",
       "      <td>...</td>\n",
       "      <td>39</td>\n",
       "      <td>1022</td>\n",
       "      <td>992</td>\n",
       "      <td>899</td>\n",
       "      <td>649</td>\n",
       "      <td>161</td>\n",
       "      <td>서울특별시</td>\n",
       "      <td>강동구</td>\n",
       "      <td>둔촌2동</td>\n",
       "      <td>11740106</td>\n",
       "    </tr>\n",
       "    <tr>\n",
       "      <th>672</th>\n",
       "      <td>202212</td>\n",
       "      <td>11740700</td>\n",
       "      <td>11740106</td>\n",
       "      <td>2111082</td>\n",
       "      <td>2022</td>\n",
       "      <td>4</td>\n",
       "      <td>NaN</td>\n",
       "      <td>NaN</td>\n",
       "      <td>NaN</td>\n",
       "      <td>127</td>\n",
       "      <td>...</td>\n",
       "      <td>39</td>\n",
       "      <td>1022</td>\n",
       "      <td>992</td>\n",
       "      <td>899</td>\n",
       "      <td>649</td>\n",
       "      <td>161</td>\n",
       "      <td>서울특별시</td>\n",
       "      <td>강동구</td>\n",
       "      <td>둔촌2동</td>\n",
       "      <td>11740106</td>\n",
       "    </tr>\n",
       "    <tr>\n",
       "      <th>1008</th>\n",
       "      <td>202212</td>\n",
       "      <td>11740700</td>\n",
       "      <td>11740106</td>\n",
       "      <td>2111073</td>\n",
       "      <td>2022</td>\n",
       "      <td>4</td>\n",
       "      <td>NaN</td>\n",
       "      <td>NaN</td>\n",
       "      <td>NaN</td>\n",
       "      <td>127</td>\n",
       "      <td>...</td>\n",
       "      <td>39</td>\n",
       "      <td>1022</td>\n",
       "      <td>992</td>\n",
       "      <td>899</td>\n",
       "      <td>649</td>\n",
       "      <td>161</td>\n",
       "      <td>서울특별시</td>\n",
       "      <td>강동구</td>\n",
       "      <td>둔촌2동</td>\n",
       "      <td>11740106</td>\n",
       "    </tr>\n",
       "    <tr>\n",
       "      <th>1344</th>\n",
       "      <td>202212</td>\n",
       "      <td>11740700</td>\n",
       "      <td>11740106</td>\n",
       "      <td>2111076</td>\n",
       "      <td>2022</td>\n",
       "      <td>4</td>\n",
       "      <td>NaN</td>\n",
       "      <td>NaN</td>\n",
       "      <td>NaN</td>\n",
       "      <td>127</td>\n",
       "      <td>...</td>\n",
       "      <td>39</td>\n",
       "      <td>1022</td>\n",
       "      <td>992</td>\n",
       "      <td>899</td>\n",
       "      <td>649</td>\n",
       "      <td>161</td>\n",
       "      <td>서울특별시</td>\n",
       "      <td>강동구</td>\n",
       "      <td>둔촌2동</td>\n",
       "      <td>11740106</td>\n",
       "    </tr>\n",
       "    <tr>\n",
       "      <th>...</th>\n",
       "      <td>...</td>\n",
       "      <td>...</td>\n",
       "      <td>...</td>\n",
       "      <td>...</td>\n",
       "      <td>...</td>\n",
       "      <td>...</td>\n",
       "      <td>...</td>\n",
       "      <td>...</td>\n",
       "      <td>...</td>\n",
       "      <td>...</td>\n",
       "      <td>...</td>\n",
       "      <td>...</td>\n",
       "      <td>...</td>\n",
       "      <td>...</td>\n",
       "      <td>...</td>\n",
       "      <td>...</td>\n",
       "      <td>...</td>\n",
       "      <td>...</td>\n",
       "      <td>...</td>\n",
       "      <td>...</td>\n",
       "      <td>...</td>\n",
       "    </tr>\n",
       "    <tr>\n",
       "      <th>2700557</th>\n",
       "      <td>202206</td>\n",
       "      <td>11110515</td>\n",
       "      <td>11110101</td>\n",
       "      <td>2110015</td>\n",
       "      <td>2022</td>\n",
       "      <td>2</td>\n",
       "      <td>NaN</td>\n",
       "      <td>NaN</td>\n",
       "      <td>NaN</td>\n",
       "      <td>107</td>\n",
       "      <td>...</td>\n",
       "      <td>0</td>\n",
       "      <td>0</td>\n",
       "      <td>0</td>\n",
       "      <td>0</td>\n",
       "      <td>0</td>\n",
       "      <td>0</td>\n",
       "      <td>서울특별시</td>\n",
       "      <td>종로구</td>\n",
       "      <td>청운효자동</td>\n",
       "      <td>11110101</td>\n",
       "    </tr>\n",
       "    <tr>\n",
       "      <th>2701427</th>\n",
       "      <td>202203</td>\n",
       "      <td>11110515</td>\n",
       "      <td>11110101</td>\n",
       "      <td>2110008</td>\n",
       "      <td>2022</td>\n",
       "      <td>1</td>\n",
       "      <td>NaN</td>\n",
       "      <td>NaN</td>\n",
       "      <td>NaN</td>\n",
       "      <td>106</td>\n",
       "      <td>...</td>\n",
       "      <td>0</td>\n",
       "      <td>0</td>\n",
       "      <td>0</td>\n",
       "      <td>0</td>\n",
       "      <td>0</td>\n",
       "      <td>0</td>\n",
       "      <td>서울특별시</td>\n",
       "      <td>종로구</td>\n",
       "      <td>청운효자동</td>\n",
       "      <td>11110101</td>\n",
       "    </tr>\n",
       "    <tr>\n",
       "      <th>2702358</th>\n",
       "      <td>202203</td>\n",
       "      <td>11110515</td>\n",
       "      <td>11110101</td>\n",
       "      <td>2110011</td>\n",
       "      <td>2022</td>\n",
       "      <td>1</td>\n",
       "      <td>NaN</td>\n",
       "      <td>NaN</td>\n",
       "      <td>NaN</td>\n",
       "      <td>106</td>\n",
       "      <td>...</td>\n",
       "      <td>0</td>\n",
       "      <td>0</td>\n",
       "      <td>0</td>\n",
       "      <td>0</td>\n",
       "      <td>0</td>\n",
       "      <td>0</td>\n",
       "      <td>서울특별시</td>\n",
       "      <td>종로구</td>\n",
       "      <td>청운효자동</td>\n",
       "      <td>11110101</td>\n",
       "    </tr>\n",
       "    <tr>\n",
       "      <th>2703289</th>\n",
       "      <td>202203</td>\n",
       "      <td>11110515</td>\n",
       "      <td>11110101</td>\n",
       "      <td>2110014</td>\n",
       "      <td>2022</td>\n",
       "      <td>1</td>\n",
       "      <td>NaN</td>\n",
       "      <td>NaN</td>\n",
       "      <td>NaN</td>\n",
       "      <td>106</td>\n",
       "      <td>...</td>\n",
       "      <td>0</td>\n",
       "      <td>0</td>\n",
       "      <td>0</td>\n",
       "      <td>0</td>\n",
       "      <td>0</td>\n",
       "      <td>0</td>\n",
       "      <td>서울특별시</td>\n",
       "      <td>종로구</td>\n",
       "      <td>청운효자동</td>\n",
       "      <td>11110101</td>\n",
       "    </tr>\n",
       "    <tr>\n",
       "      <th>2704220</th>\n",
       "      <td>202203</td>\n",
       "      <td>11110515</td>\n",
       "      <td>11110101</td>\n",
       "      <td>2110015</td>\n",
       "      <td>2022</td>\n",
       "      <td>1</td>\n",
       "      <td>NaN</td>\n",
       "      <td>NaN</td>\n",
       "      <td>NaN</td>\n",
       "      <td>106</td>\n",
       "      <td>...</td>\n",
       "      <td>0</td>\n",
       "      <td>0</td>\n",
       "      <td>0</td>\n",
       "      <td>0</td>\n",
       "      <td>0</td>\n",
       "      <td>0</td>\n",
       "      <td>서울특별시</td>\n",
       "      <td>종로구</td>\n",
       "      <td>청운효자동</td>\n",
       "      <td>11110101</td>\n",
       "    </tr>\n",
       "  </tbody>\n",
       "</table>\n",
       "<p>3515 rows × 176 columns</p>\n",
       "</div>"
      ],
      "text/plain": [
       "          기준_날짜    행정동_코드  법정동_코드_x    상권_코드  기준_년_코드_x  기준_분기_코드  행정동_코드_명  \\\n",
       "0        202212  11740700  11740106  2111079       2022         4       NaN   \n",
       "336      202212  11740700  11740106  2111081       2022         4       NaN   \n",
       "672      202212  11740700  11740106  2111082       2022         4       NaN   \n",
       "1008     202212  11740700  11740106  2111073       2022         4       NaN   \n",
       "1344     202212  11740700  11740106  2111076       2022         4       NaN   \n",
       "...         ...       ...       ...      ...        ...       ...       ...   \n",
       "2700557  202206  11110515  11110101  2110015       2022         2       NaN   \n",
       "2701427  202203  11110515  11110101  2110008       2022         1       NaN   \n",
       "2702358  202203  11110515  11110101  2110011       2022         1       NaN   \n",
       "2703289  202203  11110515  11110101  2110014       2022         1       NaN   \n",
       "2704220  202203  11110515  11110101  2110015       2022         1       NaN   \n",
       "\n",
       "         상권_변화_지표  상권_변화_지표_명  운영_영업_개월_평균  ...  지하철_승객수_시간대1  지하철_승객수_시간대2  \\\n",
       "0             NaN         NaN          127  ...            39          1022   \n",
       "336           NaN         NaN          127  ...            39          1022   \n",
       "672           NaN         NaN          127  ...            39          1022   \n",
       "1008          NaN         NaN          127  ...            39          1022   \n",
       "1344          NaN         NaN          127  ...            39          1022   \n",
       "...           ...         ...          ...  ...           ...           ...   \n",
       "2700557       NaN         NaN          107  ...             0             0   \n",
       "2701427       NaN         NaN          106  ...             0             0   \n",
       "2702358       NaN         NaN          106  ...             0             0   \n",
       "2703289       NaN         NaN          106  ...             0             0   \n",
       "2704220       NaN         NaN          106  ...             0             0   \n",
       "\n",
       "         지하철_승객수_시간대3  지하철_승객수_시간대4  지하철_승객수_시간대5  지하철_승객수_시간대6     시도  시군구  \\\n",
       "0                 992           899           649           161  서울특별시  강동구   \n",
       "336               992           899           649           161  서울특별시  강동구   \n",
       "672               992           899           649           161  서울특별시  강동구   \n",
       "1008              992           899           649           161  서울특별시  강동구   \n",
       "1344              992           899           649           161  서울특별시  강동구   \n",
       "...               ...           ...           ...           ...    ...  ...   \n",
       "2700557             0             0             0             0  서울특별시  종로구   \n",
       "2701427             0             0             0             0  서울특별시  종로구   \n",
       "2702358             0             0             0             0  서울특별시  종로구   \n",
       "2703289             0             0             0             0  서울특별시  종로구   \n",
       "2704220             0             0             0             0  서울특별시  종로구   \n",
       "\n",
       "         행정구역명  법정동_코드_y  \n",
       "0         둔촌2동  11740106  \n",
       "336       둔촌2동  11740106  \n",
       "672       둔촌2동  11740106  \n",
       "1008      둔촌2동  11740106  \n",
       "1344      둔촌2동  11740106  \n",
       "...        ...       ...  \n",
       "2700557  청운효자동  11110101  \n",
       "2701427  청운효자동  11110101  \n",
       "2702358  청운효자동  11110101  \n",
       "2703289  청운효자동  11110101  \n",
       "2704220  청운효자동  11110101  \n",
       "\n",
       "[3515 rows x 176 columns]"
      ]
     },
     "execution_count": 355,
     "metadata": {},
     "output_type": "execute_result"
    }
   ],
   "source": [
    "seoul_total = pd.merge(total_market_df, public_trans_df, on = ['기준_날짜','행정동_코드'])\n",
    "seoul_total = seoul_total.drop_duplicates(subset = ['기준_날짜','행정동_코드','상권_코드'])\n",
    "seoul_total"
   ]
  },
  {
   "cell_type": "code",
   "execution_count": 338,
   "metadata": {},
   "outputs": [],
   "source": [
    "# seoul_total.to_csv('seoul_total.csv',encoding='euc-kr',index=False)"
   ]
  },
  {
   "cell_type": "markdown",
   "metadata": {},
   "source": [
    "- 전체 상권 data, contest data merge"
   ]
  },
  {
   "cell_type": "code",
   "execution_count": 344,
   "metadata": {},
   "outputs": [
    {
     "data": {
      "text/html": [
       "<div>\n",
       "<style scoped>\n",
       "    .dataframe tbody tr th:only-of-type {\n",
       "        vertical-align: middle;\n",
       "    }\n",
       "\n",
       "    .dataframe tbody tr th {\n",
       "        vertical-align: top;\n",
       "    }\n",
       "\n",
       "    .dataframe thead th {\n",
       "        text-align: right;\n",
       "    }\n",
       "</style>\n",
       "<table border=\"1\" class=\"dataframe\">\n",
       "  <thead>\n",
       "    <tr style=\"text-align: right;\">\n",
       "      <th></th>\n",
       "      <th>DATA_CRTR_YM</th>\n",
       "      <th>LT_UNQ_NO</th>\n",
       "      <th>STDG_EMD_CD</th>\n",
       "      <th>INDUSTRY_CD</th>\n",
       "      <th>SLS_GRD</th>\n",
       "    </tr>\n",
       "  </thead>\n",
       "  <tbody>\n",
       "    <tr>\n",
       "      <th>0</th>\n",
       "      <td>202201</td>\n",
       "      <td>1.111010e+18</td>\n",
       "      <td>11110101</td>\n",
       "      <td>A03</td>\n",
       "      <td>4</td>\n",
       "    </tr>\n",
       "    <tr>\n",
       "      <th>1</th>\n",
       "      <td>202201</td>\n",
       "      <td>1.111010e+18</td>\n",
       "      <td>11110101</td>\n",
       "      <td>A01</td>\n",
       "      <td>2</td>\n",
       "    </tr>\n",
       "    <tr>\n",
       "      <th>2</th>\n",
       "      <td>202201</td>\n",
       "      <td>1.111010e+18</td>\n",
       "      <td>11110101</td>\n",
       "      <td>A11</td>\n",
       "      <td>3</td>\n",
       "    </tr>\n",
       "  </tbody>\n",
       "</table>\n",
       "</div>"
      ],
      "text/plain": [
       "   DATA_CRTR_YM     LT_UNQ_NO  STDG_EMD_CD INDUSTRY_CD  SLS_GRD\n",
       "0        202201  1.111010e+18     11110101         A03        4\n",
       "1        202201  1.111010e+18     11110101         A01        2\n",
       "2        202201  1.111010e+18     11110101         A11        3"
      ]
     },
     "execution_count": 344,
     "metadata": {},
     "output_type": "execute_result"
    }
   ],
   "source": [
    "contest_df = pd.read_csv('./data/대회 제공/필지단위 소상공인 매출등급 정보.csv')\n",
    "contest_df.head(3)"
   ]
  },
  {
   "cell_type": "code",
   "execution_count": null,
   "metadata": {},
   "outputs": [],
   "source": [
    "seoul_total = seoul_total.rename(columns = {'기준_날짜':'DATA_CRTR_YM','법정동_코드_x':'STDG_EMD_CD'})"
   ]
  },
  {
   "cell_type": "code",
   "execution_count": 362,
   "metadata": {},
   "outputs": [
    {
     "data": {
      "text/html": [
       "<div>\n",
       "<style scoped>\n",
       "    .dataframe tbody tr th:only-of-type {\n",
       "        vertical-align: middle;\n",
       "    }\n",
       "\n",
       "    .dataframe tbody tr th {\n",
       "        vertical-align: top;\n",
       "    }\n",
       "\n",
       "    .dataframe thead th {\n",
       "        text-align: right;\n",
       "    }\n",
       "</style>\n",
       "<table border=\"1\" class=\"dataframe\">\n",
       "  <thead>\n",
       "    <tr style=\"text-align: right;\">\n",
       "      <th></th>\n",
       "      <th>DATA_CRTR_YM</th>\n",
       "      <th>LT_UNQ_NO</th>\n",
       "      <th>STDG_EMD_CD</th>\n",
       "      <th>INDUSTRY_CD</th>\n",
       "      <th>SLS_GRD</th>\n",
       "      <th>행정동_코드</th>\n",
       "      <th>상권_코드</th>\n",
       "      <th>기준_년_코드_x</th>\n",
       "      <th>기준_분기_코드</th>\n",
       "      <th>행정동_코드_명</th>\n",
       "      <th>...</th>\n",
       "      <th>지하철_승객수_시간대1</th>\n",
       "      <th>지하철_승객수_시간대2</th>\n",
       "      <th>지하철_승객수_시간대3</th>\n",
       "      <th>지하철_승객수_시간대4</th>\n",
       "      <th>지하철_승객수_시간대5</th>\n",
       "      <th>지하철_승객수_시간대6</th>\n",
       "      <th>시도</th>\n",
       "      <th>시군구</th>\n",
       "      <th>행정구역명</th>\n",
       "      <th>법정동_코드_y</th>\n",
       "    </tr>\n",
       "  </thead>\n",
       "  <tbody>\n",
       "    <tr>\n",
       "      <th>0</th>\n",
       "      <td>202203</td>\n",
       "      <td>1.111010e+18</td>\n",
       "      <td>11110101</td>\n",
       "      <td>A03</td>\n",
       "      <td>4</td>\n",
       "      <td>11110515</td>\n",
       "      <td>2110008</td>\n",
       "      <td>2022</td>\n",
       "      <td>1</td>\n",
       "      <td>NaN</td>\n",
       "      <td>...</td>\n",
       "      <td>0</td>\n",
       "      <td>0</td>\n",
       "      <td>0</td>\n",
       "      <td>0</td>\n",
       "      <td>0</td>\n",
       "      <td>0</td>\n",
       "      <td>서울특별시</td>\n",
       "      <td>종로구</td>\n",
       "      <td>청운효자동</td>\n",
       "      <td>11110101</td>\n",
       "    </tr>\n",
       "    <tr>\n",
       "      <th>1</th>\n",
       "      <td>202203</td>\n",
       "      <td>1.111010e+18</td>\n",
       "      <td>11110101</td>\n",
       "      <td>A03</td>\n",
       "      <td>4</td>\n",
       "      <td>11110515</td>\n",
       "      <td>2110011</td>\n",
       "      <td>2022</td>\n",
       "      <td>1</td>\n",
       "      <td>NaN</td>\n",
       "      <td>...</td>\n",
       "      <td>0</td>\n",
       "      <td>0</td>\n",
       "      <td>0</td>\n",
       "      <td>0</td>\n",
       "      <td>0</td>\n",
       "      <td>0</td>\n",
       "      <td>서울특별시</td>\n",
       "      <td>종로구</td>\n",
       "      <td>청운효자동</td>\n",
       "      <td>11110101</td>\n",
       "    </tr>\n",
       "    <tr>\n",
       "      <th>2</th>\n",
       "      <td>202203</td>\n",
       "      <td>1.111010e+18</td>\n",
       "      <td>11110101</td>\n",
       "      <td>A03</td>\n",
       "      <td>4</td>\n",
       "      <td>11110515</td>\n",
       "      <td>2110014</td>\n",
       "      <td>2022</td>\n",
       "      <td>1</td>\n",
       "      <td>NaN</td>\n",
       "      <td>...</td>\n",
       "      <td>0</td>\n",
       "      <td>0</td>\n",
       "      <td>0</td>\n",
       "      <td>0</td>\n",
       "      <td>0</td>\n",
       "      <td>0</td>\n",
       "      <td>서울특별시</td>\n",
       "      <td>종로구</td>\n",
       "      <td>청운효자동</td>\n",
       "      <td>11110101</td>\n",
       "    </tr>\n",
       "  </tbody>\n",
       "</table>\n",
       "<p>3 rows × 179 columns</p>\n",
       "</div>"
      ],
      "text/plain": [
       "   DATA_CRTR_YM     LT_UNQ_NO  STDG_EMD_CD INDUSTRY_CD  SLS_GRD    행정동_코드  \\\n",
       "0        202203  1.111010e+18     11110101         A03        4  11110515   \n",
       "1        202203  1.111010e+18     11110101         A03        4  11110515   \n",
       "2        202203  1.111010e+18     11110101         A03        4  11110515   \n",
       "\n",
       "     상권_코드  기준_년_코드_x  기준_분기_코드  행정동_코드_명  ...  지하철_승객수_시간대1  지하철_승객수_시간대2  \\\n",
       "0  2110008       2022         1       NaN  ...             0             0   \n",
       "1  2110011       2022         1       NaN  ...             0             0   \n",
       "2  2110014       2022         1       NaN  ...             0             0   \n",
       "\n",
       "   지하철_승객수_시간대3  지하철_승객수_시간대4  지하철_승객수_시간대5  지하철_승객수_시간대6     시도  시군구  행정구역명  \\\n",
       "0             0             0             0             0  서울특별시  종로구  청운효자동   \n",
       "1             0             0             0             0  서울특별시  종로구  청운효자동   \n",
       "2             0             0             0             0  서울특별시  종로구  청운효자동   \n",
       "\n",
       "   법정동_코드_y  \n",
       "0  11110101  \n",
       "1  11110101  \n",
       "2  11110101  \n",
       "\n",
       "[3 rows x 179 columns]"
      ]
     },
     "execution_count": 362,
     "metadata": {},
     "output_type": "execute_result"
    }
   ],
   "source": [
    "market_contest_merge = pd.merge(contest_df,seoul_total,on = ['DATA_CRTR_YM','STDG_EMD_CD'])\n",
    "market_contest_merge.head(3)"
   ]
  },
  {
   "cell_type": "code",
   "execution_count": 364,
   "metadata": {},
   "outputs": [],
   "source": [
    "market_contest_merge.to_csv('market_contest_merge.csv',encoding='euc-kr',index=False)"
   ]
  }
 ],
 "metadata": {
  "colab": {
   "machine_shape": "hm",
   "provenance": []
  },
  "kernelspec": {
   "display_name": "Python 3 (ipykernel)",
   "language": "python",
   "name": "python3"
  },
  "language_info": {
   "codemirror_mode": {
    "name": "ipython",
    "version": 3
   },
   "file_extension": ".py",
   "mimetype": "text/x-python",
   "name": "python",
   "nbconvert_exporter": "python",
   "pygments_lexer": "ipython3",
   "version": "3.9.12"
  },
  "varInspector": {
   "cols": {
    "lenName": 16,
    "lenType": 16,
    "lenVar": 40
   },
   "kernels_config": {
    "python": {
     "delete_cmd_postfix": "",
     "delete_cmd_prefix": "del ",
     "library": "var_list.py",
     "varRefreshCmd": "print(var_dic_list())"
    },
    "r": {
     "delete_cmd_postfix": ") ",
     "delete_cmd_prefix": "rm(",
     "library": "var_list.r",
     "varRefreshCmd": "cat(var_dic_list()) "
    }
   },
   "types_to_exclude": [
    "module",
    "function",
    "builtin_function_or_method",
    "instance",
    "_Feature"
   ],
   "window_display": false
  }
 },
 "nbformat": 4,
 "nbformat_minor": 1
}
