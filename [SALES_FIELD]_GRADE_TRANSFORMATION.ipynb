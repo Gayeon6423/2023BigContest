{
  "nbformat": 4,
  "nbformat_minor": 0,
  "metadata": {
    "colab": {
      "provenance": [],
      "authorship_tag": "ABX9TyPW8wRJQFLkyazIAqMTvUiW"
    },
    "kernelspec": {
      "name": "python3",
      "display_name": "Python 3"
    },
    "language_info": {
      "name": "python"
    }
  },
  "cells": [
    {
      "cell_type": "code",
      "execution_count": 24,
      "metadata": {
        "colab": {
          "base_uri": "https://localhost:8080/"
        },
        "id": "c0y9T81VpRiU",
        "outputId": "3065011b-740b-4471-a8a6-2df2ab51f3b9"
      },
      "outputs": [
        {
          "output_type": "stream",
          "name": "stdout",
          "text": [
            "Drive already mounted at /content/drive; to attempt to forcibly remount, call drive.mount(\"/content/drive\", force_remount=True).\n"
          ]
        }
      ],
      "source": [
        "#  데이터 처리 모듈\n",
        "import pandas as pd\n",
        "from sklearn.impute import KNNImputer\n",
        "# 행렬 등 통계 연산 모듈\n",
        "import numpy as np\n",
        "# 지수형 표기법 e를 연속형 변환\n",
        "pd.options.display.float_format = '{:.4f}'.format\n",
        "# 타입 어노테이션(Any, Sequence 등의 메서드 활용)\n",
        "from typing import *\n",
        "import os\n",
        "\n",
        "# 구글 드라이브 마운트\n",
        "from google.colab import drive\n",
        "drive.mount(\"/content/drive\")\n",
        "import os\n",
        "\n",
        "# 조합 찾는 반복문 메서드\n",
        "from itertools import permutations\n",
        "from itertools import combinations\n",
        "\n",
        "# 데이터 시각화\n",
        "import matplotlib.pyplot as plt\n",
        "# from matplotlib.pyplot import\n",
        "import matplotlib.font_manager as fm\n",
        "import missingno as msno\n",
        "import seaborn as sns"
      ]
    },
    {
      "cell_type": "code",
      "source": [
        "# apt-get : 패키지 설치 명령어\n",
        "# -qq : 에러외의 메세지 숨기는 옵션키\n",
        "!apt-get -qq install fonts-nanum\n",
        "\n",
        "fe = fm.FontEntry(\n",
        "    fname=r\"/usr/share/fonts/truetype/nanum/NanumGothic.ttf\",\n",
        "    # ttf 파일이 저장되어 있는 경로\n",
        "    name='NanumGothic')\n",
        "# 이 폰트의 원하는 이름 설정\n",
        "fm.fontManager.ttflist.insert(0, fe)\n",
        "# Matplotlib에 폰트 추가\n",
        "plt.rcParams.update({'font.size': 18, 'font.family': 'NanumGothic'})\n",
        "# 폰트 설정"
      ],
      "metadata": {
        "id": "ztrYP86NdaKH"
      },
      "execution_count": 25,
      "outputs": []
    },
    {
      "cell_type": "code",
      "source": [
        "class LoadGoogleDriveData():\n",
        "  def __init__(self, data = None):\n",
        "    self.data = data\n",
        "\n",
        "  def loadData(self, file_path: str, file_name_extension,\n",
        "               columnTF: bool, unicode: str) -> pd.DataFrame():\n",
        "    self.data = pd.read_csv(os.path.join(file_path + file_name_extension),\n",
        "                            index_col = columnTF,\n",
        "                            na_values = \"NaN\",\n",
        "                            encoding = unicode)\n",
        "    return self.data\n",
        "\n",
        "  # 용량이 큰 csv 파일 읽어오기(fopen - fread와 유사한 방식)\n",
        "  def loadDataWithChunking(self, file_path: str, file_name_extension,\n",
        "                           chunking_row_num: int, columnTF: bool, unicode: str) -> pd.DataFrame():\n",
        "    chunkdata = pd.read_csv(os.path.join(file_path + file_name_extension),\n",
        "                            chunksize = chunking_row_num,\n",
        "                            index_col = columnTF,\n",
        "                            na_values = \"NaN\",\n",
        "                            encoding = unicode)\n",
        "    self.data = list(chunkdata)\n",
        "    return self.data\n"
      ],
      "metadata": {
        "id": "cZahRGyx89gl"
      },
      "execution_count": 26,
      "outputs": []
    },
    {
      "cell_type": "code",
      "execution_count": 27,
      "metadata": {
        "id": "I6Hs3Cq687iO"
      },
      "outputs": [],
      "source": [
        "mountInstance = LoadGoogleDriveData()"
      ]
    },
    {
      "cell_type": "markdown",
      "source": [
        "### 1.오아시스 비즈니스(필지고유번호 & 법정동읍면동코드 & 외식업종)  데이터"
      ],
      "metadata": {
        "id": "rTeTEf76RRzM"
      }
    },
    {
      "cell_type": "code",
      "source": [
        "CONTEST_2023 = mountInstance.loadDataWithChunking(\n",
        "    file_path = \"/content/drive/MyDrive/2023BigContest/data/contest data/\", file_name_extension = \"소상공인 매출등급 예상 대상 필지.csv\",\n",
        "    unicode = \"cp949\", chunking_row_num = 10**5, columnTF = False)"
      ],
      "metadata": {
        "id": "v7if8Dbi_hBq"
      },
      "execution_count": 28,
      "outputs": []
    },
    {
      "cell_type": "code",
      "source": [
        "CONTEST_2022 = mountInstance.loadDataWithChunking(\n",
        "    file_path = \"/content/drive/MyDrive/2023BigContest/data/contest data/\", file_name_extension = \"필지단위 소상공인 매출등급 정보.csv\",\n",
        "    unicode = \"cp949\", chunking_row_num = 10**5, columnTF = False)"
      ],
      "metadata": {
        "id": "8W35rCyD_ajL"
      },
      "execution_count": 29,
      "outputs": []
    },
    {
      "cell_type": "markdown",
      "source": [
        "### 2. KCD(상권코드 & 외식업종 중분류) 소상공인 신용데이터"
      ],
      "metadata": {
        "id": "Gio5CaDaRb2i"
      }
    },
    {
      "cell_type": "code",
      "source": [
        "KCD_2022_2023 = mountInstance.loadData(\n",
        "    file_path = \"/content/drive/MyDrive/2023BigContest/data/DESILO_PLATFORM_DATA/\", file_name_extension = \"SOHO_MERGE_DATA_LIST.csv\",\n",
        "    unicode = \"utf-8\", columnTF = False)"
      ],
      "metadata": {
        "id": "6qVXf_gIDYCm"
      },
      "execution_count": 30,
      "outputs": []
    },
    {
      "cell_type": "markdown",
      "source": [
        "### 3. 행정동코드 - 상권코드 매핑 데이터"
      ],
      "metadata": {
        "id": "-xlSY7VtRsEI"
      }
    },
    {
      "cell_type": "code",
      "source": [
        "MARKET_LOC_MAP = mountInstance.loadData(\n",
        "    file_path = \"/content/drive/MyDrive/2023BigContest/data/\",\n",
        "    file_name_extension = \"market_loc_map.csv\",\n",
        "    unicode = \"euc-kr\", columnTF = False)"
      ],
      "metadata": {
        "id": "QWDRjvcSMZ3t"
      },
      "execution_count": 71,
      "outputs": []
    },
    {
      "cell_type": "code",
      "source": [
        "MARKET_LOC_MAP"
      ],
      "metadata": {
        "colab": {
          "base_uri": "https://localhost:8080/",
          "height": 423
        },
        "id": "pzaF7c76NTrc",
        "outputId": "3baf65b6-377e-45af-8504-2a1c1b85bae6"
      },
      "execution_count": 72,
      "outputs": [
        {
          "output_type": "execute_result",
          "data": {
            "text/plain": [
              "      상권_코드_2022  상권_코드_2023    행정동_코드    법정동_코드  STDG_EMD_CD\n",
              "0        2110008     3110008  11110515  11110101     11110101\n",
              "1        2110008     3110008  11110515  11110102     11110102\n",
              "2        2110008     3110008  11110515  11110103     11110103\n",
              "3        2110008     3110008  11110515  11110104     11110104\n",
              "4        2110008     3110008  11110515  11110105     11110105\n",
              "...          ...         ...       ...       ...          ...\n",
              "3453     2130102     3130102  11230750  11230110     11230110\n",
              "3454     2130166     3130166  11380590  11380107     11380107\n",
              "3455     2130113     3130113  11260690  11260106     11260106\n",
              "3456     2130124     3130124  11290780  11290138     11290138\n",
              "3457     2001495     3001495  11710566  11710111     11710111\n",
              "\n",
              "[3458 rows x 5 columns]"
            ],
            "text/html": [
              "\n",
              "  <div id=\"df-d2a107b7-4ea6-4215-b1d0-be6071cfdebd\" class=\"colab-df-container\">\n",
              "    <div>\n",
              "<style scoped>\n",
              "    .dataframe tbody tr th:only-of-type {\n",
              "        vertical-align: middle;\n",
              "    }\n",
              "\n",
              "    .dataframe tbody tr th {\n",
              "        vertical-align: top;\n",
              "    }\n",
              "\n",
              "    .dataframe thead th {\n",
              "        text-align: right;\n",
              "    }\n",
              "</style>\n",
              "<table border=\"1\" class=\"dataframe\">\n",
              "  <thead>\n",
              "    <tr style=\"text-align: right;\">\n",
              "      <th></th>\n",
              "      <th>상권_코드_2022</th>\n",
              "      <th>상권_코드_2023</th>\n",
              "      <th>행정동_코드</th>\n",
              "      <th>법정동_코드</th>\n",
              "      <th>STDG_EMD_CD</th>\n",
              "    </tr>\n",
              "  </thead>\n",
              "  <tbody>\n",
              "    <tr>\n",
              "      <th>0</th>\n",
              "      <td>2110008</td>\n",
              "      <td>3110008</td>\n",
              "      <td>11110515</td>\n",
              "      <td>11110101</td>\n",
              "      <td>11110101</td>\n",
              "    </tr>\n",
              "    <tr>\n",
              "      <th>1</th>\n",
              "      <td>2110008</td>\n",
              "      <td>3110008</td>\n",
              "      <td>11110515</td>\n",
              "      <td>11110102</td>\n",
              "      <td>11110102</td>\n",
              "    </tr>\n",
              "    <tr>\n",
              "      <th>2</th>\n",
              "      <td>2110008</td>\n",
              "      <td>3110008</td>\n",
              "      <td>11110515</td>\n",
              "      <td>11110103</td>\n",
              "      <td>11110103</td>\n",
              "    </tr>\n",
              "    <tr>\n",
              "      <th>3</th>\n",
              "      <td>2110008</td>\n",
              "      <td>3110008</td>\n",
              "      <td>11110515</td>\n",
              "      <td>11110104</td>\n",
              "      <td>11110104</td>\n",
              "    </tr>\n",
              "    <tr>\n",
              "      <th>4</th>\n",
              "      <td>2110008</td>\n",
              "      <td>3110008</td>\n",
              "      <td>11110515</td>\n",
              "      <td>11110105</td>\n",
              "      <td>11110105</td>\n",
              "    </tr>\n",
              "    <tr>\n",
              "      <th>...</th>\n",
              "      <td>...</td>\n",
              "      <td>...</td>\n",
              "      <td>...</td>\n",
              "      <td>...</td>\n",
              "      <td>...</td>\n",
              "    </tr>\n",
              "    <tr>\n",
              "      <th>3453</th>\n",
              "      <td>2130102</td>\n",
              "      <td>3130102</td>\n",
              "      <td>11230750</td>\n",
              "      <td>11230110</td>\n",
              "      <td>11230110</td>\n",
              "    </tr>\n",
              "    <tr>\n",
              "      <th>3454</th>\n",
              "      <td>2130166</td>\n",
              "      <td>3130166</td>\n",
              "      <td>11380590</td>\n",
              "      <td>11380107</td>\n",
              "      <td>11380107</td>\n",
              "    </tr>\n",
              "    <tr>\n",
              "      <th>3455</th>\n",
              "      <td>2130113</td>\n",
              "      <td>3130113</td>\n",
              "      <td>11260690</td>\n",
              "      <td>11260106</td>\n",
              "      <td>11260106</td>\n",
              "    </tr>\n",
              "    <tr>\n",
              "      <th>3456</th>\n",
              "      <td>2130124</td>\n",
              "      <td>3130124</td>\n",
              "      <td>11290780</td>\n",
              "      <td>11290138</td>\n",
              "      <td>11290138</td>\n",
              "    </tr>\n",
              "    <tr>\n",
              "      <th>3457</th>\n",
              "      <td>2001495</td>\n",
              "      <td>3001495</td>\n",
              "      <td>11710566</td>\n",
              "      <td>11710111</td>\n",
              "      <td>11710111</td>\n",
              "    </tr>\n",
              "  </tbody>\n",
              "</table>\n",
              "<p>3458 rows × 5 columns</p>\n",
              "</div>\n",
              "    <div class=\"colab-df-buttons\">\n",
              "\n",
              "  <div class=\"colab-df-container\">\n",
              "    <button class=\"colab-df-convert\" onclick=\"convertToInteractive('df-d2a107b7-4ea6-4215-b1d0-be6071cfdebd')\"\n",
              "            title=\"Convert this dataframe to an interactive table.\"\n",
              "            style=\"display:none;\">\n",
              "\n",
              "  <svg xmlns=\"http://www.w3.org/2000/svg\" height=\"24px\" viewBox=\"0 -960 960 960\">\n",
              "    <path d=\"M120-120v-720h720v720H120Zm60-500h600v-160H180v160Zm220 220h160v-160H400v160Zm0 220h160v-160H400v160ZM180-400h160v-160H180v160Zm440 0h160v-160H620v160ZM180-180h160v-160H180v160Zm440 0h160v-160H620v160Z\"/>\n",
              "  </svg>\n",
              "    </button>\n",
              "\n",
              "  <style>\n",
              "    .colab-df-container {\n",
              "      display:flex;\n",
              "      gap: 12px;\n",
              "    }\n",
              "\n",
              "    .colab-df-convert {\n",
              "      background-color: #E8F0FE;\n",
              "      border: none;\n",
              "      border-radius: 50%;\n",
              "      cursor: pointer;\n",
              "      display: none;\n",
              "      fill: #1967D2;\n",
              "      height: 32px;\n",
              "      padding: 0 0 0 0;\n",
              "      width: 32px;\n",
              "    }\n",
              "\n",
              "    .colab-df-convert:hover {\n",
              "      background-color: #E2EBFA;\n",
              "      box-shadow: 0px 1px 2px rgba(60, 64, 67, 0.3), 0px 1px 3px 1px rgba(60, 64, 67, 0.15);\n",
              "      fill: #174EA6;\n",
              "    }\n",
              "\n",
              "    .colab-df-buttons div {\n",
              "      margin-bottom: 4px;\n",
              "    }\n",
              "\n",
              "    [theme=dark] .colab-df-convert {\n",
              "      background-color: #3B4455;\n",
              "      fill: #D2E3FC;\n",
              "    }\n",
              "\n",
              "    [theme=dark] .colab-df-convert:hover {\n",
              "      background-color: #434B5C;\n",
              "      box-shadow: 0px 1px 3px 1px rgba(0, 0, 0, 0.15);\n",
              "      filter: drop-shadow(0px 1px 2px rgba(0, 0, 0, 0.3));\n",
              "      fill: #FFFFFF;\n",
              "    }\n",
              "  </style>\n",
              "\n",
              "    <script>\n",
              "      const buttonEl =\n",
              "        document.querySelector('#df-d2a107b7-4ea6-4215-b1d0-be6071cfdebd button.colab-df-convert');\n",
              "      buttonEl.style.display =\n",
              "        google.colab.kernel.accessAllowed ? 'block' : 'none';\n",
              "\n",
              "      async function convertToInteractive(key) {\n",
              "        const element = document.querySelector('#df-d2a107b7-4ea6-4215-b1d0-be6071cfdebd');\n",
              "        const dataTable =\n",
              "          await google.colab.kernel.invokeFunction('convertToInteractive',\n",
              "                                                    [key], {});\n",
              "        if (!dataTable) return;\n",
              "\n",
              "        const docLinkHtml = 'Like what you see? Visit the ' +\n",
              "          '<a target=\"_blank\" href=https://colab.research.google.com/notebooks/data_table.ipynb>data table notebook</a>'\n",
              "          + ' to learn more about interactive tables.';\n",
              "        element.innerHTML = '';\n",
              "        dataTable['output_type'] = 'display_data';\n",
              "        await google.colab.output.renderOutput(dataTable, element);\n",
              "        const docLink = document.createElement('div');\n",
              "        docLink.innerHTML = docLinkHtml;\n",
              "        element.appendChild(docLink);\n",
              "      }\n",
              "    </script>\n",
              "  </div>\n",
              "\n",
              "\n",
              "<div id=\"df-6cbe4691-21a6-45f7-a89d-135ac92b7df1\">\n",
              "  <button class=\"colab-df-quickchart\" onclick=\"quickchart('df-6cbe4691-21a6-45f7-a89d-135ac92b7df1')\"\n",
              "            title=\"Suggest charts.\"\n",
              "            style=\"display:none;\">\n",
              "\n",
              "<svg xmlns=\"http://www.w3.org/2000/svg\" height=\"24px\"viewBox=\"0 0 24 24\"\n",
              "     width=\"24px\">\n",
              "    <g>\n",
              "        <path d=\"M19 3H5c-1.1 0-2 .9-2 2v14c0 1.1.9 2 2 2h14c1.1 0 2-.9 2-2V5c0-1.1-.9-2-2-2zM9 17H7v-7h2v7zm4 0h-2V7h2v10zm4 0h-2v-4h2v4z\"/>\n",
              "    </g>\n",
              "</svg>\n",
              "  </button>\n",
              "\n",
              "<style>\n",
              "  .colab-df-quickchart {\n",
              "      --bg-color: #E8F0FE;\n",
              "      --fill-color: #1967D2;\n",
              "      --hover-bg-color: #E2EBFA;\n",
              "      --hover-fill-color: #174EA6;\n",
              "      --disabled-fill-color: #AAA;\n",
              "      --disabled-bg-color: #DDD;\n",
              "  }\n",
              "\n",
              "  [theme=dark] .colab-df-quickchart {\n",
              "      --bg-color: #3B4455;\n",
              "      --fill-color: #D2E3FC;\n",
              "      --hover-bg-color: #434B5C;\n",
              "      --hover-fill-color: #FFFFFF;\n",
              "      --disabled-bg-color: #3B4455;\n",
              "      --disabled-fill-color: #666;\n",
              "  }\n",
              "\n",
              "  .colab-df-quickchart {\n",
              "    background-color: var(--bg-color);\n",
              "    border: none;\n",
              "    border-radius: 50%;\n",
              "    cursor: pointer;\n",
              "    display: none;\n",
              "    fill: var(--fill-color);\n",
              "    height: 32px;\n",
              "    padding: 0;\n",
              "    width: 32px;\n",
              "  }\n",
              "\n",
              "  .colab-df-quickchart:hover {\n",
              "    background-color: var(--hover-bg-color);\n",
              "    box-shadow: 0 1px 2px rgba(60, 64, 67, 0.3), 0 1px 3px 1px rgba(60, 64, 67, 0.15);\n",
              "    fill: var(--button-hover-fill-color);\n",
              "  }\n",
              "\n",
              "  .colab-df-quickchart-complete:disabled,\n",
              "  .colab-df-quickchart-complete:disabled:hover {\n",
              "    background-color: var(--disabled-bg-color);\n",
              "    fill: var(--disabled-fill-color);\n",
              "    box-shadow: none;\n",
              "  }\n",
              "\n",
              "  .colab-df-spinner {\n",
              "    border: 2px solid var(--fill-color);\n",
              "    border-color: transparent;\n",
              "    border-bottom-color: var(--fill-color);\n",
              "    animation:\n",
              "      spin 1s steps(1) infinite;\n",
              "  }\n",
              "\n",
              "  @keyframes spin {\n",
              "    0% {\n",
              "      border-color: transparent;\n",
              "      border-bottom-color: var(--fill-color);\n",
              "      border-left-color: var(--fill-color);\n",
              "    }\n",
              "    20% {\n",
              "      border-color: transparent;\n",
              "      border-left-color: var(--fill-color);\n",
              "      border-top-color: var(--fill-color);\n",
              "    }\n",
              "    30% {\n",
              "      border-color: transparent;\n",
              "      border-left-color: var(--fill-color);\n",
              "      border-top-color: var(--fill-color);\n",
              "      border-right-color: var(--fill-color);\n",
              "    }\n",
              "    40% {\n",
              "      border-color: transparent;\n",
              "      border-right-color: var(--fill-color);\n",
              "      border-top-color: var(--fill-color);\n",
              "    }\n",
              "    60% {\n",
              "      border-color: transparent;\n",
              "      border-right-color: var(--fill-color);\n",
              "    }\n",
              "    80% {\n",
              "      border-color: transparent;\n",
              "      border-right-color: var(--fill-color);\n",
              "      border-bottom-color: var(--fill-color);\n",
              "    }\n",
              "    90% {\n",
              "      border-color: transparent;\n",
              "      border-bottom-color: var(--fill-color);\n",
              "    }\n",
              "  }\n",
              "</style>\n",
              "\n",
              "  <script>\n",
              "    async function quickchart(key) {\n",
              "      const quickchartButtonEl =\n",
              "        document.querySelector('#' + key + ' button');\n",
              "      quickchartButtonEl.disabled = true;  // To prevent multiple clicks.\n",
              "      quickchartButtonEl.classList.add('colab-df-spinner');\n",
              "      try {\n",
              "        const charts = await google.colab.kernel.invokeFunction(\n",
              "            'suggestCharts', [key], {});\n",
              "      } catch (error) {\n",
              "        console.error('Error during call to suggestCharts:', error);\n",
              "      }\n",
              "      quickchartButtonEl.classList.remove('colab-df-spinner');\n",
              "      quickchartButtonEl.classList.add('colab-df-quickchart-complete');\n",
              "    }\n",
              "    (() => {\n",
              "      let quickchartButtonEl =\n",
              "        document.querySelector('#df-6cbe4691-21a6-45f7-a89d-135ac92b7df1 button');\n",
              "      quickchartButtonEl.style.display =\n",
              "        google.colab.kernel.accessAllowed ? 'block' : 'none';\n",
              "    })();\n",
              "  </script>\n",
              "</div>\n",
              "    </div>\n",
              "  </div>\n"
            ]
          },
          "metadata": {},
          "execution_count": 72
        }
      ]
    },
    {
      "cell_type": "markdown",
      "source": [
        "### 4. 서울열린데이터광장 상권특성 공공데이터"
      ],
      "metadata": {
        "id": "XeMd19soRuys"
      }
    },
    {
      "cell_type": "code",
      "source": [
        "# 텍스트 파일 n개가 포함된 C(로컬디스크) 내 파일경로 설정\n",
        "file_path = \"/content/drive/MyDrive/2023BigContest/data\" + \"/\" + \"상권_2022\"\n",
        "# 파일경로 내 텍스트 파일명을 디렉토리 리스트에 저장\n",
        "directory_상권_2022 = os.listdir(file_path)\n",
        "print(directory_상권_2022, end = \", \")\n",
        "\n",
        "data_상권특성_2022: List = [\n",
        "    (directory_상권_2022[index].split(\"(\")[1]).split(\")\")[0]\n",
        "    for index in range(len(directory_상권_2022))\n",
        "]\n",
        "print(\"\\n\", data_상권특성_2022, end = \", \")"
      ],
      "metadata": {
        "colab": {
          "base_uri": "https://localhost:8080/"
        },
        "id": "MYXTfEBCE73E",
        "outputId": "dd6787d6-4191-48d9-a6da-d1f78724c5b8"
      },
      "execution_count": 95,
      "outputs": [
        {
          "output_type": "stream",
          "name": "stdout",
          "text": [
            "['서울시 상권분석서비스(상권영역).csv', '서울시 상권분석서비스(상권배후지-아파트).csv', '서울시 상권분석서비스(상권-소득소비).csv', '서울시 상권분석서비스(상권-아파트).csv', '서울시 상권분석서비스(상권배후지-직장인구).csv', '서울시 상권분석서비스(상권배후지-점포).csv', '서울시 상권분석서비스(상권-점포).csv', '서울시 상권분석서비스(상권배후지-집객시설).csv', '서울시 상권분석서비스(버스 총 승차 승객수 정보).csv', '서울시 상권분석서비스(상권배후지-생활인구).csv', '서울시 상권분석서비스(지하철 총 승차 승객수 정보).csv', '서울시 상권분석서비스(상권-생활인구).csv', '서울시 상권분석서비스(상권-직장인구).csv', '서울시 상권분석서비스(행정동별 상권변화지표).csv', '서울시 상권분석서비스(상권배후지-소득소비).csv'], \n",
            " ['상권영역', '상권배후지-아파트', '상권-소득소비', '상권-아파트', '상권배후지-직장인구', '상권배후지-점포', '상권-점포', '상권배후지-집객시설', '버스 총 승차 승객수 정보', '상권배후지-생활인구', '지하철 총 승차 승객수 정보', '상권-생활인구', '상권-직장인구', '행정동별 상권변화지표', '상권배후지-소득소비'], "
          ]
        }
      ]
    },
    {
      "cell_type": "code",
      "source": [
        "# 텍스트 파일 n개가 포함된 C(로컬디스크) 내 파일경로 설정\n",
        "file_path = \"/content/drive/MyDrive/2023BigContest/data\" + \"/\" + \"상권_2023\"\n",
        "# 파일경로 내 텍스트 파일명을 디렉토리 리스트에 저장\n",
        "directory_상권_2023 = os.listdir(file_path)\n",
        "print(directory_상권_2023, end = \",\")\n",
        "\n",
        "data_상권특성_2023: List = [\n",
        "    (directory_상권_2023[index].split(\"(\")[1]).split(\")\")[0]\n",
        "    for index in range(len(directory_상권_2023))\n",
        "]\n",
        "print(\"\\n\", data_상권특성_2023, end = \", \")"
      ],
      "metadata": {
        "colab": {
          "base_uri": "https://localhost:8080/"
        },
        "id": "YT4OaLRxFYAh",
        "outputId": "752c23d1-d5d6-41fd-a7fc-412035ddcbc9"
      },
      "execution_count": 96,
      "outputs": [
        {
          "output_type": "stream",
          "name": "stdout",
          "text": [
            "['서울시 상권분석서비스(상권배후지-점포)_2023.csv', '서울시 상권분석서비스(상권-점포)_2023.csv', '서울시 상권분석서비스(행정동별 상권변화지표)_2023.csv', '서울시 상권분석서비스(상권배후지-직장인구)_2023.csv', '서울시 상권분석서비스(상권-직장인구)_2023.csv', '서울시 상권분석서비스(상권-아파트)_2023.csv', '서울시 상권분석서비스(상권배후지-아파트)_2023.csv', '서울시 상권분석서비스(버스 총 승차 승객수 정보)_2023.csv', '서울시 상권분석서비스(지하철 총 승차 승객수 정보)_2023.csv', '서울시 상권분석서비스(상권배후지-생활인구)_2023.csv', '서울시 상권분석서비스(상권-생활인구)_2023.csv', '서울시 상권분석서비스(상권-소득소비)_2023.csv', '서울시 상권분석서비스(상권배후지-집객시설)_2023.csv'],\n",
            " ['상권배후지-점포', '상권-점포', '행정동별 상권변화지표', '상권배후지-직장인구', '상권-직장인구', '상권-아파트', '상권배후지-아파트', '버스 총 승차 승객수 정보', '지하철 총 승차 승객수 정보', '상권배후지-생활인구', '상권-생활인구', '상권-소득소비', '상권배후지-집객시설'], "
          ]
        }
      ]
    },
    {
      "cell_type": "code",
      "source": [
        "# 상권특성_2022 및 상권특성_2023 데이터의 교집합\n",
        "print(np.intersect1d(data_상권특성_2022, data_상권특성_2023))\n",
        "# 상권특성_2022 및 상권특성_2023 데이터의 여집합"
      ],
      "metadata": {
        "colab": {
          "base_uri": "https://localhost:8080/"
        },
        "id": "tmsxxyKzKiWP",
        "outputId": "94e6d94e-6d3e-461b-9adc-89e7ad4ce5fc"
      },
      "execution_count": 98,
      "outputs": [
        {
          "output_type": "stream",
          "name": "stdout",
          "text": [
            "['버스 총 승차 승객수 정보' '상권-생활인구' '상권-소득소비'\n",
            " '상권-아파트' '상권-점포' '상권-직장인구'\n",
            " '상권배후지-생활인구' '상권배후지-아파트' '상권배후지-점포'\n",
            " '상권배후지-직장인구' '상권배후지-집객시설'\n",
            " '지하철 총 승차 승객수 정보' '행정동별 상권변화지표']\n"
          ]
        }
      ]
    },
    {
      "cell_type": "code",
      "source": [
        "print(np.setxor1d(data_상권특성_2022, data_상권특성_2023))"
      ],
      "metadata": {
        "colab": {
          "base_uri": "https://localhost:8080/"
        },
        "id": "6zBoUAztQAOg",
        "outputId": "aa6586c0-5f1a-45f5-d29f-c449d5d4099f"
      },
      "execution_count": 100,
      "outputs": [
        {
          "output_type": "stream",
          "name": "stdout",
          "text": [
            "['상권배후지-소득소비' '상권영역']\n"
          ]
        }
      ]
    },
    {
      "cell_type": "code",
      "source": [
        "directory_상권_2022.remove(\"서울시 상권분석서비스(상권배후지-소득소비).csv\")\n",
        "data_상권특성_2022.remove(\"상권배후지-소득소비\")"
      ],
      "metadata": {
        "id": "aeVnupvPK0ck"
      },
      "execution_count": 101,
      "outputs": []
    },
    {
      "cell_type": "code",
      "source": [
        "MARKET_2022_LIST = []\n",
        "for index, data in zip(list(range(len(directory_상권_2022))), directory_상권_2022):\n",
        "  MARKET_2022 = mountInstance.loadData(\n",
        "    file_path = \"/content/drive/MyDrive/2023BigContest/data/상권_2022/\",\n",
        "    file_name_extension = data,\n",
        "    unicode = \"euc-kr\", columnTF = False)\n",
        "  MARKET_2022_LIST.append(MARKET_2022)\n",
        "  MARKET_2022 = 0"
      ],
      "metadata": {
        "id": "7TddsU3aN8OV"
      },
      "execution_count": 103,
      "outputs": []
    },
    {
      "cell_type": "code",
      "source": [
        "MARKET_2023_LIST = []\n",
        "directory_상권_2023: List = [item.split(\".csv\")[0] + \"_2023.csv\" for item in directory_상권_2022[1:]]\n",
        "\n",
        "for index, data in zip(list(range(len(directory_상권_2023))), directory_상권_2023):\n",
        "  MARKET_2023 = mountInstance.loadData(\n",
        "    file_path = \"/content/drive/MyDrive/2023BigContest/data/상권_2023/\",\n",
        "    file_name_extension = data,\n",
        "    unicode = \"euc-kr\", columnTF = False)\n",
        "  MARKET_2023_LIST.append(MARKET_2023)\n",
        "  MARKET_2023 = 0"
      ],
      "metadata": {
        "id": "PG-S6YgrPHuk"
      },
      "execution_count": null,
      "outputs": []
    },
    {
      "cell_type": "code",
      "source": [
        "display(directory_상권_2022)\n",
        "# MARKET_2022_LIST[0]"
      ],
      "metadata": {
        "colab": {
          "base_uri": "https://localhost:8080/",
          "height": 272
        },
        "id": "jxD9KtbtO5Me",
        "outputId": "dc6ec62c-7111-4f4e-b25e-81e6f66f34af"
      },
      "execution_count": 111,
      "outputs": [
        {
          "output_type": "display_data",
          "data": {
            "text/plain": [
              "['서울시 상권분석서비스(상권영역).csv',\n",
              " '서울시 상권분석서비스(상권배후지-아파트).csv',\n",
              " '서울시 상권분석서비스(상권-소득소비).csv',\n",
              " '서울시 상권분석서비스(상권-아파트).csv',\n",
              " '서울시 상권분석서비스(상권배후지-직장인구).csv',\n",
              " '서울시 상권분석서비스(상권배후지-점포).csv',\n",
              " '서울시 상권분석서비스(상권-점포).csv',\n",
              " '서울시 상권분석서비스(상권배후지-집객시설).csv',\n",
              " '서울시 상권분석서비스(버스 총 승차 승객수 정보).csv',\n",
              " '서울시 상권분석서비스(상권배후지-생활인구).csv',\n",
              " '서울시 상권분석서비스(지하철 총 승차 승객수 정보).csv',\n",
              " '서울시 상권분석서비스(상권-생활인구).csv',\n",
              " '서울시 상권분석서비스(상권-직장인구).csv',\n",
              " '서울시 상권분석서비스(행정동별 상권변화지표).csv']"
            ]
          },
          "metadata": {}
        }
      ]
    },
    {
      "cell_type": "code",
      "source": [
        "# display(directory_상권_2023)\n",
        "# MARKET_2023_LIST[6]"
      ],
      "metadata": {
        "id": "LyaP2DupPEV1"
      },
      "execution_count": 113,
      "outputs": []
    },
    {
      "cell_type": "code",
      "source": [],
      "metadata": {
        "id": "sbSJpSO3Up8E"
      },
      "execution_count": null,
      "outputs": []
    },
    {
      "cell_type": "code",
      "source": [],
      "metadata": {
        "id": "ZmfKfk3AUpRk"
      },
      "execution_count": null,
      "outputs": []
    },
    {
      "cell_type": "markdown",
      "source": [
        "### 5.분기별 상권특성 공공데이터 전처리"
      ],
      "metadata": {
        "id": "NILHu-4esJPe"
      }
    },
    {
      "cell_type": "markdown",
      "source": [
        "#### 5.(1) 상권_소득소비\n",
        "\n",
        "  MARKET_2022_LIST[2]\n",
        "\n",
        "  MARKET_2023_LIST[1]\n",
        "\n",
        "  ```\n",
        "  SELECT\n",
        "    AVERAGE(seoul.상권특성.교육_지출_총금액),\n",
        "    AVERAGE(seoul.상권특성.교통_지출_총금액),\n",
        "    AVERAGE(seoul.상권특성.생활용품_지출_총금액),\n",
        "    AVERAGE(seoul.상권특성.문화_지출_총금액),\n",
        "    AVERAGE(seoul.상권특성.유흥_지출_총금액),\n",
        "    AVERAGE(seoul.상권특성.의료비_지출_총금액),\n",
        "    AVERAGE(seoul.상권특성.의류_신발_지출_총금액),\n",
        "    AVERAGE(seoul.상권특성.식료품_지출_총금액),\n",
        "    AVERAGE(seoul.상권특성.여가_지출_총금액),\n",
        "    COUNT(*),\n",
        "    SUM(kcd.meta-info.is_franchise)\n",
        "  FROM kcd.meta-info\n",
        "  JOIN seoul.상권특성\n",
        "  ON kcd.meta-info.trdar_no = seoul.상권특성.상권_코드\n",
        "  WHERE kcd.meta-info.class_1_name = \"외식업\"\n",
        "  GROUP BY seoul.상권특성.기준_년_코드, seoul.상권특성.기준_분기_코드, kcd.meta-info.class_2_name\n",
        "  ```"
      ],
      "metadata": {
        "id": "9ZE75jRlUpj0"
      }
    },
    {
      "cell_type": "code",
      "source": [
        "MARKET_2022_LIST[2].info()"
      ],
      "metadata": {
        "colab": {
          "base_uri": "https://localhost:8080/"
        },
        "id": "CthrtdqXY0Ai",
        "outputId": "91611894-4634-41a5-9bfd-5fe021f52ba2"
      },
      "execution_count": 120,
      "outputs": [
        {
          "output_type": "stream",
          "name": "stdout",
          "text": [
            "<class 'pandas.core.frame.DataFrame'>\n",
            "RangeIndex: 6520 entries, 0 to 6519\n",
            "Data columns (total 18 columns):\n",
            " #   Column        Non-Null Count  Dtype  \n",
            "---  ------        --------------  -----  \n",
            " 0   기준_년_코드       6520 non-null   int64  \n",
            " 1   기준_분기_코드      6520 non-null   int64  \n",
            " 2   상권_구분_코드      6520 non-null   object \n",
            " 3   상권_구분_코드_명    6520 non-null   object \n",
            " 4   상권_코드         6520 non-null   int64  \n",
            " 5   상권_코드_명       6520 non-null   object \n",
            " 6   월_평균_소득_금액    6480 non-null   float64\n",
            " 7   소득_구간_코드      6480 non-null   float64\n",
            " 8   지출_총금액        6388 non-null   float64\n",
            " 9   식료품_지출_총금액    6388 non-null   float64\n",
            " 10  의류_신발_지출_총금액  6388 non-null   float64\n",
            " 11  생활용품_지출_총금액   6388 non-null   float64\n",
            " 12  의료비_지출_총금액    6388 non-null   float64\n",
            " 13  교통_지출_총금액     6388 non-null   float64\n",
            " 14  여가_지출_총금액     6388 non-null   float64\n",
            " 15  문화_지출_총금액     6388 non-null   float64\n",
            " 16  교육_지출_총금액     6388 non-null   float64\n",
            " 17  유흥_지출_총금액     6388 non-null   float64\n",
            "dtypes: float64(12), int64(3), object(3)\n",
            "memory usage: 917.0+ KB\n"
          ]
        }
      ]
    },
    {
      "cell_type": "markdown",
      "source": [
        "#### 5.(2) 상권_배후지_아파트\n",
        "  \n",
        "  MARKET_2022_LIST[3]\n",
        "\n",
        "  MARKET_2023_LIST[2]\n",
        "\n",
        "  ```\n",
        "  SELECT\n",
        "    AVERAGE(seoul.상권특성.아파트_단지_수),\n",
        "    AVERAGE(seoul.상권특성.아파트_가격_1_억_미만_세대_수),\n",
        "    AVERAGE(seoul.상권특성.아파트_가격_1_억_세대_수),\n",
        "    AVERAGE(seoul.상권특성.아파트_가격_2_억_세대_수),\n",
        "    AVERAGE(seoul.상권특성.아파트_가격_3_억_세대_수),\n",
        "    AVERAGE(seoul.상권특성.아파트_가격_4_억_세대_수),\n",
        "    AVERAGE(seoul.상권특성.아파트_가격_5_억_세대_수),\n",
        "    AVERAGE(seoul.상권특성.아파트_가격_6_억_이상_세대_수),\n",
        "    COUNT(*),\n",
        "    SUM(kcd.meta-info.is_franchise)\n",
        "  FROM kcd.meta-info\n",
        "  JOIN seoul.상권특성\n",
        "  ON kcd.meta-info.trdar_nm = seoul.상권특성.상권_코드_명\n",
        "  WHERE kcd.meta-info.class_1_name = \"외식업\"\n",
        "  GROUP BY seoul.상권특성.기준_년_코드, seoul.상권특성.기준_분기_코드, kcd.meta-info.class_2_name\n",
        "  ```"
      ],
      "metadata": {
        "id": "5tO_YEI7U7q4"
      }
    },
    {
      "cell_type": "code",
      "source": [
        "MARKET_2022_LIST[3].info()"
      ],
      "metadata": {
        "colab": {
          "base_uri": "https://localhost:8080/"
        },
        "id": "XykurTA8Y57i",
        "outputId": "78197271-05b1-4a8e-ce7f-b4f45bbf6951"
      },
      "execution_count": 122,
      "outputs": [
        {
          "output_type": "stream",
          "name": "stdout",
          "text": [
            "<class 'pandas.core.frame.DataFrame'>\n",
            "RangeIndex: 5932 entries, 0 to 5931\n",
            "Data columns (total 14 columns):\n",
            " #   Column              Non-Null Count  Dtype  \n",
            "---  ------              --------------  -----  \n",
            " 0   기준_년_코드             5932 non-null   int64  \n",
            " 1   기준_분기_코드            5932 non-null   int64  \n",
            " 2   상권_구분_코드            5932 non-null   object \n",
            " 3   상권_구분_코드_명          5932 non-null   object \n",
            " 4   상권_코드               5932 non-null   int64  \n",
            " 5   상권_코드_명             5932 non-null   object \n",
            " 6   아파트_단지_수            5932 non-null   int64  \n",
            " 7   아파트_가격_1_억_미만_세대_수  4720 non-null   float64\n",
            " 8   아파트_가격_1_억_세대_수     5520 non-null   float64\n",
            " 9   아파트_가격_2_억_세대_수     5440 non-null   float64\n",
            " 10  아파트_가격_3_억_세대_수     4232 non-null   float64\n",
            " 11  아파트_가격_4_억_세대_수     2984 non-null   float64\n",
            " 12  아파트_가격_5_억_세대_수     2120 non-null   float64\n",
            " 13  아파트_가격_6_억_이상_세대_수  1776 non-null   float64\n",
            "dtypes: float64(7), int64(4), object(3)\n",
            "memory usage: 648.9+ KB\n"
          ]
        }
      ]
    },
    {
      "cell_type": "markdown",
      "source": [
        "#### 5.(3) 상권배후지_점포\n",
        "\n",
        "  MARKET_2022_LIST[6]\n",
        "\n",
        "  MARKET_2023_LIST[5]\n",
        "\n",
        "  ```\n",
        "  SELECT\n",
        "    AVERAGE(seoul.상권특성.개업_점포_수),\n",
        "    AVERAGE(seoul.상권특성.유사_업종_점포_수),\n",
        "    AVERAGE(seoul.상권특성.폐업_점포_수),\n",
        "    AVERAGE(seoul.상권특성.점포_수),\n",
        "    AVERAGE(seoul.상권특성.프랜차이즈_점포_수),\n",
        "    STANDARD_DEVIATION_POPULATION(seoul.상권특성.개업_율),\n",
        "    STANDARD_DEVIATION_POPULATION(seoul.상권특성.폐업_율),\n",
        "    COUNT(*),\n",
        "    SUM(kcd.meta-info.is_franchise)\n",
        "  FROM kcd.meta-info\n",
        "  JOIN seoul.상권특성\n",
        "  ON kcd.meta-info.trdar_nm = seoul.상권특성.상권_코드_명\n",
        "  WHERE kcd.meta-info.class_1_name = \"외식업\"\n",
        "  GROUP BY seoul.상권특성.기준_년_코드, seoul.상권특성.기준_분기_코드, kcd.meta-info.class_2_name\n",
        "  ```"
      ],
      "metadata": {
        "id": "cvo-2gZgWux1"
      }
    },
    {
      "cell_type": "code",
      "source": [
        "MARKET_2022_LIST[6].info()"
      ],
      "metadata": {
        "colab": {
          "base_uri": "https://localhost:8080/"
        },
        "id": "OA0_w0AnZTug",
        "outputId": "bdf5532d-2f1b-4dc2-b275-1b85fc990d24"
      },
      "execution_count": 125,
      "outputs": [
        {
          "output_type": "stream",
          "name": "stdout",
          "text": [
            "<class 'pandas.core.frame.DataFrame'>\n",
            "RangeIndex: 299665 entries, 0 to 299664\n",
            "Data columns (total 15 columns):\n",
            " #   Column       Non-Null Count   Dtype \n",
            "---  ------       --------------   ----- \n",
            " 0   기준_년_코드      299665 non-null  int64 \n",
            " 1   기준_분기_코드     299665 non-null  int64 \n",
            " 2   상권_구분_코드     299665 non-null  object\n",
            " 3   상권_구분_코드_명   299665 non-null  object\n",
            " 4   상권_코드        299665 non-null  int64 \n",
            " 5   상권_코드_명      299665 non-null  object\n",
            " 6   서비스_업종_코드    299665 non-null  object\n",
            " 7   서비스_업종_코드_명  299665 non-null  object\n",
            " 8   점포_수         299665 non-null  int64 \n",
            " 9   유사_업종_점포_수   299665 non-null  int64 \n",
            " 10  개업_율         299665 non-null  int64 \n",
            " 11  개업_점포_수      299665 non-null  int64 \n",
            " 12  폐업_률         299665 non-null  int64 \n",
            " 13  폐업_점포_수      299665 non-null  int64 \n",
            " 14  프랜차이즈_점포_수   299665 non-null  int64 \n",
            "dtypes: int64(10), object(5)\n",
            "memory usage: 34.3+ MB\n"
          ]
        }
      ]
    },
    {
      "cell_type": "markdown",
      "source": [
        "#### 5.(4) 상권배후지_집객시설\n",
        "\n",
        "  MARKET_2022_LIST[7]\n",
        "\n",
        "  MARKET_2023_LIST[6]\n",
        "    \n",
        "  ```\n",
        "  SELECT\n",
        "    AVERAGE(seoul.상권특성.집객시설_수),\n",
        "    AVERAGE(seoul.상권특성.관공서_수),\n",
        "    AVERAGE(seoul.상권특성.은행_수),\n",
        "    AVERAGE(seoul.상권특성.종합병원_수),\n",
        "    AVERAGE(seoul.상권특성.일반_병원_수),\n",
        "    AVERAGE(seoul.상권특성.약국_수),\n",
        "    AVERAGE(seoul.상권특성.유치원_수),\n",
        "    AVERAGE(seoul.상권특성.초등학교_수),\n",
        "    AVERAGE(seoul.상권특성.고등학교_수),\n",
        "    AVERAGE(seoul.상권특성.대학교_수),\n",
        "    AVERAGE(seoul.상권특성.백화점_수),\n",
        "    AVERAGE(seoul.상권특성.슈퍼마켓_수),\n",
        "    AVERAGE(seoul.상권특성.숙박_시설_수),AVERAGE(seoul.상권특성.버스_터미널_수),\n",
        "    AVERAGE(seoul.상권특성.지하철_역_수),\n",
        "    AVERAGE(seoul.상권특성.버스_정거장_수),\n",
        "    COUNT(*),\n",
        "    SUM(kcd.meta-info.is_franchise)\n",
        "  FROM kcd.meta-info\n",
        "  JOIN seoul.상권특성\n",
        "  ON kcd.meta-info.trdar_no = seoul.상권특성.상권_코드\n",
        "  WHERE kcd.meta-info.class_1_name = \"외식업\"\n",
        "  GROUP BY seoul.상권특성.기준_년_코드, seoul.상권특성.기준_분기_코드, kcd.meta-info.class_2_name\n",
        "  ```"
      ],
      "metadata": {
        "id": "ioMYwaZSWOyN"
      }
    },
    {
      "cell_type": "code",
      "source": [
        "MARKET_2022_LIST[7].info()"
      ],
      "metadata": {
        "colab": {
          "base_uri": "https://localhost:8080/"
        },
        "id": "7FfWbJ_MZWtS",
        "outputId": "7d22f1df-f9ca-4db5-9141-09dc2a0448bf"
      },
      "execution_count": 126,
      "outputs": [
        {
          "output_type": "stream",
          "name": "stdout",
          "text": [
            "<class 'pandas.core.frame.DataFrame'>\n",
            "RangeIndex: 4360 entries, 0 to 4359\n",
            "Data columns (total 26 columns):\n",
            " #   Column      Non-Null Count  Dtype  \n",
            "---  ------      --------------  -----  \n",
            " 0   기준_년_코드     4360 non-null   int64  \n",
            " 1   기준_분기_코드    4360 non-null   int64  \n",
            " 2   상권_구분_코드    4360 non-null   object \n",
            " 3   상권_구분_코드_명  4360 non-null   object \n",
            " 4   상권_코드       4360 non-null   int64  \n",
            " 5   상권_코드_명     4360 non-null   object \n",
            " 6   집객시설_수      4360 non-null   int64  \n",
            " 7   관공서_수       4160 non-null   float64\n",
            " 8   은행_수        3684 non-null   float64\n",
            " 9   종합병원_수      540 non-null    float64\n",
            " 10  일반_병원_수     1472 non-null   float64\n",
            " 11  약국_수        4204 non-null   float64\n",
            " 12  유치원_수       2376 non-null   float64\n",
            " 13  초등학교_수      3336 non-null   float64\n",
            " 14  중학교_수       2180 non-null   float64\n",
            " 15  고등학교_수      1836 non-null   float64\n",
            " 16  대학교_수       1276 non-null   float64\n",
            " 17  백화점_수       52 non-null     float64\n",
            " 18  슈퍼마켓_수      904 non-null    float64\n",
            " 19  극장_수        8 non-null      float64\n",
            " 20  숙박_시설_수     1124 non-null   float64\n",
            " 21  공항_수        16 non-null     float64\n",
            " 22  철도_역_수      0 non-null      float64\n",
            " 23  버스_터미널_수    28 non-null     float64\n",
            " 24  지하철_역_수     2256 non-null   float64\n",
            " 25  버스_정거장_수    4360 non-null   int64  \n",
            "dtypes: float64(18), int64(5), object(3)\n",
            "memory usage: 885.8+ KB\n"
          ]
        }
      ]
    },
    {
      "cell_type": "code",
      "source": [
        "MARKET_2022_LIST[9].info()"
      ],
      "metadata": {
        "colab": {
          "base_uri": "https://localhost:8080/"
        },
        "id": "HhnUZ-eMZbbG",
        "outputId": "1adf35b4-22ad-408e-efde-9446c041f778"
      },
      "execution_count": 130,
      "outputs": [
        {
          "output_type": "stream",
          "name": "stdout",
          "text": [
            "<class 'pandas.core.frame.DataFrame'>\n",
            "RangeIndex: 4360 entries, 0 to 4359\n",
            "Data columns (total 27 columns):\n",
            " #   Column            Non-Null Count  Dtype \n",
            "---  ------            --------------  ----- \n",
            " 0   기준_년_코드           4360 non-null   int64 \n",
            " 1   기준_분기_코드          4360 non-null   int64 \n",
            " 2   상권_구분_코드          4360 non-null   object\n",
            " 3   상권_구분_코드_명        4360 non-null   object\n",
            " 4   상권_코드             4360 non-null   int64 \n",
            " 5   총_생활인구_수          4360 non-null   int64 \n",
            " 6   남성_생활인구_수         4360 non-null   int64 \n",
            " 7   여성_생활인구_수         4360 non-null   int64 \n",
            " 8   연령대_10_생활인구_수     4360 non-null   int64 \n",
            " 9   연령대_20_생활인구_수     4360 non-null   int64 \n",
            " 10  연령대_30_생활인구_수     4360 non-null   int64 \n",
            " 11  연령대_40_생활인구_수     4360 non-null   int64 \n",
            " 12  연령대_50_생활인구_수     4360 non-null   int64 \n",
            " 13  연령대_60_이상_생활인구_수  4360 non-null   int64 \n",
            " 14  시간대_1_생활인구_수      4360 non-null   int64 \n",
            " 15  시간대_2_생활인구_수      4360 non-null   int64 \n",
            " 16  시간대_3_생활인구_수      4360 non-null   int64 \n",
            " 17  시간대_4_생활인구_수      4360 non-null   int64 \n",
            " 18  시간대_5_생활인구_수      4360 non-null   int64 \n",
            " 19  시간대_6_생활인구_수      4360 non-null   int64 \n",
            " 20  월요일_생활인구_수        4360 non-null   int64 \n",
            " 21  화요일_생활인구_수        4360 non-null   int64 \n",
            " 22  수요일_생활인구_수        4360 non-null   int64 \n",
            " 23  목요일_생활인구_수        4360 non-null   int64 \n",
            " 24  금요일_생활인구_수        4360 non-null   int64 \n",
            " 25  토요일_생활인구_수        4360 non-null   int64 \n",
            " 26  일요일_생활인구_수        4360 non-null   int64 \n",
            "dtypes: int64(25), object(2)\n",
            "memory usage: 919.8+ KB\n"
          ]
        }
      ]
    },
    {
      "cell_type": "markdown",
      "source": [
        "#### 5.(5) 상권_상주인구(상권-생활인구)\n",
        "\n",
        "  MARKET_2022_LIST[11]\n",
        "\n",
        "  MARKET_2022_LIST[10]\n",
        "\n",
        "  ```\n",
        "  SELECT\n",
        "    AVERAGE(seoul.상권특성.연령대_10_상주인구_수),\n",
        "    AVERAGE(seoul.상권특성.연령대_20_상주인구_수),\n",
        "    AVERAGE(seoul.상권특성.연령대_30_상주인구_수),\n",
        "    AVERAGE(seoul.상권특성.연령대_40_상주인구_수),\n",
        "    AVERAGE(seoul.상권특성.연령대_50_상주인구_수),\n",
        "    AVERAGE(seoul.상권특성.연령대_60_이상_상주인구_수),\n",
        "    AVERAGE(seoul.상권특성.총_가구_수),\n",
        "    AVERAGE(seoul.상권특성.비_아파트_가구_수),\n",
        "    AVERAGE(seoul.상권특성.아파트_가구_수),\n",
        "    AVERAGE(seoul.상권특성.총_상주인구_수),\n",
        "    AVERAGE(seoul.상권특성.남성_상주인구_수),\n",
        "    AVERAGE(seoul.상권특성.여성_상주인구_수),\n",
        "    COUNT(*),\n",
        "    SUM(kcd.meta-info.is_franchise)\n",
        "  FROM kcd.meta-info\n",
        "  JOIN seoul.상권특성\n",
        "  ON kcd.meta-info.trdar_no = seoul.상권특성.상권_코드\n",
        "  WHERE kcd.meta-info.class_1_name = \"외식업\"\n",
        "  GROUP BY seoul.상권특성.기준_년_코드, seoul.상권특성.기준_분기_코드, kcd.meta-info.class_2_name\n",
        "  ```"
      ],
      "metadata": {
        "id": "CTkvjcpFYABz"
      }
    },
    {
      "cell_type": "code",
      "source": [
        "MARKET_2022_LIST[11].rename(columns = {\" 상권_구분_코드_명\":\"상권_구분_코드_명\"}, inplace = True)\n",
        "MARKET_2022_LIST[10].rename(columns = {\" 상권_구분_코드_명\":\"상권_구분_코드_명\"}, inplace = True)"
      ],
      "metadata": {
        "id": "Hxb4fNF5ZhLm"
      },
      "execution_count": 139,
      "outputs": []
    },
    {
      "cell_type": "code",
      "source": [
        "MARKET_2022_LIST[11].info()"
      ],
      "metadata": {
        "colab": {
          "base_uri": "https://localhost:8080/"
        },
        "id": "7X9IfS_ecl6J",
        "outputId": "62fb34b6-5c89-4df6-8cc3-6c068cd98f43"
      },
      "execution_count": 140,
      "outputs": [
        {
          "output_type": "stream",
          "name": "stdout",
          "text": [
            "<class 'pandas.core.frame.DataFrame'>\n",
            "RangeIndex: 6674 entries, 0 to 6673\n",
            "Data columns (total 28 columns):\n",
            " #   Column            Non-Null Count  Dtype \n",
            "---  ------            --------------  ----- \n",
            " 0   기준_년_코드           6674 non-null   int64 \n",
            " 1   기준_분기_코드          6674 non-null   int64 \n",
            " 2   상권_구분_코드          6674 non-null   object\n",
            " 3   상권_구분_코드_명        6674 non-null   object\n",
            " 4   상권_코드             6674 non-null   int64 \n",
            " 5   상권_코드_명           6674 non-null   object\n",
            " 6   총_생활인구_수          6674 non-null   int64 \n",
            " 7   남성_생활인구_수         6674 non-null   int64 \n",
            " 8   여성_생활인구_수         6674 non-null   int64 \n",
            " 9   연령대_10_생활인구_수     6674 non-null   int64 \n",
            " 10  연령대_20_생활인구_수     6674 non-null   int64 \n",
            " 11  연령대_30_생활인구_수     6674 non-null   int64 \n",
            " 12  연령대_40_생활인구_수     6674 non-null   int64 \n",
            " 13  연령대_50_생활인구_수     6674 non-null   int64 \n",
            " 14  연령대_60_이상_생활인구_수  6674 non-null   int64 \n",
            " 15  시간대_1_생활인구_수      6674 non-null   int64 \n",
            " 16  시간대_2_생활인구_수      6674 non-null   int64 \n",
            " 17  시간대_3_생활인구_수      6674 non-null   int64 \n",
            " 18  시간대_4_생활인구_수      6674 non-null   int64 \n",
            " 19  시간대_5_생활인구_수      6674 non-null   int64 \n",
            " 20  시간대_6_생활인구_수      6674 non-null   int64 \n",
            " 21  월요일_생활인구_수        6674 non-null   int64 \n",
            " 22  화요일_생활인구_수        6674 non-null   int64 \n",
            " 23  수요일_생활인구_수        6674 non-null   int64 \n",
            " 24  목요일_생활인구_수        6674 non-null   int64 \n",
            " 25  금요일_생활인구_수        6674 non-null   int64 \n",
            " 26  토요일_생활인구_수        6674 non-null   int64 \n",
            " 27  일요일_생활인구_수        6674 non-null   int64 \n",
            "dtypes: int64(25), object(3)\n",
            "memory usage: 1.4+ MB\n"
          ]
        }
      ]
    },
    {
      "cell_type": "markdown",
      "source": [
        "#### 5.(6) 상권_점포(행정동별 상권변화지표)\n",
        "\n",
        "  ['상권축소', '정체', '다이나믹', '상권확장']\n",
        "  \n",
        "  MARKET_2022_LIST[13]\n",
        "\n",
        "  MARKET_2023_LIST[12]\n",
        "\n",
        "  ```\n",
        "  SELECT\n",
        "    AVERAGE(seoul.상권특성.개업_점포_수),\n",
        "    AVERAGE(seoul.상권특성.유사_업종_점포_수),\n",
        "    AVERAGE(seoul.상권특성.폐업_점포_수),\n",
        "    AVERAGE(seoul.상권특성.점포_수),\n",
        "    AVERAGE(seoul.상권특성.프랜차이즈_점포_수),\n",
        "    STANDARD_DEVIATION_POPULATION(seoul.상권특성.개업_율),\n",
        "    STANDARD_DEVIATION_POPULATION(seoul.상권특성.폐업_율),\n",
        "    COUNT(*),\n",
        "    SUM(kcd.meta-info.is_franchise)\n",
        "  FROM kcd.meta-info\n",
        "  JOIN seoul.상권특성\n",
        "  ON kcd.meta-info.trdar_nm = seoul.상권특성.상권_코드_명\n",
        "  WHERE kcd.meta-info.class_1_name = \"외식업\"\n",
        "  GROUP BY seoul.상권특성.기준_년_코드, seoul.상권특성.기준_분기_코드, kcd.meta-info.class_2_name\n",
        "  ```"
      ],
      "metadata": {
        "id": "ilahIBmHW6Im"
      }
    },
    {
      "cell_type": "code",
      "source": [
        "MARKET_2022_LIST[13].info()"
      ],
      "metadata": {
        "colab": {
          "base_uri": "https://localhost:8080/"
        },
        "id": "1ON2hacUXdBk",
        "outputId": "311be8d4-2916-4076-d870-d522001e54f6"
      },
      "execution_count": 129,
      "outputs": [
        {
          "output_type": "stream",
          "name": "stdout",
          "text": [
            "<class 'pandas.core.frame.DataFrame'>\n",
            "RangeIndex: 1696 entries, 0 to 1695\n",
            "Data columns (total 10 columns):\n",
            " #   Column          Non-Null Count  Dtype \n",
            "---  ------          --------------  ----- \n",
            " 0   기준_년_코드         1696 non-null   int64 \n",
            " 1   기준_분기_코드        1696 non-null   int64 \n",
            " 2   행정동_코드          1696 non-null   int64 \n",
            " 3   행정동_코드_명        1696 non-null   object\n",
            " 4   상권_변화_지표        1696 non-null   object\n",
            " 5   상권_변화_지표_명      1696 non-null   object\n",
            " 6   운영_영업_개월_평균     1696 non-null   int64 \n",
            " 7   폐업_영업_개월_평균     1696 non-null   int64 \n",
            " 8   서울_운영_영업_개월_평균  1696 non-null   int64 \n",
            " 9   서울_폐업_영업_개월_평균  1696 non-null   int64 \n",
            "dtypes: int64(7), object(3)\n",
            "memory usage: 132.6+ KB\n"
          ]
        }
      ]
    },
    {
      "cell_type": "markdown",
      "source": [
        "___"
      ],
      "metadata": {
        "id": "ZSjF1T9Bb-PA"
      }
    },
    {
      "cell_type": "code",
      "source": [
        "for index in [2, 3, 6, 7, 11]:\n",
        "  if index == 2:\n",
        "    MERGE_2022_DATA = MARKET_2022_LIST[index]\n",
        "  else:\n",
        "    MERGE_2022_DATA = pd.merge(\n",
        "        left = MERGE_2022_DATA, right = MARKET_2022_LIST[index],\n",
        "        on = [\"기준_년_코드\", \"기준_분기_코드\", \"상권_구분_코드\", \"상권_구분_코드_명\", \"상권_코드\", \"상권_코드_명\"],\n",
        "        how = \"inner\")"
      ],
      "metadata": {
        "id": "ptPscYzEa07d"
      },
      "execution_count": 141,
      "outputs": []
    },
    {
      "cell_type": "code",
      "source": [
        "MARKET_2022_LIST[0].drop([\"형태정보\"], axis = 1, inplace = True)"
      ],
      "metadata": {
        "id": "YGd860ZEdUVm"
      },
      "execution_count": 148,
      "outputs": []
    },
    {
      "cell_type": "code",
      "source": [
        "MARKET_LOC_MAP.info()\n",
        "MARKET_LOC_MAP"
      ],
      "metadata": {
        "colab": {
          "base_uri": "https://localhost:8080/",
          "height": 642
        },
        "id": "72SOfxnfdyEB",
        "outputId": "fec29660-13f5-4aa0-ec58-6077f2c22724"
      },
      "execution_count": 150,
      "outputs": [
        {
          "output_type": "stream",
          "name": "stdout",
          "text": [
            "<class 'pandas.core.frame.DataFrame'>\n",
            "RangeIndex: 3458 entries, 0 to 3457\n",
            "Data columns (total 5 columns):\n",
            " #   Column       Non-Null Count  Dtype\n",
            "---  ------       --------------  -----\n",
            " 0   상권_코드_2022   3458 non-null   int64\n",
            " 1   상권_코드_2023   3458 non-null   int64\n",
            " 2   행정동_코드       3458 non-null   int64\n",
            " 3   법정동_코드       3458 non-null   int64\n",
            " 4   STDG_EMD_CD  3458 non-null   int64\n",
            "dtypes: int64(5)\n",
            "memory usage: 135.2 KB\n"
          ]
        },
        {
          "output_type": "execute_result",
          "data": {
            "text/plain": [
              "      상권_코드_2022  상권_코드_2023    행정동_코드    법정동_코드  STDG_EMD_CD\n",
              "0        2110008     3110008  11110515  11110101     11110101\n",
              "1        2110008     3110008  11110515  11110102     11110102\n",
              "2        2110008     3110008  11110515  11110103     11110103\n",
              "3        2110008     3110008  11110515  11110104     11110104\n",
              "4        2110008     3110008  11110515  11110105     11110105\n",
              "...          ...         ...       ...       ...          ...\n",
              "3453     2130102     3130102  11230750  11230110     11230110\n",
              "3454     2130166     3130166  11380590  11380107     11380107\n",
              "3455     2130113     3130113  11260690  11260106     11260106\n",
              "3456     2130124     3130124  11290780  11290138     11290138\n",
              "3457     2001495     3001495  11710566  11710111     11710111\n",
              "\n",
              "[3458 rows x 5 columns]"
            ],
            "text/html": [
              "\n",
              "  <div id=\"df-5c5d9354-c072-46d5-b79c-77aebeda0eb8\" class=\"colab-df-container\">\n",
              "    <div>\n",
              "<style scoped>\n",
              "    .dataframe tbody tr th:only-of-type {\n",
              "        vertical-align: middle;\n",
              "    }\n",
              "\n",
              "    .dataframe tbody tr th {\n",
              "        vertical-align: top;\n",
              "    }\n",
              "\n",
              "    .dataframe thead th {\n",
              "        text-align: right;\n",
              "    }\n",
              "</style>\n",
              "<table border=\"1\" class=\"dataframe\">\n",
              "  <thead>\n",
              "    <tr style=\"text-align: right;\">\n",
              "      <th></th>\n",
              "      <th>상권_코드_2022</th>\n",
              "      <th>상권_코드_2023</th>\n",
              "      <th>행정동_코드</th>\n",
              "      <th>법정동_코드</th>\n",
              "      <th>STDG_EMD_CD</th>\n",
              "    </tr>\n",
              "  </thead>\n",
              "  <tbody>\n",
              "    <tr>\n",
              "      <th>0</th>\n",
              "      <td>2110008</td>\n",
              "      <td>3110008</td>\n",
              "      <td>11110515</td>\n",
              "      <td>11110101</td>\n",
              "      <td>11110101</td>\n",
              "    </tr>\n",
              "    <tr>\n",
              "      <th>1</th>\n",
              "      <td>2110008</td>\n",
              "      <td>3110008</td>\n",
              "      <td>11110515</td>\n",
              "      <td>11110102</td>\n",
              "      <td>11110102</td>\n",
              "    </tr>\n",
              "    <tr>\n",
              "      <th>2</th>\n",
              "      <td>2110008</td>\n",
              "      <td>3110008</td>\n",
              "      <td>11110515</td>\n",
              "      <td>11110103</td>\n",
              "      <td>11110103</td>\n",
              "    </tr>\n",
              "    <tr>\n",
              "      <th>3</th>\n",
              "      <td>2110008</td>\n",
              "      <td>3110008</td>\n",
              "      <td>11110515</td>\n",
              "      <td>11110104</td>\n",
              "      <td>11110104</td>\n",
              "    </tr>\n",
              "    <tr>\n",
              "      <th>4</th>\n",
              "      <td>2110008</td>\n",
              "      <td>3110008</td>\n",
              "      <td>11110515</td>\n",
              "      <td>11110105</td>\n",
              "      <td>11110105</td>\n",
              "    </tr>\n",
              "    <tr>\n",
              "      <th>...</th>\n",
              "      <td>...</td>\n",
              "      <td>...</td>\n",
              "      <td>...</td>\n",
              "      <td>...</td>\n",
              "      <td>...</td>\n",
              "    </tr>\n",
              "    <tr>\n",
              "      <th>3453</th>\n",
              "      <td>2130102</td>\n",
              "      <td>3130102</td>\n",
              "      <td>11230750</td>\n",
              "      <td>11230110</td>\n",
              "      <td>11230110</td>\n",
              "    </tr>\n",
              "    <tr>\n",
              "      <th>3454</th>\n",
              "      <td>2130166</td>\n",
              "      <td>3130166</td>\n",
              "      <td>11380590</td>\n",
              "      <td>11380107</td>\n",
              "      <td>11380107</td>\n",
              "    </tr>\n",
              "    <tr>\n",
              "      <th>3455</th>\n",
              "      <td>2130113</td>\n",
              "      <td>3130113</td>\n",
              "      <td>11260690</td>\n",
              "      <td>11260106</td>\n",
              "      <td>11260106</td>\n",
              "    </tr>\n",
              "    <tr>\n",
              "      <th>3456</th>\n",
              "      <td>2130124</td>\n",
              "      <td>3130124</td>\n",
              "      <td>11290780</td>\n",
              "      <td>11290138</td>\n",
              "      <td>11290138</td>\n",
              "    </tr>\n",
              "    <tr>\n",
              "      <th>3457</th>\n",
              "      <td>2001495</td>\n",
              "      <td>3001495</td>\n",
              "      <td>11710566</td>\n",
              "      <td>11710111</td>\n",
              "      <td>11710111</td>\n",
              "    </tr>\n",
              "  </tbody>\n",
              "</table>\n",
              "<p>3458 rows × 5 columns</p>\n",
              "</div>\n",
              "    <div class=\"colab-df-buttons\">\n",
              "\n",
              "  <div class=\"colab-df-container\">\n",
              "    <button class=\"colab-df-convert\" onclick=\"convertToInteractive('df-5c5d9354-c072-46d5-b79c-77aebeda0eb8')\"\n",
              "            title=\"Convert this dataframe to an interactive table.\"\n",
              "            style=\"display:none;\">\n",
              "\n",
              "  <svg xmlns=\"http://www.w3.org/2000/svg\" height=\"24px\" viewBox=\"0 -960 960 960\">\n",
              "    <path d=\"M120-120v-720h720v720H120Zm60-500h600v-160H180v160Zm220 220h160v-160H400v160Zm0 220h160v-160H400v160ZM180-400h160v-160H180v160Zm440 0h160v-160H620v160ZM180-180h160v-160H180v160Zm440 0h160v-160H620v160Z\"/>\n",
              "  </svg>\n",
              "    </button>\n",
              "\n",
              "  <style>\n",
              "    .colab-df-container {\n",
              "      display:flex;\n",
              "      gap: 12px;\n",
              "    }\n",
              "\n",
              "    .colab-df-convert {\n",
              "      background-color: #E8F0FE;\n",
              "      border: none;\n",
              "      border-radius: 50%;\n",
              "      cursor: pointer;\n",
              "      display: none;\n",
              "      fill: #1967D2;\n",
              "      height: 32px;\n",
              "      padding: 0 0 0 0;\n",
              "      width: 32px;\n",
              "    }\n",
              "\n",
              "    .colab-df-convert:hover {\n",
              "      background-color: #E2EBFA;\n",
              "      box-shadow: 0px 1px 2px rgba(60, 64, 67, 0.3), 0px 1px 3px 1px rgba(60, 64, 67, 0.15);\n",
              "      fill: #174EA6;\n",
              "    }\n",
              "\n",
              "    .colab-df-buttons div {\n",
              "      margin-bottom: 4px;\n",
              "    }\n",
              "\n",
              "    [theme=dark] .colab-df-convert {\n",
              "      background-color: #3B4455;\n",
              "      fill: #D2E3FC;\n",
              "    }\n",
              "\n",
              "    [theme=dark] .colab-df-convert:hover {\n",
              "      background-color: #434B5C;\n",
              "      box-shadow: 0px 1px 3px 1px rgba(0, 0, 0, 0.15);\n",
              "      filter: drop-shadow(0px 1px 2px rgba(0, 0, 0, 0.3));\n",
              "      fill: #FFFFFF;\n",
              "    }\n",
              "  </style>\n",
              "\n",
              "    <script>\n",
              "      const buttonEl =\n",
              "        document.querySelector('#df-5c5d9354-c072-46d5-b79c-77aebeda0eb8 button.colab-df-convert');\n",
              "      buttonEl.style.display =\n",
              "        google.colab.kernel.accessAllowed ? 'block' : 'none';\n",
              "\n",
              "      async function convertToInteractive(key) {\n",
              "        const element = document.querySelector('#df-5c5d9354-c072-46d5-b79c-77aebeda0eb8');\n",
              "        const dataTable =\n",
              "          await google.colab.kernel.invokeFunction('convertToInteractive',\n",
              "                                                    [key], {});\n",
              "        if (!dataTable) return;\n",
              "\n",
              "        const docLinkHtml = 'Like what you see? Visit the ' +\n",
              "          '<a target=\"_blank\" href=https://colab.research.google.com/notebooks/data_table.ipynb>data table notebook</a>'\n",
              "          + ' to learn more about interactive tables.';\n",
              "        element.innerHTML = '';\n",
              "        dataTable['output_type'] = 'display_data';\n",
              "        await google.colab.output.renderOutput(dataTable, element);\n",
              "        const docLink = document.createElement('div');\n",
              "        docLink.innerHTML = docLinkHtml;\n",
              "        element.appendChild(docLink);\n",
              "      }\n",
              "    </script>\n",
              "  </div>\n",
              "\n",
              "\n",
              "<div id=\"df-009a6332-eb02-4989-beca-2721662dbe36\">\n",
              "  <button class=\"colab-df-quickchart\" onclick=\"quickchart('df-009a6332-eb02-4989-beca-2721662dbe36')\"\n",
              "            title=\"Suggest charts.\"\n",
              "            style=\"display:none;\">\n",
              "\n",
              "<svg xmlns=\"http://www.w3.org/2000/svg\" height=\"24px\"viewBox=\"0 0 24 24\"\n",
              "     width=\"24px\">\n",
              "    <g>\n",
              "        <path d=\"M19 3H5c-1.1 0-2 .9-2 2v14c0 1.1.9 2 2 2h14c1.1 0 2-.9 2-2V5c0-1.1-.9-2-2-2zM9 17H7v-7h2v7zm4 0h-2V7h2v10zm4 0h-2v-4h2v4z\"/>\n",
              "    </g>\n",
              "</svg>\n",
              "  </button>\n",
              "\n",
              "<style>\n",
              "  .colab-df-quickchart {\n",
              "      --bg-color: #E8F0FE;\n",
              "      --fill-color: #1967D2;\n",
              "      --hover-bg-color: #E2EBFA;\n",
              "      --hover-fill-color: #174EA6;\n",
              "      --disabled-fill-color: #AAA;\n",
              "      --disabled-bg-color: #DDD;\n",
              "  }\n",
              "\n",
              "  [theme=dark] .colab-df-quickchart {\n",
              "      --bg-color: #3B4455;\n",
              "      --fill-color: #D2E3FC;\n",
              "      --hover-bg-color: #434B5C;\n",
              "      --hover-fill-color: #FFFFFF;\n",
              "      --disabled-bg-color: #3B4455;\n",
              "      --disabled-fill-color: #666;\n",
              "  }\n",
              "\n",
              "  .colab-df-quickchart {\n",
              "    background-color: var(--bg-color);\n",
              "    border: none;\n",
              "    border-radius: 50%;\n",
              "    cursor: pointer;\n",
              "    display: none;\n",
              "    fill: var(--fill-color);\n",
              "    height: 32px;\n",
              "    padding: 0;\n",
              "    width: 32px;\n",
              "  }\n",
              "\n",
              "  .colab-df-quickchart:hover {\n",
              "    background-color: var(--hover-bg-color);\n",
              "    box-shadow: 0 1px 2px rgba(60, 64, 67, 0.3), 0 1px 3px 1px rgba(60, 64, 67, 0.15);\n",
              "    fill: var(--button-hover-fill-color);\n",
              "  }\n",
              "\n",
              "  .colab-df-quickchart-complete:disabled,\n",
              "  .colab-df-quickchart-complete:disabled:hover {\n",
              "    background-color: var(--disabled-bg-color);\n",
              "    fill: var(--disabled-fill-color);\n",
              "    box-shadow: none;\n",
              "  }\n",
              "\n",
              "  .colab-df-spinner {\n",
              "    border: 2px solid var(--fill-color);\n",
              "    border-color: transparent;\n",
              "    border-bottom-color: var(--fill-color);\n",
              "    animation:\n",
              "      spin 1s steps(1) infinite;\n",
              "  }\n",
              "\n",
              "  @keyframes spin {\n",
              "    0% {\n",
              "      border-color: transparent;\n",
              "      border-bottom-color: var(--fill-color);\n",
              "      border-left-color: var(--fill-color);\n",
              "    }\n",
              "    20% {\n",
              "      border-color: transparent;\n",
              "      border-left-color: var(--fill-color);\n",
              "      border-top-color: var(--fill-color);\n",
              "    }\n",
              "    30% {\n",
              "      border-color: transparent;\n",
              "      border-left-color: var(--fill-color);\n",
              "      border-top-color: var(--fill-color);\n",
              "      border-right-color: var(--fill-color);\n",
              "    }\n",
              "    40% {\n",
              "      border-color: transparent;\n",
              "      border-right-color: var(--fill-color);\n",
              "      border-top-color: var(--fill-color);\n",
              "    }\n",
              "    60% {\n",
              "      border-color: transparent;\n",
              "      border-right-color: var(--fill-color);\n",
              "    }\n",
              "    80% {\n",
              "      border-color: transparent;\n",
              "      border-right-color: var(--fill-color);\n",
              "      border-bottom-color: var(--fill-color);\n",
              "    }\n",
              "    90% {\n",
              "      border-color: transparent;\n",
              "      border-bottom-color: var(--fill-color);\n",
              "    }\n",
              "  }\n",
              "</style>\n",
              "\n",
              "  <script>\n",
              "    async function quickchart(key) {\n",
              "      const quickchartButtonEl =\n",
              "        document.querySelector('#' + key + ' button');\n",
              "      quickchartButtonEl.disabled = true;  // To prevent multiple clicks.\n",
              "      quickchartButtonEl.classList.add('colab-df-spinner');\n",
              "      try {\n",
              "        const charts = await google.colab.kernel.invokeFunction(\n",
              "            'suggestCharts', [key], {});\n",
              "      } catch (error) {\n",
              "        console.error('Error during call to suggestCharts:', error);\n",
              "      }\n",
              "      quickchartButtonEl.classList.remove('colab-df-spinner');\n",
              "      quickchartButtonEl.classList.add('colab-df-quickchart-complete');\n",
              "    }\n",
              "    (() => {\n",
              "      let quickchartButtonEl =\n",
              "        document.querySelector('#df-009a6332-eb02-4989-beca-2721662dbe36 button');\n",
              "      quickchartButtonEl.style.display =\n",
              "        google.colab.kernel.accessAllowed ? 'block' : 'none';\n",
              "    })();\n",
              "  </script>\n",
              "</div>\n",
              "    </div>\n",
              "  </div>\n"
            ]
          },
          "metadata": {},
          "execution_count": 150
        }
      ]
    },
    {
      "cell_type": "code",
      "source": [
        "MARKET_2022_LIST[13] = pd.merge(\n",
        "    left = MARKET_LOC_MAP, right = MARKET_2022_LIST[13],\n",
        "    on = [\"행정동_코드\"],\n",
        "    how = \"inner\")\n",
        "\n",
        "MERGE_2022_DATA = pd.merge(\n",
        "        left = MERGE_2022_DATA, right = MARKET_2022_LIST[13],\n",
        "        on = [\"기준_년_코드\", \"기준_분기_코드\", \"행정동_코드\"],\n",
        "        how = \"inner\")"
      ],
      "metadata": {
        "id": "LbN1ppf5dsUv"
      },
      "execution_count": null,
      "outputs": []
    },
    {
      "cell_type": "code",
      "source": [
        "MERGE_2022_DATA.info()"
      ],
      "metadata": {
        "colab": {
          "base_uri": "https://localhost:8080/"
        },
        "id": "5-hcyym6ZkkY",
        "outputId": "46e7982a-e179-4ff9-eba4-8082d9031f4e"
      },
      "execution_count": 143,
      "outputs": [
        {
          "output_type": "stream",
          "name": "stdout",
          "text": [
            "<class 'pandas.core.frame.DataFrame'>\n",
            "Int64Index: 178774 entries, 0 to 178773\n",
            "Data columns (total 77 columns):\n",
            " #   Column              Non-Null Count   Dtype  \n",
            "---  ------              --------------   -----  \n",
            " 0   기준_년_코드             178774 non-null  int64  \n",
            " 1   기준_분기_코드            178774 non-null  int64  \n",
            " 2   상권_구분_코드            178774 non-null  object \n",
            " 3   상권_구분_코드_명          178774 non-null  object \n",
            " 4   상권_코드               178774 non-null  int64  \n",
            " 5   상권_코드_명             178774 non-null  object \n",
            " 6   월_평균_소득_금액          178711 non-null  float64\n",
            " 7   소득_구간_코드            178711 non-null  float64\n",
            " 8   지출_총금액              178774 non-null  float64\n",
            " 9   식료품_지출_총금액          178774 non-null  float64\n",
            " 10  의류_신발_지출_총금액        178774 non-null  float64\n",
            " 11  생활용품_지출_총금액         178774 non-null  float64\n",
            " 12  의료비_지출_총금액          178774 non-null  float64\n",
            " 13  교통_지출_총금액           178774 non-null  float64\n",
            " 14  여가_지출_총금액           178774 non-null  float64\n",
            " 15  문화_지출_총금액           178774 non-null  float64\n",
            " 16  교육_지출_총금액           178774 non-null  float64\n",
            " 17  유흥_지출_총금액           178774 non-null  float64\n",
            " 18  아파트_단지_수            178774 non-null  int64  \n",
            " 19  아파트_가격_1_억_미만_세대_수  157018 non-null  float64\n",
            " 20  아파트_가격_1_억_세대_수     172199 non-null  float64\n",
            " 21  아파트_가격_2_억_세대_수     171275 non-null  float64\n",
            " 22  아파트_가격_3_억_세대_수     140663 non-null  float64\n",
            " 23  아파트_가격_4_억_세대_수     96374 non-null   float64\n",
            " 24  아파트_가격_5_억_세대_수     67937 non-null   float64\n",
            " 25  아파트_가격_6_억_이상_세대_수  51166 non-null   float64\n",
            " 26  서비스_업종_코드           178774 non-null  object \n",
            " 27  서비스_업종_코드_명         178774 non-null  object \n",
            " 28  점포_수                178774 non-null  int64  \n",
            " 29  유사_업종_점포_수          178774 non-null  int64  \n",
            " 30  개업_율                178774 non-null  int64  \n",
            " 31  개업_점포_수             178774 non-null  int64  \n",
            " 32  폐업_률                178774 non-null  int64  \n",
            " 33  폐업_점포_수             178774 non-null  int64  \n",
            " 34  프랜차이즈_점포_수          178774 non-null  int64  \n",
            " 35  집객시설_수              178774 non-null  int64  \n",
            " 36  관공서_수               173528 non-null  float64\n",
            " 37  은행_수                157624 non-null  float64\n",
            " 38  종합병원_수              22218 non-null   float64\n",
            " 39  일반_병원_수             68194 non-null   float64\n",
            " 40  약국_수                175663 non-null  float64\n",
            " 41  유치원_수               105285 non-null  float64\n",
            " 42  초등학교_수              146078 non-null  float64\n",
            " 43  중학교_수               95740 non-null   float64\n",
            " 44  고등학교_수              78654 non-null   float64\n",
            " 45  대학교_수               52442 non-null   float64\n",
            " 46  백화점_수               2495 non-null    float64\n",
            " 47  슈퍼마켓_수              41360 non-null   float64\n",
            " 48  극장_수                283 non-null     float64\n",
            " 49  숙박_시설_수             48988 non-null   float64\n",
            " 50  공항_수                762 non-null     float64\n",
            " 51  철도_역_수              0 non-null       float64\n",
            " 52  버스_터미널_수            1256 non-null    float64\n",
            " 53  지하철_역_수             97453 non-null   float64\n",
            " 54  버스_정거장_수            178774 non-null  int64  \n",
            " 55  총_생활인구_수            178774 non-null  int64  \n",
            " 56  남성_생활인구_수           178774 non-null  int64  \n",
            " 57  여성_생활인구_수           178774 non-null  int64  \n",
            " 58  연령대_10_생활인구_수       178774 non-null  int64  \n",
            " 59  연령대_20_생활인구_수       178774 non-null  int64  \n",
            " 60  연령대_30_생활인구_수       178774 non-null  int64  \n",
            " 61  연령대_40_생활인구_수       178774 non-null  int64  \n",
            " 62  연령대_50_생활인구_수       178774 non-null  int64  \n",
            " 63  연령대_60_이상_생활인구_수    178774 non-null  int64  \n",
            " 64  시간대_1_생활인구_수        178774 non-null  int64  \n",
            " 65  시간대_2_생활인구_수        178774 non-null  int64  \n",
            " 66  시간대_3_생활인구_수        178774 non-null  int64  \n",
            " 67  시간대_4_생활인구_수        178774 non-null  int64  \n",
            " 68  시간대_5_생활인구_수        178774 non-null  int64  \n",
            " 69  시간대_6_생활인구_수        178774 non-null  int64  \n",
            " 70  월요일_생활인구_수          178774 non-null  int64  \n",
            " 71  화요일_생활인구_수          178774 non-null  int64  \n",
            " 72  수요일_생활인구_수          178774 non-null  int64  \n",
            " 73  목요일_생활인구_수          178774 non-null  int64  \n",
            " 74  금요일_생활인구_수          178774 non-null  int64  \n",
            " 75  토요일_생활인구_수          178774 non-null  int64  \n",
            " 76  일요일_생활인구_수          178774 non-null  int64  \n",
            "dtypes: float64(37), int64(35), object(5)\n",
            "memory usage: 106.4+ MB\n"
          ]
        }
      ]
    },
    {
      "cell_type": "code",
      "source": [],
      "metadata": {
        "id": "etRO-SnDZkgy"
      },
      "execution_count": null,
      "outputs": []
    },
    {
      "cell_type": "code",
      "source": [],
      "metadata": {
        "id": "K06_d4CPZjxp"
      },
      "execution_count": null,
      "outputs": []
    },
    {
      "cell_type": "code",
      "source": [],
      "metadata": {
        "id": "ztsMka33ZkfJ"
      },
      "execution_count": null,
      "outputs": []
    },
    {
      "cell_type": "code",
      "source": [],
      "metadata": {
        "id": "-xpPmRm5ZkbX"
      },
      "execution_count": null,
      "outputs": []
    }
  ]
}