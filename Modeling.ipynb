{
  "nbformat": 4,
  "nbformat_minor": 0,
  "metadata": {
    "colab": {
      "provenance": [],
      "machine_shape": "hm",
      "gpuType": "T4",
      "authorship_tag": "ABX9TyPXZrlKpgn0lZMzokknaQ2v",
      "include_colab_link": true
    },
    "kernelspec": {
      "name": "python3",
      "display_name": "Python 3"
    },
    "language_info": {
      "name": "python"
    },
    "accelerator": "GPU"
  },
  "cells": [
    {
      "cell_type": "markdown",
      "metadata": {
        "id": "view-in-github",
        "colab_type": "text"
      },
      "source": [
        "<a href=\"https://colab.research.google.com/github/Gayeon6423/2023BigContest/blob/main/Modeling.ipynb\" target=\"_parent\"><img src=\"https://colab.research.google.com/assets/colab-badge.svg\" alt=\"Open In Colab\"/></a>"
      ]
    },
    {
      "cell_type": "markdown",
      "source": [
        "## 0. Import module and Load Data"
      ],
      "metadata": {
        "id": "SDIdbb8-6WP-"
      }
    },
    {
      "cell_type": "code",
      "execution_count": 12,
      "metadata": {
        "colab": {
          "base_uri": "https://localhost:8080/"
        },
        "id": "g9NWQF9TBPBG",
        "outputId": "6d1829b1-2e11-42e2-a65e-5282f0fb152c"
      },
      "outputs": [
        {
          "output_type": "stream",
          "name": "stdout",
          "text": [
            "Drive already mounted at /content/drive; to attempt to forcibly remount, call drive.mount(\"/content/drive\", force_remount=True).\n"
          ]
        }
      ],
      "source": [
        "#  데이터 처리 모듈\n",
        "import pandas as pd\n",
        "from sklearn.impute import KNNImputer\n",
        "from sklearn.decomposition import PCA\n",
        "from sklearn.preprocessing import StandardScaler\n",
        "\n",
        "# 행렬 등 통계 연산 모듈\n",
        "import numpy as np\n",
        "from scipy.stats import iqr\n",
        "# 지수형 표기법 e를 연속형 변환\n",
        "pd.options.display.float_format = '{:.4f}'.format\n",
        "# 타입 어노테이션(Any, Sequence 등의 메서드 활용)\n",
        "from typing import *\n",
        "import os\n",
        "\n",
        "# 구글 드라이브 마운트\n",
        "from google.colab import drive\n",
        "drive.mount(\"/content/drive\")\n",
        "import os\n",
        "\n",
        "# 조합 찾는 반복문 메서드\n",
        "from itertools import permutations\n",
        "from itertools import combinations\n",
        "\n",
        "# 데이터 시각화\n",
        "import matplotlib.pyplot as plt\n",
        "# from matplotlib.pyplot import\n",
        "import matplotlib.font_manager as fm\n",
        "import missingno as msno\n",
        "import seaborn as sns\n",
        "\n",
        "# pd.set_option('display.max_seq_items',5)\n",
        "\n",
        "# 모델링 메서드\n",
        "from sklearn.model_selection import train_test_split\n",
        "from sklearn.metrics import mean_squared_error, r2_score\n",
        "\n",
        "# 회귀 모델\n",
        "from sklearn.linear_model import LinearRegression\n",
        "from sklearn.tree import DecisionTreeRegressor\n",
        "from sklearn.ensemble import RandomForestRegressor"
      ]
    },
    {
      "cell_type": "code",
      "source": [
        "# # apt-get : 패키지 설치 명령어\n",
        "# # -qq : 에러외의 메세지 숨기는 옵션키\n",
        "# !apt-get -qq install fonts-nanum\n",
        "\n",
        "# fe = fm.FontEntry(\n",
        "#     fname=r\"/usr/share/fonts/truetype/nanum/NanumGothic.ttf\",\n",
        "#     # ttf 파일이 저장되어 있는 경로\n",
        "#     name='NanumGothic')\n",
        "# # 이 폰트의 원하는 이름 설정\n",
        "# fm.fontManager.ttflist.insert(0, fe)\n",
        "# # Matplotlib에 폰트 추가\n",
        "# plt.rcParams.update({'font.size': 18, 'font.family': 'NanumGothic'})\n",
        "# # 폰트 설정"
      ],
      "metadata": {
        "id": "2Izpe539BYvQ"
      },
      "execution_count": 13,
      "outputs": []
    },
    {
      "cell_type": "code",
      "source": [
        "class LoadGoogleDriveData():\n",
        "  def __init__(self, data = None):\n",
        "    self.data = data\n",
        "\n",
        "  def loadData(self, file_path: str, file_name_extension,\n",
        "               columnTF: bool, unicode: str) -> pd.DataFrame():\n",
        "    self.data = pd.read_csv(os.path.join(file_path + file_name_extension),\n",
        "                            index_col = columnTF,\n",
        "                            na_values = \"NaN\",\n",
        "                            encoding = unicode)\n",
        "    return self.data\n",
        "\n",
        "  # 용량이 큰 csv 파일 읽어오기(fopen - fread와 유사한 방식)\n",
        "  def loadDataWithChunking(self, file_path: str, file_name_extension,\n",
        "                           chunking_row_num: int, columnTF: bool, unicode: str) -> pd.DataFrame():\n",
        "    chunkdata = pd.read_csv(os.path.join(file_path + file_name_extension),\n",
        "                            chunksize = chunking_row_num,\n",
        "                            index_col = columnTF,\n",
        "                            na_values = \"NaN\",\n",
        "                            encoding = unicode)\n",
        "    self.data = list(chunkdata)\n",
        "    self.data = pd.concat(self.data)\n",
        "\n",
        "    return self.data"
      ],
      "metadata": {
        "id": "Dr1LvnvpBaFH"
      },
      "execution_count": 14,
      "outputs": []
    },
    {
      "cell_type": "code",
      "source": [
        "mountInstance = LoadGoogleDriveData()"
      ],
      "metadata": {
        "id": "SuIgyLRIBdwG"
      },
      "execution_count": 15,
      "outputs": []
    },
    {
      "cell_type": "code",
      "source": [
        "KCD_MARKET_CONTEST_SEASON_2022 = mountInstance.loadData(\n",
        "    file_path = \"/content/drive/MyDrive/2023BigContest/data/\", file_name_extension = \"KCD_MARKET_CONTEST_SEASON_2022.csv\",\n",
        "    unicode = \"utf-8-sig\", columnTF = False)\n",
        "\n",
        "KCD_MARKET_CONTEST_SEASON_2023 = mountInstance.loadData(\n",
        "    file_path = \"/content/drive/MyDrive/2023BigContest/data/\", file_name_extension = \"KCD_MARKET_CONTEST_SEASON_2023.csv\",\n",
        "    unicode = \"utf-8-sig\", columnTF = False)"
      ],
      "metadata": {
        "id": "ELI8a7WZBfRB"
      },
      "execution_count": 56,
      "outputs": []
    },
    {
      "cell_type": "code",
      "source": [
        "# 범주형 변수 처리\n",
        "KCD_MARKET_CONTEST_SEASON_2022['INDUSTRY_CD'] = KCD_MARKET_CONTEST_SEASON_2022['INDUSTRY_CD'].str[1:].astype('int64')\n",
        "KCD_MARKET_CONTEST_SEASON_2023['INDUSTRY_CD'] = KCD_MARKET_CONTEST_SEASON_2023['INDUSTRY_CD'].str[1:].astype('int64')\n",
        "\n",
        "# 칼럼 순서 맞추기\n",
        "col = KCD_MARKET_CONTEST_SEASON_2023['DATA_CRTR_YM']\n",
        "KCD_MARKET_CONTEST_SEASON_2023 = KCD_MARKET_CONTEST_SEASON_2023.drop(columns = ['DATA_CRTR_YM'])\n",
        "KCD_MARKET_CONTEST_SEASON_2023.insert(100, 'DATA_CRTR_YM', col)"
      ],
      "metadata": {
        "id": "UPEPqXc84Zmx"
      },
      "execution_count": 57,
      "outputs": []
    },
    {
      "cell_type": "markdown",
      "source": [
        "## 1. 기본 데이터 모델링 성능 확인"
      ],
      "metadata": {
        "id": "j1B-emNr6SXz"
      }
    },
    {
      "cell_type": "code",
      "source": [
        "# 데이터 분할\n",
        "X = KCD_MARKET_CONTEST_SEASON_2022.drop(columns = ['SLS_GRD'])\n",
        "y = KCD_MARKET_CONTEST_SEASON_2022['SLS_GRD']\n",
        "X_train, X_test, y_train, y_test = train_test_split(X, y, test_size=0.2, random_state=42)"
      ],
      "metadata": {
        "id": "AKzjBXf_OZJ4"
      },
      "execution_count": null,
      "outputs": []
    },
    {
      "cell_type": "markdown",
      "source": [
        "### 1-1. 선형회귀 모델링"
      ],
      "metadata": {
        "id": "bezwZ7j_53YS"
      }
    },
    {
      "cell_type": "code",
      "source": [
        "# 선형회귀 모델 생성 및 학습\n",
        "model = LinearRegression()\n",
        "model.fit(X_train, y_train)\n",
        "\n",
        "# 학습된 모델을 사용하여 예측\n",
        "y_pred = model.predict(X_test)\n",
        "\n",
        "# 회귀 모델 평가\n",
        "mse = mean_squared_error(y_test, y_pred)  # 평균 제곱 오차\n",
        "r2 = r2_score(y_test, y_pred)  # 결정 계수 (R-squared)\n",
        "\n",
        "print(\"평균 제곱 오차 (MSE):\", mse)\n",
        "print(\"결정 계수 (R-squared):\", r2)"
      ],
      "metadata": {
        "id": "VshjkCwb5yma",
        "colab": {
          "base_uri": "https://localhost:8080/"
        },
        "outputId": "cc827700-685a-4c8b-bf61-21db0bc14c9c"
      },
      "execution_count": null,
      "outputs": [
        {
          "output_type": "stream",
          "name": "stdout",
          "text": [
            "평균 제곱 오차 (MSE): 1.2697404319731174\n",
            "결정 계수 (R-squared): 0.03100133468744659\n"
          ]
        }
      ]
    },
    {
      "cell_type": "markdown",
      "source": [
        "### 1-2. 의사결정나무 모델링"
      ],
      "metadata": {
        "id": "15zpLHol6RCr"
      }
    },
    {
      "cell_type": "code",
      "source": [
        "# 모델 생성 및 학습\n",
        "model = DecisionTreeRegressor()\n",
        "model.fit(X_train, y_train)\n",
        "\n",
        "# 학습된 모델을 사용하여 예측\n",
        "y_pred = model.predict(X_test)\n",
        "\n",
        "# 회귀 모델 평가\n",
        "mse = mean_squared_error(y_test, y_pred)  # 평균 제곱 오차\n",
        "r2 = r2_score(y_test, y_pred)  # 결정 계수 (R-squared)\n",
        "\n",
        "print(\"평균 제곱 오차 (MSE):\", mse)\n",
        "print(\"결정 계수 (R-squared):\", r2)"
      ],
      "metadata": {
        "colab": {
          "base_uri": "https://localhost:8080/"
        },
        "id": "qOUCyul356EO",
        "outputId": "eb946528-9942-4fff-8a00-00c1a49beb5e"
      },
      "execution_count": null,
      "outputs": [
        {
          "output_type": "stream",
          "name": "stdout",
          "text": [
            "평균 제곱 오차 (MSE): 1.1730631508769487\n",
            "결정 계수 (R-squared): 0.10478031658743969\n"
          ]
        }
      ]
    },
    {
      "cell_type": "markdown",
      "source": [
        "### 1-3. 랜덤포레스트 모델링"
      ],
      "metadata": {
        "id": "dXvNZWwu6OuM"
      }
    },
    {
      "cell_type": "code",
      "source": [
        "# 모델 생성 및 학습\n",
        "model = RandomForestRegressor()\n",
        "model.fit(X_train, y_train)\n",
        "\n",
        "# 학습된 모델을 사용하여 예측\n",
        "y_pred = model.predict(X_test)\n",
        "\n",
        "# 회귀 모델 평가\n",
        "mse = mean_squared_error(y_test, y_pred)  # 평균 제곱 오차\n",
        "r2 = r2_score(y_test, y_pred)  # 결정 계수 (R-squared)\n",
        "\n",
        "print(\"평균 제곱 오차 (MSE):\", mse)\n",
        "print(\"결정 계수 (R-squared):\", r2)"
      ],
      "metadata": {
        "colab": {
          "base_uri": "https://localhost:8080/"
        },
        "id": "90iBq13p6pbp",
        "outputId": "eb3873bd-f827-4bdb-e06a-7ecf4ad534a2"
      },
      "execution_count": null,
      "outputs": [
        {
          "output_type": "stream",
          "name": "stdout",
          "text": [
            "평균 제곱 오차 (MSE): 1.1598800871595014\n",
            "결정 계수 (R-squared): 0.11484093277738472\n"
          ]
        }
      ]
    },
    {
      "cell_type": "markdown",
      "source": [
        "## 2. 1단계 모델링"
      ],
      "metadata": {
        "id": "_GRBTrDH8SLr"
      }
    },
    {
      "cell_type": "markdown",
      "source": [
        "### 2-1. 최근 데이터로 학습\n",
        "- 22년 1월 ~ 22년 12월 데이터로 학습 => 23년 1월 매출등급 예측\n",
        "- 22년 1월 ~ 23년 1월 데이터로 학습(23년 1월 예측값 사용) => 23년 2월 매출등급 예측"
      ],
      "metadata": {
        "id": "UTv364kJ-Uw6"
      }
    },
    {
      "cell_type": "markdown",
      "source": [
        "<img src = 'https://drive.google.com/uc?id=1qdrednUyVO60UYaX1s7XnW-XqwBC-jDC'>"
      ],
      "metadata": {
        "id": "nHBcv2CyISiM"
      }
    },
    {
      "cell_type": "code",
      "source": [
        "# 23년 1월 매출등급 예측\n",
        "KCD_MARKET_CONTEST_SEASON_2301 = KCD_MARKET_CONTEST_SEASON_2023[KCD_MARKET_CONTEST_SEASON_2023['DATA_CRTR_YM'] == 20231] # 23년1월 데이터\n",
        "\n",
        "X_train = KCD_MARKET_CONTEST_SEASON_2022.drop(columns = ['SLS_GRD']) # 22년1월~12월 feature\n",
        "y_train = KCD_MARKET_CONTEST_SEASON_2022['SLS_GRD'] # 22년1월~12월 target(매출등급)\n",
        "KCD_MARKET_CONTEST_SEASON_2301 = KCD_MARKET_CONTEST_SEASON_2301.drop(columns = ['SLS_GRD_2301','SLS_GRD_2302']) # 23년1월 feature\n",
        "X_test = KCD_MARKET_CONTEST_SEASON_2301.drop(columns = ['기준_년_코드','기준_월_코드'])\n",
        "\n",
        "# 선형회귀 모델 생성 및 학습\n",
        "model = LinearRegression()\n",
        "model.fit(X_train, y_train)\n",
        "\n",
        "# # 학습된 모델을 사용하여 예측\n",
        "y_pred_2301 = model.predict(X_test)\n",
        "y_pred_2301 = pd.DataFrame({'SLS_GRD_2301_pred':y_pred_2301})\n",
        "print('23년 1월 매출등급 예측')\n",
        "y_pred_2301\n",
        "# y_pred_2301.to_csv('y_pred_2301.csv',encoding='utf-8-sig',index=False)"
      ],
      "metadata": {
        "colab": {
          "base_uri": "https://localhost:8080/",
          "height": 442
        },
        "id": "_HsVyUmC6x6g",
        "outputId": "f92ed0bc-7e8c-4924-eb2e-50a1e48eaacf"
      },
      "execution_count": 63,
      "outputs": [
        {
          "output_type": "stream",
          "name": "stdout",
          "text": [
            "23년 1월 매출등급 예측\n"
          ]
        },
        {
          "output_type": "execute_result",
          "data": {
            "text/plain": [
              "       SLS_GRD_2301_pred\n",
              "0                41.6072\n",
              "1                41.2764\n",
              "2                41.9002\n",
              "3                41.2071\n",
              "4                41.6842\n",
              "...                  ...\n",
              "24322            41.5313\n",
              "24323            41.3890\n",
              "24324            41.5243\n",
              "24325            41.3825\n",
              "24326            40.9127\n",
              "\n",
              "[24327 rows x 1 columns]"
            ],
            "text/html": [
              "\n",
              "  <div id=\"df-68b69c0d-7340-4cc5-993a-16ff580d2f16\" class=\"colab-df-container\">\n",
              "    <div>\n",
              "<style scoped>\n",
              "    .dataframe tbody tr th:only-of-type {\n",
              "        vertical-align: middle;\n",
              "    }\n",
              "\n",
              "    .dataframe tbody tr th {\n",
              "        vertical-align: top;\n",
              "    }\n",
              "\n",
              "    .dataframe thead th {\n",
              "        text-align: right;\n",
              "    }\n",
              "</style>\n",
              "<table border=\"1\" class=\"dataframe\">\n",
              "  <thead>\n",
              "    <tr style=\"text-align: right;\">\n",
              "      <th></th>\n",
              "      <th>SLS_GRD_2301_pred</th>\n",
              "    </tr>\n",
              "  </thead>\n",
              "  <tbody>\n",
              "    <tr>\n",
              "      <th>0</th>\n",
              "      <td>41.6072</td>\n",
              "    </tr>\n",
              "    <tr>\n",
              "      <th>1</th>\n",
              "      <td>41.2764</td>\n",
              "    </tr>\n",
              "    <tr>\n",
              "      <th>2</th>\n",
              "      <td>41.9002</td>\n",
              "    </tr>\n",
              "    <tr>\n",
              "      <th>3</th>\n",
              "      <td>41.2071</td>\n",
              "    </tr>\n",
              "    <tr>\n",
              "      <th>4</th>\n",
              "      <td>41.6842</td>\n",
              "    </tr>\n",
              "    <tr>\n",
              "      <th>...</th>\n",
              "      <td>...</td>\n",
              "    </tr>\n",
              "    <tr>\n",
              "      <th>24322</th>\n",
              "      <td>41.5313</td>\n",
              "    </tr>\n",
              "    <tr>\n",
              "      <th>24323</th>\n",
              "      <td>41.3890</td>\n",
              "    </tr>\n",
              "    <tr>\n",
              "      <th>24324</th>\n",
              "      <td>41.5243</td>\n",
              "    </tr>\n",
              "    <tr>\n",
              "      <th>24325</th>\n",
              "      <td>41.3825</td>\n",
              "    </tr>\n",
              "    <tr>\n",
              "      <th>24326</th>\n",
              "      <td>40.9127</td>\n",
              "    </tr>\n",
              "  </tbody>\n",
              "</table>\n",
              "<p>24327 rows × 1 columns</p>\n",
              "</div>\n",
              "    <div class=\"colab-df-buttons\">\n",
              "\n",
              "  <div class=\"colab-df-container\">\n",
              "    <button class=\"colab-df-convert\" onclick=\"convertToInteractive('df-68b69c0d-7340-4cc5-993a-16ff580d2f16')\"\n",
              "            title=\"Convert this dataframe to an interactive table.\"\n",
              "            style=\"display:none;\">\n",
              "\n",
              "  <svg xmlns=\"http://www.w3.org/2000/svg\" height=\"24px\" viewBox=\"0 -960 960 960\">\n",
              "    <path d=\"M120-120v-720h720v720H120Zm60-500h600v-160H180v160Zm220 220h160v-160H400v160Zm0 220h160v-160H400v160ZM180-400h160v-160H180v160Zm440 0h160v-160H620v160ZM180-180h160v-160H180v160Zm440 0h160v-160H620v160Z\"/>\n",
              "  </svg>\n",
              "    </button>\n",
              "\n",
              "  <style>\n",
              "    .colab-df-container {\n",
              "      display:flex;\n",
              "      gap: 12px;\n",
              "    }\n",
              "\n",
              "    .colab-df-convert {\n",
              "      background-color: #E8F0FE;\n",
              "      border: none;\n",
              "      border-radius: 50%;\n",
              "      cursor: pointer;\n",
              "      display: none;\n",
              "      fill: #1967D2;\n",
              "      height: 32px;\n",
              "      padding: 0 0 0 0;\n",
              "      width: 32px;\n",
              "    }\n",
              "\n",
              "    .colab-df-convert:hover {\n",
              "      background-color: #E2EBFA;\n",
              "      box-shadow: 0px 1px 2px rgba(60, 64, 67, 0.3), 0px 1px 3px 1px rgba(60, 64, 67, 0.15);\n",
              "      fill: #174EA6;\n",
              "    }\n",
              "\n",
              "    .colab-df-buttons div {\n",
              "      margin-bottom: 4px;\n",
              "    }\n",
              "\n",
              "    [theme=dark] .colab-df-convert {\n",
              "      background-color: #3B4455;\n",
              "      fill: #D2E3FC;\n",
              "    }\n",
              "\n",
              "    [theme=dark] .colab-df-convert:hover {\n",
              "      background-color: #434B5C;\n",
              "      box-shadow: 0px 1px 3px 1px rgba(0, 0, 0, 0.15);\n",
              "      filter: drop-shadow(0px 1px 2px rgba(0, 0, 0, 0.3));\n",
              "      fill: #FFFFFF;\n",
              "    }\n",
              "  </style>\n",
              "\n",
              "    <script>\n",
              "      const buttonEl =\n",
              "        document.querySelector('#df-68b69c0d-7340-4cc5-993a-16ff580d2f16 button.colab-df-convert');\n",
              "      buttonEl.style.display =\n",
              "        google.colab.kernel.accessAllowed ? 'block' : 'none';\n",
              "\n",
              "      async function convertToInteractive(key) {\n",
              "        const element = document.querySelector('#df-68b69c0d-7340-4cc5-993a-16ff580d2f16');\n",
              "        const dataTable =\n",
              "          await google.colab.kernel.invokeFunction('convertToInteractive',\n",
              "                                                    [key], {});\n",
              "        if (!dataTable) return;\n",
              "\n",
              "        const docLinkHtml = 'Like what you see? Visit the ' +\n",
              "          '<a target=\"_blank\" href=https://colab.research.google.com/notebooks/data_table.ipynb>data table notebook</a>'\n",
              "          + ' to learn more about interactive tables.';\n",
              "        element.innerHTML = '';\n",
              "        dataTable['output_type'] = 'display_data';\n",
              "        await google.colab.output.renderOutput(dataTable, element);\n",
              "        const docLink = document.createElement('div');\n",
              "        docLink.innerHTML = docLinkHtml;\n",
              "        element.appendChild(docLink);\n",
              "      }\n",
              "    </script>\n",
              "  </div>\n",
              "\n",
              "\n",
              "<div id=\"df-26eed1eb-a92b-4f5f-a9ca-14836ea7abc7\">\n",
              "  <button class=\"colab-df-quickchart\" onclick=\"quickchart('df-26eed1eb-a92b-4f5f-a9ca-14836ea7abc7')\"\n",
              "            title=\"Suggest charts.\"\n",
              "            style=\"display:none;\">\n",
              "\n",
              "<svg xmlns=\"http://www.w3.org/2000/svg\" height=\"24px\"viewBox=\"0 0 24 24\"\n",
              "     width=\"24px\">\n",
              "    <g>\n",
              "        <path d=\"M19 3H5c-1.1 0-2 .9-2 2v14c0 1.1.9 2 2 2h14c1.1 0 2-.9 2-2V5c0-1.1-.9-2-2-2zM9 17H7v-7h2v7zm4 0h-2V7h2v10zm4 0h-2v-4h2v4z\"/>\n",
              "    </g>\n",
              "</svg>\n",
              "  </button>\n",
              "\n",
              "<style>\n",
              "  .colab-df-quickchart {\n",
              "      --bg-color: #E8F0FE;\n",
              "      --fill-color: #1967D2;\n",
              "      --hover-bg-color: #E2EBFA;\n",
              "      --hover-fill-color: #174EA6;\n",
              "      --disabled-fill-color: #AAA;\n",
              "      --disabled-bg-color: #DDD;\n",
              "  }\n",
              "\n",
              "  [theme=dark] .colab-df-quickchart {\n",
              "      --bg-color: #3B4455;\n",
              "      --fill-color: #D2E3FC;\n",
              "      --hover-bg-color: #434B5C;\n",
              "      --hover-fill-color: #FFFFFF;\n",
              "      --disabled-bg-color: #3B4455;\n",
              "      --disabled-fill-color: #666;\n",
              "  }\n",
              "\n",
              "  .colab-df-quickchart {\n",
              "    background-color: var(--bg-color);\n",
              "    border: none;\n",
              "    border-radius: 50%;\n",
              "    cursor: pointer;\n",
              "    display: none;\n",
              "    fill: var(--fill-color);\n",
              "    height: 32px;\n",
              "    padding: 0;\n",
              "    width: 32px;\n",
              "  }\n",
              "\n",
              "  .colab-df-quickchart:hover {\n",
              "    background-color: var(--hover-bg-color);\n",
              "    box-shadow: 0 1px 2px rgba(60, 64, 67, 0.3), 0 1px 3px 1px rgba(60, 64, 67, 0.15);\n",
              "    fill: var(--button-hover-fill-color);\n",
              "  }\n",
              "\n",
              "  .colab-df-quickchart-complete:disabled,\n",
              "  .colab-df-quickchart-complete:disabled:hover {\n",
              "    background-color: var(--disabled-bg-color);\n",
              "    fill: var(--disabled-fill-color);\n",
              "    box-shadow: none;\n",
              "  }\n",
              "\n",
              "  .colab-df-spinner {\n",
              "    border: 2px solid var(--fill-color);\n",
              "    border-color: transparent;\n",
              "    border-bottom-color: var(--fill-color);\n",
              "    animation:\n",
              "      spin 1s steps(1) infinite;\n",
              "  }\n",
              "\n",
              "  @keyframes spin {\n",
              "    0% {\n",
              "      border-color: transparent;\n",
              "      border-bottom-color: var(--fill-color);\n",
              "      border-left-color: var(--fill-color);\n",
              "    }\n",
              "    20% {\n",
              "      border-color: transparent;\n",
              "      border-left-color: var(--fill-color);\n",
              "      border-top-color: var(--fill-color);\n",
              "    }\n",
              "    30% {\n",
              "      border-color: transparent;\n",
              "      border-left-color: var(--fill-color);\n",
              "      border-top-color: var(--fill-color);\n",
              "      border-right-color: var(--fill-color);\n",
              "    }\n",
              "    40% {\n",
              "      border-color: transparent;\n",
              "      border-right-color: var(--fill-color);\n",
              "      border-top-color: var(--fill-color);\n",
              "    }\n",
              "    60% {\n",
              "      border-color: transparent;\n",
              "      border-right-color: var(--fill-color);\n",
              "    }\n",
              "    80% {\n",
              "      border-color: transparent;\n",
              "      border-right-color: var(--fill-color);\n",
              "      border-bottom-color: var(--fill-color);\n",
              "    }\n",
              "    90% {\n",
              "      border-color: transparent;\n",
              "      border-bottom-color: var(--fill-color);\n",
              "    }\n",
              "  }\n",
              "</style>\n",
              "\n",
              "  <script>\n",
              "    async function quickchart(key) {\n",
              "      const quickchartButtonEl =\n",
              "        document.querySelector('#' + key + ' button');\n",
              "      quickchartButtonEl.disabled = true;  // To prevent multiple clicks.\n",
              "      quickchartButtonEl.classList.add('colab-df-spinner');\n",
              "      try {\n",
              "        const charts = await google.colab.kernel.invokeFunction(\n",
              "            'suggestCharts', [key], {});\n",
              "      } catch (error) {\n",
              "        console.error('Error during call to suggestCharts:', error);\n",
              "      }\n",
              "      quickchartButtonEl.classList.remove('colab-df-spinner');\n",
              "      quickchartButtonEl.classList.add('colab-df-quickchart-complete');\n",
              "    }\n",
              "    (() => {\n",
              "      let quickchartButtonEl =\n",
              "        document.querySelector('#df-26eed1eb-a92b-4f5f-a9ca-14836ea7abc7 button');\n",
              "      quickchartButtonEl.style.display =\n",
              "        google.colab.kernel.accessAllowed ? 'block' : 'none';\n",
              "    })();\n",
              "  </script>\n",
              "</div>\n",
              "    </div>\n",
              "  </div>\n"
            ]
          },
          "metadata": {},
          "execution_count": 63
        }
      ]
    },
    {
      "cell_type": "code",
      "source": [
        "# 23년 2월 매출등급 예측\n",
        "KCD_MARKET_CONTEST_SEASON_2302 = KCD_MARKET_CONTEST_SEASON_2023[KCD_MARKET_CONTEST_SEASON_2023['DATA_CRTR_YM'] == 20232] # 23년2월 데이터\n",
        "\n",
        "KCD_MARKET_CONTEST_SEASON_2301 = KCD_MARKET_CONTEST_SEASON_2023[KCD_MARKET_CONTEST_SEASON_2023['DATA_CRTR_YM'] == 20231] # 23년1월 데이터\n",
        "KCD_MARKET_CONTEST_SEASON_2201_2301 = pd.concat([KCD_MARKET_CONTEST_SEASON_2022, KCD_MARKET_CONTEST_SEASON_2301], axis=0, join='left') # 22년1월~23년1월 데이터\n",
        "y_pred_2301 = pd.DataFrame(y_pred_2301)['SLS_GRD']\n",
        "y_pred_2201_2301 = pd.concat([KCD_MARKET_CONTEST_SEASON_2301['SLS_GRD'],y_pred_2301],axis=0) # 22년1월~23년1월 매출등급\n",
        "\n",
        "X_train = KCD_MARKET_CONTEST_SEASON_2201_2301.drop(columns = ['SLS_GRD']) # 22년1월~23년1월 feature\n",
        "X_test = KCD_MARKET_CONTEST_SEASON_2302.drop(columns = ['SLS_GRD_2301','SLS_GRD_2302']) # 23년2월 feature\n",
        "y_train = y_pred_2201_2301 # 22년1월~23년1월 target(매출등급)\n",
        "\n",
        "# 선형회귀 모델 생성 및 학습\n",
        "model = LinearRegression()\n",
        "model.fit(X_train, y_train)\n",
        "\n",
        "# 학습된 모델을 사용하여 예측\n",
        "y_pred_2302 = model.predict(X_test)\n",
        "print('23년 2월 매출등급 예측')\n",
        "print(y_pred_2302)\n",
        "# y_pred_2301.to_csv('y_pred_2301.csv',encoding='utf-8-sig',index=False)"
      ],
      "metadata": {
        "id": "P_-Fvvtd_e0h"
      },
      "execution_count": null,
      "outputs": []
    }
  ]
}