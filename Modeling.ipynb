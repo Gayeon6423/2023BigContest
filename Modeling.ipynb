{
  "nbformat": 4,
  "nbformat_minor": 0,
  "metadata": {
    "colab": {
      "provenance": [],
      "machine_shape": "hm",
      "gpuType": "T4",
      "authorship_tag": "ABX9TyPRI/dF8QtNLko2+ND9ZbST",
      "include_colab_link": true
    },
    "kernelspec": {
      "name": "python3",
      "display_name": "Python 3"
    },
    "language_info": {
      "name": "python"
    },
    "accelerator": "GPU"
  },
  "cells": [
    {
      "cell_type": "markdown",
      "metadata": {
        "id": "view-in-github",
        "colab_type": "text"
      },
      "source": [
        "<a href=\"https://colab.research.google.com/github/Gayeon6423/2023BigContest/blob/main/Modeling.ipynb\" target=\"_parent\"><img src=\"https://colab.research.google.com/assets/colab-badge.svg\" alt=\"Open In Colab\"/></a>"
      ]
    },
    {
      "cell_type": "markdown",
      "source": [
        "## 0. Import module and Load Data"
      ],
      "metadata": {
        "id": "SDIdbb8-6WP-"
      }
    },
    {
      "cell_type": "code",
      "execution_count": 20,
      "metadata": {
        "colab": {
          "base_uri": "https://localhost:8080/"
        },
        "id": "g9NWQF9TBPBG",
        "outputId": "a2034109-a80b-40c7-ce06-e4cd996b86a6"
      },
      "outputs": [
        {
          "output_type": "stream",
          "name": "stdout",
          "text": [
            "Drive already mounted at /content/drive; to attempt to forcibly remount, call drive.mount(\"/content/drive\", force_remount=True).\n"
          ]
        }
      ],
      "source": [
        "#  데이터 처리 모듈\n",
        "import pandas as pd\n",
        "from sklearn.impute import KNNImputer\n",
        "from sklearn.decomposition import PCA\n",
        "from sklearn.preprocessing import StandardScaler\n",
        "\n",
        "# 행렬 등 통계 연산 모듈\n",
        "import numpy as np\n",
        "from scipy.stats import iqr\n",
        "# 지수형 표기법 e를 연속형 변환\n",
        "pd.options.display.float_format = '{:.4f}'.format\n",
        "# 타입 어노테이션(Any, Sequence 등의 메서드 활용)\n",
        "from typing import *\n",
        "import os\n",
        "\n",
        "# 구글 드라이브 마운트\n",
        "from google.colab import drive\n",
        "drive.mount(\"/content/drive\")\n",
        "import os\n",
        "\n",
        "# 조합 찾는 반복문 메서드\n",
        "from itertools import permutations\n",
        "from itertools import combinations\n",
        "\n",
        "# 데이터 시각화\n",
        "import matplotlib.pyplot as plt\n",
        "# from matplotlib.pyplot import\n",
        "import matplotlib.font_manager as fm\n",
        "import missingno as msno\n",
        "import seaborn as sns\n",
        "\n",
        "# pd.set_option('display.max_seq_items',5)\n",
        "\n",
        "# 모델링 메서드\n",
        "from sklearn.model_selection import train_test_split\n",
        "from sklearn.metrics import mean_squared_error, r2_score\n",
        "\n",
        "# 회귀 모델\n",
        "from sklearn.linear_model import LinearRegression\n",
        "from sklearn.tree import DecisionTreeRegressor\n",
        "from sklearn.ensemble import RandomForestRegressor"
      ]
    },
    {
      "cell_type": "code",
      "source": [
        "# # apt-get : 패키지 설치 명령어\n",
        "# # -qq : 에러외의 메세지 숨기는 옵션키\n",
        "# !apt-get -qq install fonts-nanum\n",
        "\n",
        "# fe = fm.FontEntry(\n",
        "#     fname=r\"/usr/share/fonts/truetype/nanum/NanumGothic.ttf\",\n",
        "#     # ttf 파일이 저장되어 있는 경로\n",
        "#     name='NanumGothic')\n",
        "# # 이 폰트의 원하는 이름 설정\n",
        "# fm.fontManager.ttflist.insert(0, fe)\n",
        "# # Matplotlib에 폰트 추가\n",
        "# plt.rcParams.update({'font.size': 18, 'font.family': 'NanumGothic'})\n",
        "# # 폰트 설정"
      ],
      "metadata": {
        "id": "2Izpe539BYvQ"
      },
      "execution_count": 2,
      "outputs": []
    },
    {
      "cell_type": "code",
      "source": [
        "class LoadGoogleDriveData():\n",
        "  def __init__(self, data = None):\n",
        "    self.data = data\n",
        "\n",
        "  def loadData(self, file_path: str, file_name_extension,\n",
        "               columnTF: bool, unicode: str) -> pd.DataFrame():\n",
        "    self.data = pd.read_csv(os.path.join(file_path + file_name_extension),\n",
        "                            index_col = columnTF,\n",
        "                            na_values = \"NaN\",\n",
        "                            encoding = unicode)\n",
        "    return self.data\n",
        "\n",
        "  # 용량이 큰 csv 파일 읽어오기(fopen - fread와 유사한 방식)\n",
        "  def loadDataWithChunking(self, file_path: str, file_name_extension,\n",
        "                           chunking_row_num: int, columnTF: bool, unicode: str) -> pd.DataFrame():\n",
        "    chunkdata = pd.read_csv(os.path.join(file_path + file_name_extension),\n",
        "                            chunksize = chunking_row_num,\n",
        "                            index_col = columnTF,\n",
        "                            na_values = \"NaN\",\n",
        "                            encoding = unicode)\n",
        "    self.data = list(chunkdata)\n",
        "    self.data = pd.concat(self.data)\n",
        "\n",
        "    return self.data"
      ],
      "metadata": {
        "id": "Dr1LvnvpBaFH"
      },
      "execution_count": 3,
      "outputs": []
    },
    {
      "cell_type": "code",
      "source": [
        "mountInstance = LoadGoogleDriveData()"
      ],
      "metadata": {
        "id": "SuIgyLRIBdwG"
      },
      "execution_count": 4,
      "outputs": []
    },
    {
      "cell_type": "code",
      "source": [
        "KCD_MARKET_CONTEST_SEASON_2022 = mountInstance.loadData(\n",
        "    file_path = \"/content/drive/MyDrive/2023BigContest/data/\", file_name_extension = \"KCD_MARKET_CONTEST_SEASON_2022.csv\",\n",
        "    unicode = \"utf-8-sig\", columnTF = False)\n",
        "\n",
        "KCD_MARKET_CONTEST_SEASON_2023 = mountInstance.loadData(\n",
        "    file_path = \"/content/drive/MyDrive/2023BigContest/data/\", file_name_extension = \"KCD_MARKET_CONTEST_SEASON_2023.csv\",\n",
        "    unicode = \"utf-8-sig\", columnTF = False)"
      ],
      "metadata": {
        "id": "ELI8a7WZBfRB"
      },
      "execution_count": 5,
      "outputs": []
    },
    {
      "cell_type": "code",
      "source": [
        "# 범주형 변수 처리\n",
        "KCD_MARKET_CONTEST_SEASON_2022['INDUSTRY_CD'] = KCD_MARKET_CONTEST_SEASON_2022['INDUSTRY_CD'].str[1:].astype('int64')\n",
        "KCD_MARKET_CONTEST_SEASON_2023['INDUSTRY_CD'] = KCD_MARKET_CONTEST_SEASON_2023['INDUSTRY_CD'].str[1:].astype('int64')\n",
        "\n",
        "# 데이터 분할\n",
        "X = KCD_MARKET_CONTEST_SEASON_2022.drop(columns = ['SLS_GRD'])\n",
        "y = KCD_MARKET_CONTEST_SEASON_2022['SLS_GRD']\n",
        "\n",
        "X_train, X_test, y_train, y_test = train_test_split(X, y, test_size=0.2, random_state=42)"
      ],
      "metadata": {
        "id": "UPEPqXc84Zmx"
      },
      "execution_count": 17,
      "outputs": []
    },
    {
      "cell_type": "markdown",
      "source": [
        "## 1. 기본 데이터 모델링 성능 확인"
      ],
      "metadata": {
        "id": "j1B-emNr6SXz"
      }
    },
    {
      "cell_type": "markdown",
      "source": [
        "### 1-1. 선형회귀 모델링"
      ],
      "metadata": {
        "id": "bezwZ7j_53YS"
      }
    },
    {
      "cell_type": "code",
      "source": [
        "# 선형회귀 모델 생성 및 학습\n",
        "model = LinearRegression()\n",
        "model.fit(X_train, y_train)\n",
        "\n",
        "# 학습된 모델을 사용하여 예측\n",
        "y_pred = model.predict(X_test)\n",
        "\n",
        "# 회귀 모델 평가\n",
        "mse = mean_squared_error(y_test, y_pred)  # 평균 제곱 오차\n",
        "r2 = r2_score(y_test, y_pred)  # 결정 계수 (R-squared)\n",
        "\n",
        "print(\"평균 제곱 오차 (MSE):\", mse)\n",
        "print(\"결정 계수 (R-squared):\", r2)"
      ],
      "metadata": {
        "id": "VshjkCwb5yma",
        "colab": {
          "base_uri": "https://localhost:8080/"
        },
        "outputId": "cc827700-685a-4c8b-bf61-21db0bc14c9c"
      },
      "execution_count": 18,
      "outputs": [
        {
          "output_type": "stream",
          "name": "stdout",
          "text": [
            "평균 제곱 오차 (MSE): 1.2697404319731174\n",
            "결정 계수 (R-squared): 0.03100133468744659\n"
          ]
        }
      ]
    },
    {
      "cell_type": "markdown",
      "source": [
        "### 1-2. 의사결정나무 모델링"
      ],
      "metadata": {
        "id": "15zpLHol6RCr"
      }
    },
    {
      "cell_type": "code",
      "source": [
        "# 모델 생성 및 학습\n",
        "model = DecisionTreeRegressor()\n",
        "model.fit(X_train, y_train)\n",
        "\n",
        "# 학습된 모델을 사용하여 예측\n",
        "y_pred = model.predict(X_test)\n",
        "\n",
        "# 회귀 모델 평가\n",
        "mse = mean_squared_error(y_test, y_pred)  # 평균 제곱 오차\n",
        "r2 = r2_score(y_test, y_pred)  # 결정 계수 (R-squared)\n",
        "\n",
        "print(\"평균 제곱 오차 (MSE):\", mse)\n",
        "print(\"결정 계수 (R-squared):\", r2)"
      ],
      "metadata": {
        "colab": {
          "base_uri": "https://localhost:8080/"
        },
        "id": "qOUCyul356EO",
        "outputId": "eb946528-9942-4fff-8a00-00c1a49beb5e"
      },
      "execution_count": 21,
      "outputs": [
        {
          "output_type": "stream",
          "name": "stdout",
          "text": [
            "평균 제곱 오차 (MSE): 1.1730631508769487\n",
            "결정 계수 (R-squared): 0.10478031658743969\n"
          ]
        }
      ]
    },
    {
      "cell_type": "markdown",
      "source": [
        "### 1-3. 랜덤포레스트 모델링"
      ],
      "metadata": {
        "id": "dXvNZWwu6OuM"
      }
    },
    {
      "cell_type": "code",
      "source": [
        "# 모델 생성 및 학습\n",
        "model = RandomForestRegressor()\n",
        "model.fit(X_train, y_train)\n",
        "\n",
        "# 학습된 모델을 사용하여 예측\n",
        "y_pred = model.predict(X_test)\n",
        "\n",
        "# 회귀 모델 평가\n",
        "mse = mean_squared_error(y_test, y_pred)  # 평균 제곱 오차\n",
        "r2 = r2_score(y_test, y_pred)  # 결정 계수 (R-squared)\n",
        "\n",
        "print(\"평균 제곱 오차 (MSE):\", mse)\n",
        "print(\"결정 계수 (R-squared):\", r2)"
      ],
      "metadata": {
        "id": "90iBq13p6pbp"
      },
      "execution_count": null,
      "outputs": []
    },
    {
      "cell_type": "markdown",
      "source": [
        "## 2. 1단계 모델링"
      ],
      "metadata": {
        "id": "_GRBTrDH8SLr"
      }
    },
    {
      "cell_type": "markdown",
      "source": [
        "### 2-1. 최근 데이터로 학습\n",
        "- 22년 1월 ~ 22년 12월 데이터로 학습 => 23년 1월 매출등급 예측\n",
        "- 22년 1월 ~ 23년 1월 데이터로 학습(23년 1월 예측값 사용) => 23년 2월 매출등급 예측"
      ],
      "metadata": {
        "id": "UTv364kJ-Uw6"
      }
    },
    {
      "cell_type": "code",
      "source": [
        "# 23년 1월 매출등급 예측\n",
        "KCD_MARKET_CONTEST_SEASON_2301 = KCD_MARKET_CONTEST_SEASON_2023[KCD_MARKET_CONTEST_SEASON_2023['DATA_CRTR_YM'] == 20231] # 23년1월 데이터\n",
        "\n",
        "X_train = KCD_MARKET_CONTEST_SEASON_2022.drop(columns = ['SLS_GRD']) # 22년1월~12월 feature\n",
        "y_train = KCD_MARKET_CONTEST_SEASON_2301.drop(columns = ['SLS_GRD_2301','SLS_GRD_2302']) # 23년1월 feature\n",
        "X_test = KCD_MARKET_CONTEST_SEASON_2301['SLS_GRD'] # 22년1월~12월 target(매출등급)\n",
        "\n",
        "# 선형회귀 모델 생성 및 학습\n",
        "model = LinearRegression()\n",
        "model.fit(X_train, y_train)\n",
        "\n",
        "# 학습된 모델을 사용하여 예측\n",
        "y_pred_2301 = model.predict(X_test)\n",
        "print('23년 1월 매출등급 예측')\n",
        "print(y_pred_2301)\n",
        "# y_pred_2301.to_csv('y_pred_2301.csv',encoding='utf-8-sig',index=False)"
      ],
      "metadata": {
        "id": "_HsVyUmC6x6g"
      },
      "execution_count": null,
      "outputs": []
    },
    {
      "cell_type": "code",
      "source": [
        "# 23년 2월 매출등급 예측\n",
        "KCD_MARKET_CONTEST_SEASON_2302 = KCD_MARKET_CONTEST_SEASON_2023[KCD_MARKET_CONTEST_SEASON_2023['DATA_CRTR_YM'] == 20232] # 23년2월 데이터\n",
        "\n",
        "KCD_MARKET_CONTEST_SEASON_2301 = KCD_MARKET_CONTEST_SEASON_2023[KCD_MARKET_CONTEST_SEASON_2023['DATA_CRTR_YM'] == 20231] # 23년1월 데이터\n",
        "KCD_MARKET_CONTEST_SEASON_2201_2301 = pd.concat([KCD_MARKET_CONTEST_SEASON_2022, KCD_MARKET_CONTEST_SEASON_2301], axis=0) # 22년1월~23년1월 데이터\n",
        "y_pred_2201_2301 = pd.concat([KCD_MARKET_CONTEST_SEASON_2301['SLS_GRD'],y_pred_2301],axis=0) # 22년1월~23년1월 매출등급\n",
        "\n",
        "X_train = KCD_MARKET_CONTEST_SEASON_2201_2301.drop(columns = ['SLS_GRD']) # 22년1월~23년1월 feature\n",
        "y_train = KCD_MARKET_CONTEST_SEASON_2302.drop(columns = ['SLS_GRD_2301','SLS_GRD_2302']) # 23년2월 feature\n",
        "X_test = y_pred_2201_2301 # 22년1월~23년1월 target(매출등급)\n",
        "\n",
        "# 선형회귀 모델 생성 및 학습\n",
        "model = LinearRegression()\n",
        "model.fit(X_train, y_train)\n",
        "\n",
        "# 학습된 모델을 사용하여 예측\n",
        "y_pred_2302 = model.predict(X_test)\n",
        "print('23년 2월 매출등급 예측')\n",
        "print(y_pred_2302)\n",
        "# y_pred_2301.to_csv('y_pred_2301.csv',encoding='utf-8-sig',index=False)"
      ],
      "metadata": {
        "id": "P_-Fvvtd_e0h"
      },
      "execution_count": null,
      "outputs": []
    }
  ]
}