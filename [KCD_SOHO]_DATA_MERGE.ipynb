{
  "nbformat": 4,
  "nbformat_minor": 0,
  "metadata": {
    "colab": {
      "provenance": [],
      "authorship_tag": "ABX9TyPkdQhfUkG/YcWdVMPE9H7z"
    },
    "kernelspec": {
      "name": "python3",
      "display_name": "Python 3"
    },
    "language_info": {
      "name": "python"
    }
  },
  "cells": [
    {
      "cell_type": "code",
      "execution_count": 5,
      "metadata": {
        "colab": {
          "base_uri": "https://localhost:8080/"
        },
        "id": "c0y9T81VpRiU",
        "outputId": "f643a2cb-c257-4e99-b86c-198ba2eb9bc5"
      },
      "outputs": [
        {
          "output_type": "stream",
          "name": "stdout",
          "text": [
            "Mounted at /content/drive\n"
          ]
        }
      ],
      "source": [
        "# 데이터 처리 모듈\n",
        "import pandas as pd\n",
        "# 행렬 등 통계 연산 모듈\n",
        "import numpy as np\n",
        "# 지수형 표기법 e를 연속형 변환\n",
        "pd.options.display.float_format = '{:.10f}'.format\n",
        "# 타입 어노테이션(Any, Sequence 등의 메서드 활용)\n",
        "from typing import *\n",
        "\n",
        "# 구글 드라이브 마운트\n",
        "from google.colab import drive\n",
        "drive.mount(\"/content/drive\")\n",
        "import os"
      ]
    },
    {
      "cell_type": "code",
      "source": [
        "class MergeData():\n",
        "\n",
        "  def __init__(self, soho_credit_data = None):\n",
        "    self.soho_credit_data = soho_credit_data\n",
        "\n",
        "  def mergeSohoCredit(self, date_time: int, file_path: str, column_name_list: List):\n",
        "    # date_time에 202201 ~ 202212를 입력값으로 받고, file_path에 해당 데이터가 있는 드라이브 경로 설정\n",
        "    # file_path = # /content/drive/MyDrive/2023BigContest/Archive/\"\n",
        "\n",
        "    credit_data_list: List = []\n",
        "      # 월별 데이터프레임을 담을 리스트 생성\n",
        "    date_time_list = [str(date_time + n) for n in range(0, 12, 1)]\n",
        "    for date in date_time_list:\n",
        "      data = pd.read_csv(\n",
        "          os.path.join(file_path + date + \"_INCOME_230907.csv\"),\n",
        "          index_col = 0, sep = \",\",\n",
        "          names = column_name_list)\n",
        "          # header = None)\n",
        "      data.drop(\"index\", axis = 0, inplace = True)\n",
        "      data[column_name_list[1:]] = data[column_name_list[1:]].astype(\"float\")\n",
        "\n",
        "      # data[\"손익분기점_매출액_STD\"] = data[\"월임대료\"] / (1 - (data[\"부가가치세_STD\"] + data[\"매입액\"]) / V[\"매출액\"]) = 고정비용 / (1-변동비율)\n",
        "      data[\"객단가_STD\"] = data[\"매출액_STD\"] / data[\"고객수_STD\"]\n",
        "      data[\"신규고객단가_STD\"] = data[\"매출액_STD\"] / data[\"신규고객수_STD\"]\n",
        "      data[\"전체대비_주말매출액비중_STD\"] = data[\"주말매출액_STD\"] / data[\"매출액_STD\"]\n",
        "        # 파생컬럼 생성\n",
        "\n",
        "      credit_data_list.append(data)\n",
        "        # os.path.join을 통한 구글 드라이브 파일 내 경로로 csv데이터 로드하여 판다스 데이터프레임으로 저장 후\n",
        "        # credit_data_list에 0 ~ 11번째 인덱스의 원소로 추가\n",
        "\n",
        "    return credit_data_list\n",
        "      # 2022년 12개월의 소호 상권별 신용거래정보 데이터프레임을 담은 리스트 반환\n",
        "      # 병합하여 self.soho_credit_data라는 멤버변수에 저장할 것"
      ],
      "metadata": {
        "id": "PfpgH5depwPq"
      },
      "execution_count": 87,
      "outputs": []
    },
    {
      "cell_type": "code",
      "source": [
        "Preprocess = MergeData()"
      ],
      "metadata": {
        "id": "0WGxV1Dz-xA9"
      },
      "execution_count": 88,
      "outputs": []
    },
    {
      "cell_type": "code",
      "source": [
        "credit_data_list = Preprocess.mergeSohoCredit(\n",
        "    date_time = 202201,\n",
        "    file_path = \"/content/drive/MyDrive/2023BigContest/data/KCD_CREDIT_DATA/SOHO_\",\n",
        "    column_name_list = [\"상권명\", \"매출액_STD\", \"매입액_STD\", \"매출총이익_STD\", \"부가가치세_STD\", \"부가세차감전영업이익_STD\", \"영업이익_STD\", \"주말매출액_STD\", \"고객수_STD\", \"신규고객수_STD\"])"
      ],
      "metadata": {
        "id": "DFj1oM0r-1wH"
      },
      "execution_count": 89,
      "outputs": []
    },
    {
      "cell_type": "markdown",
      "source": [
        "```\n",
        "* standard_deviation_population(kcd.transactions.sum_sales_card + kcd.transactions.sum_sales_delivery)\n",
        "* standard_deviation_population(kcd.transactions.sum_purchase_card + kcd.transactions.sum_purchase_cash)\n",
        "* standard_deviation_population((kcd.transactions.sum_sales_card + kcd.transactions.sum_sales_delivery) - (kcd.transactions.sum_purchase_card + kcd.transactions.sum_purchase_cash))\n",
        "* standard_deviation_population(kcd.transactions.sum_sales_invoice - kcd.transactions.sum_purchase_invoice)\n",
        "* standard_deviation_population(((kcd.transactions.sum_sales_card + kcd.transactions.sum_sales_delivery) - (kcd.transactions.sum_purchase_card + kcd.transactions.sum_purchase_cash)) - kcd.transactions.monthly_rental_fee)\n",
        "* standard_deviation_population((((kcd.transactions.sum_sales_card + kcd.transactions.sum_sales_delivery) - (kcd.transactions.sum_purchase_card + kcd.transactions.sum_purchase_cash)) - kcd.transactions.monthly_rental_fee) - (kcd.transactions.sum_sales_invoice - kcd.transactions.sum_purchase_invoice))\n",
        "* standard_deviation_population(kcd.transactions.sum_weekend_sales_card + kcd.transactions.sum_weekend_sales_delivery)\n",
        "* standard_deviation_population(sum_customer_cnt)\n",
        "* standard_deviation_population(sum_new_customer_cnt)\n",
        "```\n",
        ""
      ],
      "metadata": {
        "id": "T5b4CMu9C_gA"
      }
    },
    {
      "cell_type": "code",
      "source": [
        "display(credit_data_list[11].info())\n",
        "# display(credit_data_list[11])"
      ],
      "metadata": {
        "colab": {
          "base_uri": "https://localhost:8080/",
          "height": 403
        },
        "id": "YbCOXl2xHQon",
        "outputId": "23d361d1-21b6-450d-c87f-b0d0a688c524"
      },
      "execution_count": 96,
      "outputs": [
        {
          "output_type": "stream",
          "name": "stdout",
          "text": [
            "<class 'pandas.core.frame.DataFrame'>\n",
            "Index: 93 entries, 0 to 92\n",
            "Data columns (total 13 columns):\n",
            " #   Column            Non-Null Count  Dtype  \n",
            "---  ------            --------------  -----  \n",
            " 0   상권명               93 non-null     object \n",
            " 1   매출액_STD           93 non-null     float64\n",
            " 2   매입액_STD           93 non-null     float64\n",
            " 3   매출총이익_STD         93 non-null     float64\n",
            " 4   부가가치세_STD         93 non-null     float64\n",
            " 5   부가세차감전영업이익_STD    93 non-null     float64\n",
            " 6   영업이익_STD          93 non-null     float64\n",
            " 7   주말매출액_STD         93 non-null     float64\n",
            " 8   고객수_STD           93 non-null     float64\n",
            " 9   신규고객수_STD         93 non-null     float64\n",
            " 10  객단가_STD           93 non-null     float64\n",
            " 11  신규고객단가_STD        93 non-null     float64\n",
            " 12  전체대비_주말매출액비중_STD  93 non-null     float64\n",
            "dtypes: float64(12), object(1)\n",
            "memory usage: 12.2+ KB\n"
          ]
        },
        {
          "output_type": "display_data",
          "data": {
            "text/plain": [
              "None"
            ]
          },
          "metadata": {}
        }
      ]
    },
    {
      "cell_type": "code",
      "source": [],
      "metadata": {
        "id": "qi1G26YQKU1u"
      },
      "execution_count": null,
      "outputs": []
    }
  ]
}