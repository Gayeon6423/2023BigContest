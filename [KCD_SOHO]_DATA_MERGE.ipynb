{
  "nbformat": 4,
  "nbformat_minor": 0,
  "metadata": {
    "colab": {
      "provenance": [],
      "authorship_tag": "ABX9TyPmeJvUV3z9/Ksua4iKflcP"
    },
    "kernelspec": {
      "name": "python3",
      "display_name": "Python 3"
    },
    "language_info": {
      "name": "python"
    }
  },
  "cells": [
    {
      "cell_type": "code",
      "execution_count": 169,
      "metadata": {
        "colab": {
          "base_uri": "https://localhost:8080/"
        },
        "id": "c0y9T81VpRiU",
        "outputId": "30aafe70-8c2d-4a49-a50d-69ec6ea0d67c"
      },
      "outputs": [
        {
          "output_type": "stream",
          "name": "stdout",
          "text": [
            "Drive already mounted at /content/drive; to attempt to forcibly remount, call drive.mount(\"/content/drive\", force_remount=True).\n"
          ]
        }
      ],
      "source": [
        "# 데이터 처리 모듈\n",
        "import pandas as pd\n",
        "# 행렬 등 통계 연산 모듈\n",
        "import numpy as np\n",
        "# 지수형 표기법 e를 연속형 변환\n",
        "pd.options.display.float_format = '{:.4f}'.format\n",
        "# 타입 어노테이션(Any, Sequence 등의 메서드 활용)\n",
        "from typing import *\n",
        "\n",
        "# 구글 드라이브 마운트\n",
        "from google.colab import drive\n",
        "drive.mount(\"/content/drive\")\n",
        "import os"
      ]
    },
    {
      "cell_type": "code",
      "source": [
        "class MergeData():\n",
        "\n",
        "  def __init__(self, soho_credit_data = None):\n",
        "    self.soho_credit_data = soho_credit_data\n",
        "\n",
        "  def mergeSohoCredit(self, date_time: int, file_path: str, column_name_list: List):\n",
        "    # date_time에 202201 ~ 202212를 입력값으로 받고, file_path에 해당 데이터가 있는 드라이브 경로 설정\n",
        "    # file_path = # /content/drive/MyDrive/2023BigContest/Archive/\"\n",
        "\n",
        "    credit_data_list: List = []\n",
        "      # 월별 데이터프레임을 담을 리스트 생성\n",
        "    date_time_list = [str(date_time + n) for n in range(0, 12, 1)]\n",
        "    for date in date_time_list:\n",
        "      data = pd.read_csv(\n",
        "          os.path.join(file_path + date + \"_INCOME_230907.csv\"),\n",
        "          index_col = 0, sep = \",\",\n",
        "          names = column_name_list)\n",
        "          # header = None)\n",
        "      data.drop(\"index\", axis = 0, inplace = True)\n",
        "      data[column_name_list[1:]] = data[column_name_list[1:]].astype(\"float\")\n",
        "\n",
        "      # data[\"손익분기점_매출액_STD\"] = data[\"월임대료\"] / (1 - (data[\"부가가치세_STD\"] + data[\"매입액\"]) / V[\"매출액\"]) = 고정비용 / (1-변동비율)\n",
        "      data[\"객단가_STD\"] = data[\"매출액_STD\"] / data[\"고객수_STD\"]\n",
        "      data[\"신규고객단가_STD\"] = data[\"매출액_STD\"] / data[\"신규고객수_STD\"]\n",
        "      data[\"전체대비_주말매출액비중_STD\"] = data[\"주말매출액_STD\"] / data[\"매출액_STD\"]\n",
        "        # 파생컬럼 생성\n",
        "\n",
        "      credit_data_list.append(data)\n",
        "        # os.path.join을 통한 구글 드라이브 파일 내 경로로 csv데이터 로드하여 판다스 데이터프레임으로 저장 후\n",
        "        # credit_data_list에 0 ~ 11번째 인덱스의 원소로 추가\n",
        "\n",
        "    return credit_data_list\n",
        "      # 2022년 12개월의 소호 상권별 신용거래정보 데이터프레임을 담은 리스트 반환\n",
        "      # 병합하여 self.soho_credit_data라는 멤버변수에 저장할 것"
      ],
      "metadata": {
        "id": "PfpgH5depwPq"
      },
      "execution_count": 168,
      "outputs": []
    },
    {
      "cell_type": "code",
      "source": [
        "Preprocess = MergeData()"
      ],
      "metadata": {
        "id": "0WGxV1Dz-xA9"
      },
      "execution_count": null,
      "outputs": []
    },
    {
      "cell_type": "code",
      "source": [
        "credit_data_list = Preprocess.mergeSohoCredit(\n",
        "    date_time = 202201,\n",
        "    file_path = \"/content/drive/MyDrive/2023BigContest/data/KCD_CREDIT_DATA/SOHO_\",\n",
        "    column_name_list = [\"상권명\", \"매출액_STD\", \"매입액_STD\", \"매출총이익_STD\", \"부가가치세_STD\", \"부가세차감전영업이익_STD\", \"영업이익_STD\", \"주말매출액_STD\", \"고객수_STD\", \"신규고객수_STD\"])"
      ],
      "metadata": {
        "id": "DFj1oM0r-1wH"
      },
      "execution_count": null,
      "outputs": []
    },
    {
      "cell_type": "markdown",
      "source": [
        "```\n",
        "* standard_deviation_population(kcd.transactions.sum_sales_card + kcd.transactions.sum_sales_delivery)\n",
        "* standard_deviation_population(kcd.transactions.sum_purchase_card + kcd.transactions.sum_purchase_cash)\n",
        "* standard_deviation_population((kcd.transactions.sum_sales_card + kcd.transactions.sum_sales_delivery) - (kcd.transactions.sum_purchase_card + kcd.transactions.sum_purchase_cash))\n",
        "* standard_deviation_population(kcd.transactions.sum_sales_invoice - kcd.transactions.sum_purchase_invoice)\n",
        "* standard_deviation_population(((kcd.transactions.sum_sales_card + kcd.transactions.sum_sales_delivery) - (kcd.transactions.sum_purchase_card + kcd.transactions.sum_purchase_cash)) - kcd.transactions.monthly_rental_fee)\n",
        "* standard_deviation_population((((kcd.transactions.sum_sales_card + kcd.transactions.sum_sales_delivery) - (kcd.transactions.sum_purchase_card + kcd.transactions.sum_purchase_cash)) - kcd.transactions.monthly_rental_fee) - (kcd.transactions.sum_sales_invoice - kcd.transactions.sum_purchase_invoice))\n",
        "* standard_deviation_population(kcd.transactions.sum_weekend_sales_card + kcd.transactions.sum_weekend_sales_delivery)\n",
        "* standard_deviation_population(sum_customer_cnt)\n",
        "* standard_deviation_population(sum_new_customer_cnt)\n",
        "```\n"
      ],
      "metadata": {
        "id": "T5b4CMu9C_gA"
      }
    },
    {
      "cell_type": "code",
      "source": [
        "display(credit_data_list[11].info())"
      ],
      "metadata": {
        "colab": {
          "base_uri": "https://localhost:8080/",
          "height": 403
        },
        "id": "YbCOXl2xHQon",
        "outputId": "14ee1265-615f-4f28-9337-b33a4da7db79"
      },
      "execution_count": 164,
      "outputs": [
        {
          "output_type": "stream",
          "name": "stdout",
          "text": [
            "<class 'pandas.core.frame.DataFrame'>\n",
            "Index: 93 entries, 0 to 92\n",
            "Data columns (total 13 columns):\n",
            " #   Column            Non-Null Count  Dtype  \n",
            "---  ------            --------------  -----  \n",
            " 0   상권명               93 non-null     object \n",
            " 1   매출액_STD           93 non-null     float64\n",
            " 2   매입액_STD           93 non-null     float64\n",
            " 3   매출총이익_STD         93 non-null     float64\n",
            " 4   부가가치세_STD         93 non-null     float64\n",
            " 5   부가세차감전영업이익_STD    93 non-null     float64\n",
            " 6   영업이익_STD          93 non-null     float64\n",
            " 7   주말매출액_STD         93 non-null     float64\n",
            " 8   고객수_STD           93 non-null     float64\n",
            " 9   신규고객수_STD         93 non-null     float64\n",
            " 10  객단가_STD           93 non-null     float64\n",
            " 11  신규고객단가_STD        93 non-null     float64\n",
            " 12  전체대비_주말매출액비중_STD  93 non-null     float64\n",
            "dtypes: float64(12), object(1)\n",
            "memory usage: 12.2+ KB\n"
          ]
        },
        {
          "output_type": "display_data",
          "data": {
            "text/plain": [
              "None"
            ]
          },
          "metadata": {}
        }
      ]
    },
    {
      "cell_type": "code",
      "source": [
        "class LoadData():\n",
        "\n",
        "  def __init__(self,\n",
        "               commerce_district_data_path: str, commerce_district_data = None, soho_commerce_data = None):\n",
        "    # 생성자를 활용하여 초기화하고 클래스 내부에 캡슐화\n",
        "\n",
        "    commerce_district_data_chunk = pd.read_csv(\n",
        "        commerce_district_data_path, chunksize = 10**5,\n",
        "        index_col = False, na_values = \"NaN\", encoding = \"utf-8\")\n",
        "    commerce_district_data_list = list(commerce_district_data_chunk)\n",
        "      # 용량이 큰 csv 파일 읽어오기(fopen - fread와 유사한 방식)\n",
        "    self.commerce_district_data = pd.concat(commerce_district_data_list)\n",
        "    self.soho_commerce_data = soho_commerce_data\n",
        "\n",
        "\n",
        "  def chunkDataMerge(self, column_name_list: List, codebook_filepath: str, district_file_path: str,\n",
        "                     left_join_key1: str, right_join_key1: str, left_join_key2: str, right_join_key2: str):\n",
        "    self.commerce_district_data.columns = column_name_list\n",
        "    codebook = pd.read_csv(codebook_filepath, index_col = False)\n",
        "    district_code = pd.read_csv(district_file_path, index_col = False, encoding = \"euc-kr\")\n",
        "\n",
        "    self.commerce_district_data = pd.merge(\n",
        "        left = self.commerce_district_data, right = codebook,\n",
        "        left_on = left_join_key1, right_on = right_join_key1, how = \"left\")\n",
        "    # display(self.commerce_district_data.info())\n",
        "    # display(district_code.info())\n",
        "\n",
        "    self.commerce_district_data.drop(right_join_key1, axis = 1, inplace = True)\n",
        "    self.commerce_district_data = pd.merge(\n",
        "        left = self.commerce_district_data, right = district_code[[\"상권_구분_코드_명\", \"상권_코드\", \"상권_코드_명\"]],\n",
        "        left_on = left_join_key2, right_on = right_join_key2, how = \"left\")\n",
        "\n",
        "    return self.commerce_district_data\n",
        "\n",
        "\n",
        "  def splitMonthlyData(self, month: int):\n",
        "    soho_sales_grade_list: List = []\n",
        "    while month < 202213:\n",
        "      soho_sales_grade_list.append(\n",
        "          self.commerce_district_data.loc[self.commerce_district_data[\"데이터기준연월\"] == month])\n",
        "      month += 1\n",
        "\n",
        "    return soho_sales_grade_list\n",
        "\n",
        "\n",
        "  def mergeData(self, soho_credit_list: List, sales_grade_list: List,\n",
        "                left_join_key: str, right_join_key: str):\n",
        "    self.soho_commerce_data: List = []\n",
        "    for index in range(0, 11, 1):\n",
        "      self.soho_commerce_data(\n",
        "          pd.merge(left = soho_credit_list[index], right = sales_grade_list[index],\n",
        "                  left_on = left_join_key, right_on = right_join_key, how = \"left\"))\n",
        "\n",
        "    return self.soho_commerce_data"
      ],
      "metadata": {
        "id": "qi1G26YQKU1u"
      },
      "execution_count": 193,
      "outputs": []
    },
    {
      "cell_type": "code",
      "source": [
        "soho_sales_grade = LoadData(\n",
        "    commerce_district_data_path = \"/content/drive/MyDrive/2023BigContest/data/대회제공/필지단위 소상공인 매출등급 정보.csv\")\n",
        "commerce_district_sales = soho_sales_grade.chunkDataMerge(\n",
        "    column_name_list = [\"데이터기준연월\", \"필지고유번호\", \"법정동읍면동코드\", \"업종코드\", \"매출등급\"],\n",
        "    codebook_filepath = \"/content/drive/MyDrive/2023BigContest/data/market_loc_map.csv\",\n",
        "    left_join_key1 = \"법정동읍면동코드\", right_join_key1 = \"STDG_EMD_CD\",\n",
        "    district_file_path = \"/content/drive/MyDrive/2023BigContest/data/서울시 상권분석서비스(상권영역).csv\",\n",
        "    left_join_key2 = \"상권_코드\", right_join_key2 = \"상권_코드\")"
      ],
      "metadata": {
        "id": "rS4UKX2Ajjbe",
        "colab": {
          "base_uri": "https://localhost:8080/",
          "height": 641
        },
        "outputId": "c95e95bc-236a-4c7e-fbd0-087224fa84f5"
      },
      "execution_count": 195,
      "outputs": [
        {
          "output_type": "stream",
          "name": "stdout",
          "text": [
            "<class 'pandas.core.frame.DataFrame'>\n",
            "Int64Index: 13138513 entries, 0 to 13138512\n",
            "Data columns (total 8 columns):\n",
            " #   Column       Dtype  \n",
            "---  ------       -----  \n",
            " 0   데이터기준연월      int64  \n",
            " 1   필지고유번호       float64\n",
            " 2   법정동읍면동코드     int64  \n",
            " 3   업종코드         object \n",
            " 4   매출등급         int64  \n",
            " 5   상권_코드        float64\n",
            " 6   행정동_코드       float64\n",
            " 7   STDG_EMD_CD  float64\n",
            "dtypes: float64(4), int64(3), object(1)\n",
            "memory usage: 902.2+ MB\n"
          ]
        },
        {
          "output_type": "display_data",
          "data": {
            "text/plain": [
              "None"
            ]
          },
          "metadata": {}
        },
        {
          "output_type": "stream",
          "name": "stdout",
          "text": [
            "<class 'pandas.core.frame.DataFrame'>\n",
            "RangeIndex: 1650 entries, 0 to 1649\n",
            "Data columns (total 10 columns):\n",
            " #   Column      Non-Null Count  Dtype  \n",
            "---  ------      --------------  -----  \n",
            " 0   기준_년월_코드    1650 non-null   int64  \n",
            " 1   상권_구분_코드    1650 non-null   object \n",
            " 2   상권_구분_코드_명  1650 non-null   object \n",
            " 3   상권_코드       1650 non-null   int64  \n",
            " 4   상권_코드_명     1650 non-null   object \n",
            " 5   엑스좌표_값      1650 non-null   int64  \n",
            " 6   와이좌표_값      1650 non-null   int64  \n",
            " 7   시군구_코드      1650 non-null   int64  \n",
            " 8   행정동_코드      1650 non-null   int64  \n",
            " 9   형태정보        0 non-null      float64\n",
            "dtypes: float64(1), int64(6), object(3)\n",
            "memory usage: 129.0+ KB\n"
          ]
        },
        {
          "output_type": "display_data",
          "data": {
            "text/plain": [
              "None"
            ]
          },
          "metadata": {}
        }
      ]
    },
    {
      "cell_type": "code",
      "source": [
        "soho_sales_grade_list = soho_sales_grade.splitMonthlyData(month = 202201)"
      ],
      "metadata": {
        "id": "SjSI4c2zuh60"
      },
      "execution_count": 196,
      "outputs": []
    },
    {
      "cell_type": "markdown",
      "source": [
        "```\n",
        "STDG_EMD_CD_codebook = pd.read_excel(\n",
        "    \"/content/drive/MyDrive/2023BigContest/data/대회제공/소상공인 매출등급 예상 대상 필지.xlsx\",\n",
        "    sheet_name = 0,\n",
        "    index_col = None)\n",
        "STDG_EMD_CD_codebook.drop([\"SLS_GRD_2301\", \"SLS_GRD_2302\"], axis = 1, inplace = True)\n",
        "  # [법정동읍면동코드] 시, 구 아래에 두며 그 아래에는 통과 반이 있는, 법률로 지정한 행정 구역의 정보를 나타내는 기호 체계\n",
        "  # 법정동(10자리)의 구성: 광역시(2자리)+시군구(3자리)+읍면동(3자리)+리(2자리)\n",
        "  # 법정동코드 10자리 중 앞6번째부터 8번째자리(101:청운동, 101:신교동…)\n",
        "display(STDG_EMD_CD_codebook)\n",
        "  # 고유식별자는 총 10,000행\n",
        "  # [매출등급] 특정 필지의 '평당추정매출/평당월임대료'\n",
        "```"
      ],
      "metadata": {
        "id": "D6CAdSSMujA4"
      }
    },
    {
      "cell_type": "code",
      "source": [
        "display(credit_data_list[10]), display(soho_sales_grade_list[10])\n",
        "  # 2022년과 2023의 상권코드는 체계가 다른것으로 추정되어 TABLE JOIN하였으나 모두 NULL값으로 반환"
      ],
      "metadata": {
        "id": "MmuKDKXRrDfW"
      },
      "execution_count": null,
      "outputs": []
    },
    {
      "cell_type": "code",
      "source": [
        "soho_commerce_merge_data = soho_sales_grade.mergeData(\n",
        "    soho_credit_list = credit_data_list, sales_grade_list = soho_sales_grade_list,\n",
        "    left_join_key = \"상권코드\", right_join_key = \"상권_코드\")"
      ],
      "metadata": {
        "id": "2s_qDcAn0mvk"
      },
      "execution_count": null,
      "outputs": []
    },
    {
      "cell_type": "markdown",
      "source": [
        "```\n",
        "# VarianceInflationFactor()\n",
        "# VIF(분산팽창인자) 값에 따른 최소한 모형 적합 시 입력할 독립변수의 수 파악을 위한 반복문 수행\n",
        "  def VarainceInflationFactor(self,\n",
        "                              X_train_data: pd.DataFrame(), X_test_data: pd.DataFrame(),\n",
        "                              # num_variables: int,\n",
        "                              Y_train_data: pd.DataFrame(), Y_test_data: pd.DataFrame()):\n",
        "\n",
        "    evaluation_train = pd.DataFrame()\n",
        "    evaluation_test = pd.DataFrame()\n",
        "\n",
        "    for index in tqdm( range(1, len(X_train_data.columns) + 1)):\n",
        "\n",
        "    # 분산팽창인자를 피처 수별로 구한 후 오름차순하여 vif 데이터프레임에 저장(다중공선성 문제로 나머지 변수 제외)\n",
        "    # X_train_data에서 변수 index 수만큼의 피처(독립변수)만 남기고 나머지 변수 제외하여 X_train_fe_scaling_multiple 생성\n",
        "    # X_train_test도 이하 상동\n",
        "      vif = pd.DataFrame()\n",
        "      vif[\"VIF_factor\"] = [variance_inflation_factor(X_train_data.values, index)\n",
        "                          for index in range(X_train_data.shape[1]) ]\n",
        "      vif[\"Features\"] = X_train_data.columns\n",
        "      # print(vif)\n",
        "      X_column_vif = vif.sort_values(by = \"VIF_factor\", ascending = True)[\"Features\"][:index].values\n",
        "        # TypeError: 'NoneType' object is not subscriptable\n",
        "\n",
        "      X_train_fe_scaling_multiple, X_test_fe_scaling_multiple = X_train_data[X_column_vif].copy(), X_test_data[X_column_vif].copy()\n",
        "```"
      ],
      "metadata": {
        "id": "fmwkgWqA3-M6"
      }
    },
    {
      "cell_type": "code",
      "source": [],
      "metadata": {
        "id": "U3AD5KwnELDK"
      },
      "execution_count": null,
      "outputs": []
    }
  ]
}